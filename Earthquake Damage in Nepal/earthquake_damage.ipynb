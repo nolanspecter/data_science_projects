{
 "cells": [
  {
   "attachments": {},
   "cell_type": "markdown",
   "id": "7adfb2a2-f887-41a8-8003-6744801b7780",
   "metadata": {
    "deletable": false,
    "editable": false
   },
   "source": [
    "<font size=\"+3\"><strong>Earthquake Damage in Kavrepalanchok 🇳🇵</strong></font>"
   ]
  },
  {
   "cell_type": "code",
   "execution_count": 69,
   "id": "2ef8eaa3-d1c0-42f7-87f9-ace7e1a4f712",
   "metadata": {
    "deletable": false
   },
   "outputs": [],
   "source": [
    "import sqlite3\n",
    "import pandas as pd\n",
    "import matplotlib.pyplot as plt\n",
    "import seaborn as sns\n",
    "import numpy as np\n",
    "\n",
    "from category_encoders import OneHotEncoder, OrdinalEncoder\n",
    "from sklearn.linear_model import LogisticRegression\n",
    "from sklearn.model_selection import train_test_split\n",
    "from sklearn.pipeline import Pipeline, make_pipeline\n",
    "from sklearn.tree import DecisionTreeClassifier, plot_tree"
   ]
  },
  {
   "attachments": {},
   "cell_type": "markdown",
   "id": "0cec9bac-5fb3-4ad8-9ed3-d6d754160640",
   "metadata": {
    "deletable": false,
    "editable": false
   },
   "source": [
    "# Prepare Data"
   ]
  },
  {
   "attachments": {},
   "cell_type": "markdown",
   "id": "bda33c00-118e-4000-92b8-536e4a4108d5",
   "metadata": {
    "deletable": false,
    "editable": false
   },
   "source": [
    "## Connect"
   ]
  },
  {
   "cell_type": "code",
   "execution_count": 13,
   "id": "b4f41e25-9e0f-4736-ae75-ab8e51bffcfb",
   "metadata": {
    "deletable": false
   },
   "outputs": [
    {
     "name": "stdout",
     "output_type": "stream",
     "text": [
      "The sql extension is already loaded. To reload it, use:\n",
      "  %reload_ext sql\n"
     ]
    },
    {
     "data": {
      "text/plain": [
       "'Connected: @/home/jovyan/nepal.sqlite'"
      ]
     },
     "execution_count": 13,
     "metadata": {},
     "output_type": "execute_result"
    }
   ],
   "source": [
    "%load_ext sql\n",
    "%sql sqlite:////home/jovyan/nepal.sqlite"
   ]
  },
  {
   "attachments": {},
   "cell_type": "markdown",
   "id": "fef7dca8-4955-43b0-b78d-d839702ab257",
   "metadata": {
    "deletable": false,
    "editable": false
   },
   "source": [
    "Get unique `district_id` from `id_map`"
   ]
  },
  {
   "cell_type": "code",
   "execution_count": 14,
   "id": "e0fe1e67-0bf7-4955-83a8-c355a73c231d",
   "metadata": {
    "deletable": false
   },
   "outputs": [
    {
     "name": "stdout",
     "output_type": "stream",
     "text": [
      " * sqlite:////home/jovyan/nepal.sqlite\n",
      "Done.\n"
     ]
    },
    {
     "data": {
      "text/html": [
       "<table>\n",
       "    <thead>\n",
       "        <tr>\n",
       "            <th>district_id</th>\n",
       "        </tr>\n",
       "    </thead>\n",
       "    <tbody>\n",
       "        <tr>\n",
       "            <td>1</td>\n",
       "        </tr>\n",
       "        <tr>\n",
       "            <td>2</td>\n",
       "        </tr>\n",
       "        <tr>\n",
       "            <td>3</td>\n",
       "        </tr>\n",
       "        <tr>\n",
       "            <td>4</td>\n",
       "        </tr>\n",
       "    </tbody>\n",
       "</table>"
      ],
      "text/plain": [
       "[(1,), (2,), (3,), (4,)]"
      ]
     },
     "execution_count": 14,
     "metadata": {},
     "output_type": "execute_result"
    }
   ],
   "source": [
    "%%sql\n",
    "SELECT DISTINCT(district_id)\n",
    "FROM id_map\n"
   ]
  },
  {
   "attachments": {},
   "cell_type": "markdown",
   "id": "a2d265c6-ebf5-4cd1-b414-6dbc58a62119",
   "metadata": {
    "deletable": false,
    "editable": false
   },
   "source": [
    "Count the number of observations in the `id_map` table associated with Kavrepalanchok."
   ]
  },
  {
   "cell_type": "code",
   "execution_count": 40,
   "id": "ed88fe76-9572-4bc3-b8d0-f9bdff06d1b8",
   "metadata": {
    "deletable": false
   },
   "outputs": [
    {
     "name": "stdout",
     "output_type": "stream",
     "text": [
      " * sqlite:////home/jovyan/nepal.sqlite\n",
      "Done.\n"
     ]
    },
    {
     "data": {
      "text/html": [
       "<table>\n",
       "    <thead>\n",
       "        <tr>\n",
       "            <th>COUNT(*)</th>\n",
       "        </tr>\n",
       "    </thead>\n",
       "    <tbody>\n",
       "        <tr>\n",
       "            <td>82684</td>\n",
       "        </tr>\n",
       "    </tbody>\n",
       "</table>"
      ],
      "text/plain": [
       "[(82684,)]"
      ]
     },
     "execution_count": 40,
     "metadata": {},
     "output_type": "execute_result"
    }
   ],
   "source": [
    "%%sql\n",
    "SELECT COUNT(*)\n",
    "FROM id_map\n",
    "WHERE district_id = 3"
   ]
  },
  {
   "cell_type": "code",
   "execution_count": 22,
   "id": "4f19b935-07ec-4e13-a780-5aae82f8dfb3",
   "metadata": {
    "deletable": false
   },
   "outputs": [
    {
     "name": "stdout",
     "output_type": "stream",
     "text": [
      " * sqlite:////home/jovyan/nepal.sqlite\n",
      "Done.\n"
     ]
    },
    {
     "data": {
      "text/html": [
       "<table>\n",
       "    <thead>\n",
       "        <tr>\n",
       "            <th>b_id</th>\n",
       "            <th>building_id</th>\n",
       "            <th>count_floors_pre_eq</th>\n",
       "            <th>count_floors_post_eq</th>\n",
       "            <th>age_building</th>\n",
       "            <th>plinth_area_sq_ft</th>\n",
       "            <th>height_ft_pre_eq</th>\n",
       "            <th>height_ft_post_eq</th>\n",
       "            <th>land_surface_condition</th>\n",
       "            <th>foundation_type</th>\n",
       "            <th>roof_type</th>\n",
       "            <th>ground_floor_type</th>\n",
       "            <th>other_floor_type</th>\n",
       "            <th>position</th>\n",
       "            <th>plan_configuration</th>\n",
       "            <th>condition_post_eq</th>\n",
       "            <th>superstructure</th>\n",
       "            <th>damage_grade</th>\n",
       "        </tr>\n",
       "    </thead>\n",
       "    <tbody>\n",
       "        <tr>\n",
       "            <td>87473</td>\n",
       "            <td>87473</td>\n",
       "            <td>2</td>\n",
       "            <td>1</td>\n",
       "            <td>15</td>\n",
       "            <td>382</td>\n",
       "            <td>18</td>\n",
       "            <td>7</td>\n",
       "            <td>Flat</td>\n",
       "            <td>Mud mortar-Stone/Brick</td>\n",
       "            <td>Bamboo/Timber-Light roof</td>\n",
       "            <td>Mud</td>\n",
       "            <td>TImber/Bamboo-Mud</td>\n",
       "            <td>Not attached</td>\n",
       "            <td>Rectangular</td>\n",
       "            <td>Damaged-Used in risk</td>\n",
       "            <td>Stone, mud mortar</td>\n",
       "            <td>Grade 4</td>\n",
       "        </tr>\n",
       "        <tr>\n",
       "            <td>87479</td>\n",
       "            <td>87479</td>\n",
       "            <td>1</td>\n",
       "            <td>0</td>\n",
       "            <td>12</td>\n",
       "            <td>328</td>\n",
       "            <td>7</td>\n",
       "            <td>0</td>\n",
       "            <td>Flat</td>\n",
       "            <td>Mud mortar-Stone/Brick</td>\n",
       "            <td>Bamboo/Timber-Light roof</td>\n",
       "            <td>Mud</td>\n",
       "            <td>Not applicable</td>\n",
       "            <td>Not attached</td>\n",
       "            <td>Rectangular</td>\n",
       "            <td>Damaged-Rubble clear</td>\n",
       "            <td>Stone, mud mortar</td>\n",
       "            <td>Grade 5</td>\n",
       "        </tr>\n",
       "        <tr>\n",
       "            <td>87482</td>\n",
       "            <td>87482</td>\n",
       "            <td>2</td>\n",
       "            <td>1</td>\n",
       "            <td>23</td>\n",
       "            <td>427</td>\n",
       "            <td>20</td>\n",
       "            <td>7</td>\n",
       "            <td>Flat</td>\n",
       "            <td>Mud mortar-Stone/Brick</td>\n",
       "            <td>Bamboo/Timber-Light roof</td>\n",
       "            <td>Mud</td>\n",
       "            <td>TImber/Bamboo-Mud</td>\n",
       "            <td>Not attached</td>\n",
       "            <td>Rectangular</td>\n",
       "            <td>Damaged-Not used</td>\n",
       "            <td>Stone, mud mortar</td>\n",
       "            <td>Grade 4</td>\n",
       "        </tr>\n",
       "        <tr>\n",
       "            <td>87491</td>\n",
       "            <td>87491</td>\n",
       "            <td>2</td>\n",
       "            <td>1</td>\n",
       "            <td>12</td>\n",
       "            <td>427</td>\n",
       "            <td>14</td>\n",
       "            <td>7</td>\n",
       "            <td>Flat</td>\n",
       "            <td>Mud mortar-Stone/Brick</td>\n",
       "            <td>Bamboo/Timber-Light roof</td>\n",
       "            <td>Mud</td>\n",
       "            <td>TImber/Bamboo-Mud</td>\n",
       "            <td>Not attached</td>\n",
       "            <td>Rectangular</td>\n",
       "            <td>Damaged-Not used</td>\n",
       "            <td>Stone, mud mortar</td>\n",
       "            <td>Grade 4</td>\n",
       "        </tr>\n",
       "        <tr>\n",
       "            <td>87496</td>\n",
       "            <td>87496</td>\n",
       "            <td>2</td>\n",
       "            <td>0</td>\n",
       "            <td>32</td>\n",
       "            <td>360</td>\n",
       "            <td>18</td>\n",
       "            <td>0</td>\n",
       "            <td>Flat</td>\n",
       "            <td>Mud mortar-Stone/Brick</td>\n",
       "            <td>Bamboo/Timber-Light roof</td>\n",
       "            <td>Mud</td>\n",
       "            <td>TImber/Bamboo-Mud</td>\n",
       "            <td>Not attached</td>\n",
       "            <td>Rectangular</td>\n",
       "            <td>Damaged-Rubble clear</td>\n",
       "            <td>Stone, mud mortar</td>\n",
       "            <td>Grade 5</td>\n",
       "        </tr>\n",
       "    </tbody>\n",
       "</table>"
      ],
      "text/plain": [
       "[(87473, 87473, 2, 1, 15, 382, 18, 7, 'Flat', 'Mud mortar-Stone/Brick', 'Bamboo/Timber-Light roof', 'Mud', 'TImber/Bamboo-Mud', 'Not attached', 'Rectangular', 'Damaged-Used in risk', 'Stone, mud mortar', 'Grade 4'),\n",
       " (87479, 87479, 1, 0, 12, 328, 7, 0, 'Flat', 'Mud mortar-Stone/Brick', 'Bamboo/Timber-Light roof', 'Mud', 'Not applicable', 'Not attached', 'Rectangular', 'Damaged-Rubble clear', 'Stone, mud mortar', 'Grade 5'),\n",
       " (87482, 87482, 2, 1, 23, 427, 20, 7, 'Flat', 'Mud mortar-Stone/Brick', 'Bamboo/Timber-Light roof', 'Mud', 'TImber/Bamboo-Mud', 'Not attached', 'Rectangular', 'Damaged-Not used', 'Stone, mud mortar', 'Grade 4'),\n",
       " (87491, 87491, 2, 1, 12, 427, 14, 7, 'Flat', 'Mud mortar-Stone/Brick', 'Bamboo/Timber-Light roof', 'Mud', 'TImber/Bamboo-Mud', 'Not attached', 'Rectangular', 'Damaged-Not used', 'Stone, mud mortar', 'Grade 4'),\n",
       " (87496, 87496, 2, 0, 32, 360, 18, 0, 'Flat', 'Mud mortar-Stone/Brick', 'Bamboo/Timber-Light roof', 'Mud', 'TImber/Bamboo-Mud', 'Not attached', 'Rectangular', 'Damaged-Rubble clear', 'Stone, mud mortar', 'Grade 5')]"
      ]
     },
     "execution_count": 22,
     "metadata": {},
     "output_type": "execute_result"
    }
   ],
   "source": [
    "%%sql\n",
    "SELECT DISTINCT(I.building_id) AS b_id, B.*, D.damage_grade\n",
    "FROM id_map AS I\n",
    "JOIN building_structure AS B\n",
    "ON I.building_id = B.building_id\n",
    "JOIN building_damage AS D\n",
    "ON B.building_id = D.building_id\n",
    "WHERE district_id = 3\n",
    "LIMIT 5"
   ]
  },
  {
   "attachments": {},
   "cell_type": "markdown",
   "id": "fa6700bb-fcf9-417f-92cd-83805a049873",
   "metadata": {
    "deletable": false,
    "editable": false
   },
   "source": [
    "## Import"
   ]
  },
  {
   "attachments": {},
   "cell_type": "markdown",
   "id": "38989cd1-b725-4c23-b734-789f9f5315b9",
   "metadata": {
    "deletable": false,
    "editable": false
   },
   "source": [
    "1. Create a `\"severe_damage\"` column, where all buildings with a damage grade greater than `3` are encoded as `1`. All other buildings are encoded at `0`. \n",
    "2. Drop any columns that could cause issues with leakage, multicollinearity or low/high cardinality in the model."
   ]
  },
  {
   "cell_type": "code",
   "execution_count": 25,
   "id": "20fd1370-8034-4f96-a525-cc5c8153ca0e",
   "metadata": {
    "deletable": false
   },
   "outputs": [],
   "source": [
    "# Build your `wrangle` function here\n",
    "def wrangle(data_path):\n",
    "    conn = sqlite3.connect(data_path)\n",
    "    query = \"\"\"\n",
    "        SELECT DISTINCT(I.building_id) AS b_id, B.*, D.damage_grade\n",
    "        FROM id_map AS I\n",
    "        JOIN building_structure AS B\n",
    "        ON I.building_id = B.building_id\n",
    "        JOIN building_damage AS D\n",
    "        ON B.building_id = D.building_id\n",
    "        WHERE district_id = 3\n",
    "        \"\"\"\n",
    "    \n",
    "    df = pd.read_sql(query, conn, index_col = 'b_id')\n",
    "    \n",
    "    # Create target column\n",
    "    df[\"damage_grade\"] = df[\"damage_grade\"].str[-1].astype(int)\n",
    "    df[\"severe_damage\"] = (df[\"damage_grade\"] > 3).astype(int)\n",
    "    df.drop(['damage_grade'], axis=1, inplace=True)\n",
    "    \n",
    "    # Drop leakage\n",
    "    drop_cols = [col for col in df.columns if \"post_eq\" in col]\n",
    "    df.drop(drop_cols, axis=1, inplace=True)\n",
    "    \n",
    "    # Drop multilinear columns\n",
    "    df.drop([\"count_floors_pre_eq\"], axis=1, inplace=True)\n",
    "    \n",
    "    # Drop high cardinal columns\n",
    "    df.drop(['building_id'], axis=1, inplace=True)\n",
    "    \n",
    "    return df"
   ]
  },
  {
   "cell_type": "code",
   "execution_count": 26,
   "id": "c07f1e9c-3037-4cf7-b282-f3cad3985761",
   "metadata": {
    "deletable": false
   },
   "outputs": [
    {
     "data": {
      "text/html": [
       "<div>\n",
       "<style scoped>\n",
       "    .dataframe tbody tr th:only-of-type {\n",
       "        vertical-align: middle;\n",
       "    }\n",
       "\n",
       "    .dataframe tbody tr th {\n",
       "        vertical-align: top;\n",
       "    }\n",
       "\n",
       "    .dataframe thead th {\n",
       "        text-align: right;\n",
       "    }\n",
       "</style>\n",
       "<table border=\"1\" class=\"dataframe\">\n",
       "  <thead>\n",
       "    <tr style=\"text-align: right;\">\n",
       "      <th></th>\n",
       "      <th>age_building</th>\n",
       "      <th>plinth_area_sq_ft</th>\n",
       "      <th>height_ft_pre_eq</th>\n",
       "      <th>land_surface_condition</th>\n",
       "      <th>foundation_type</th>\n",
       "      <th>roof_type</th>\n",
       "      <th>ground_floor_type</th>\n",
       "      <th>other_floor_type</th>\n",
       "      <th>position</th>\n",
       "      <th>plan_configuration</th>\n",
       "      <th>superstructure</th>\n",
       "      <th>severe_damage</th>\n",
       "    </tr>\n",
       "    <tr>\n",
       "      <th>b_id</th>\n",
       "      <th></th>\n",
       "      <th></th>\n",
       "      <th></th>\n",
       "      <th></th>\n",
       "      <th></th>\n",
       "      <th></th>\n",
       "      <th></th>\n",
       "      <th></th>\n",
       "      <th></th>\n",
       "      <th></th>\n",
       "      <th></th>\n",
       "      <th></th>\n",
       "    </tr>\n",
       "  </thead>\n",
       "  <tbody>\n",
       "    <tr>\n",
       "      <th>87473</th>\n",
       "      <td>15</td>\n",
       "      <td>382</td>\n",
       "      <td>18</td>\n",
       "      <td>Flat</td>\n",
       "      <td>Mud mortar-Stone/Brick</td>\n",
       "      <td>Bamboo/Timber-Light roof</td>\n",
       "      <td>Mud</td>\n",
       "      <td>TImber/Bamboo-Mud</td>\n",
       "      <td>Not attached</td>\n",
       "      <td>Rectangular</td>\n",
       "      <td>Stone, mud mortar</td>\n",
       "      <td>1</td>\n",
       "    </tr>\n",
       "    <tr>\n",
       "      <th>87479</th>\n",
       "      <td>12</td>\n",
       "      <td>328</td>\n",
       "      <td>7</td>\n",
       "      <td>Flat</td>\n",
       "      <td>Mud mortar-Stone/Brick</td>\n",
       "      <td>Bamboo/Timber-Light roof</td>\n",
       "      <td>Mud</td>\n",
       "      <td>Not applicable</td>\n",
       "      <td>Not attached</td>\n",
       "      <td>Rectangular</td>\n",
       "      <td>Stone, mud mortar</td>\n",
       "      <td>1</td>\n",
       "    </tr>\n",
       "    <tr>\n",
       "      <th>87482</th>\n",
       "      <td>23</td>\n",
       "      <td>427</td>\n",
       "      <td>20</td>\n",
       "      <td>Flat</td>\n",
       "      <td>Mud mortar-Stone/Brick</td>\n",
       "      <td>Bamboo/Timber-Light roof</td>\n",
       "      <td>Mud</td>\n",
       "      <td>TImber/Bamboo-Mud</td>\n",
       "      <td>Not attached</td>\n",
       "      <td>Rectangular</td>\n",
       "      <td>Stone, mud mortar</td>\n",
       "      <td>1</td>\n",
       "    </tr>\n",
       "    <tr>\n",
       "      <th>87491</th>\n",
       "      <td>12</td>\n",
       "      <td>427</td>\n",
       "      <td>14</td>\n",
       "      <td>Flat</td>\n",
       "      <td>Mud mortar-Stone/Brick</td>\n",
       "      <td>Bamboo/Timber-Light roof</td>\n",
       "      <td>Mud</td>\n",
       "      <td>TImber/Bamboo-Mud</td>\n",
       "      <td>Not attached</td>\n",
       "      <td>Rectangular</td>\n",
       "      <td>Stone, mud mortar</td>\n",
       "      <td>1</td>\n",
       "    </tr>\n",
       "    <tr>\n",
       "      <th>87496</th>\n",
       "      <td>32</td>\n",
       "      <td>360</td>\n",
       "      <td>18</td>\n",
       "      <td>Flat</td>\n",
       "      <td>Mud mortar-Stone/Brick</td>\n",
       "      <td>Bamboo/Timber-Light roof</td>\n",
       "      <td>Mud</td>\n",
       "      <td>TImber/Bamboo-Mud</td>\n",
       "      <td>Not attached</td>\n",
       "      <td>Rectangular</td>\n",
       "      <td>Stone, mud mortar</td>\n",
       "      <td>1</td>\n",
       "    </tr>\n",
       "  </tbody>\n",
       "</table>\n",
       "</div>"
      ],
      "text/plain": [
       "       age_building  plinth_area_sq_ft  height_ft_pre_eq  \\\n",
       "b_id                                                       \n",
       "87473            15                382                18   \n",
       "87479            12                328                 7   \n",
       "87482            23                427                20   \n",
       "87491            12                427                14   \n",
       "87496            32                360                18   \n",
       "\n",
       "      land_surface_condition         foundation_type  \\\n",
       "b_id                                                   \n",
       "87473                   Flat  Mud mortar-Stone/Brick   \n",
       "87479                   Flat  Mud mortar-Stone/Brick   \n",
       "87482                   Flat  Mud mortar-Stone/Brick   \n",
       "87491                   Flat  Mud mortar-Stone/Brick   \n",
       "87496                   Flat  Mud mortar-Stone/Brick   \n",
       "\n",
       "                      roof_type ground_floor_type   other_floor_type  \\\n",
       "b_id                                                                   \n",
       "87473  Bamboo/Timber-Light roof               Mud  TImber/Bamboo-Mud   \n",
       "87479  Bamboo/Timber-Light roof               Mud     Not applicable   \n",
       "87482  Bamboo/Timber-Light roof               Mud  TImber/Bamboo-Mud   \n",
       "87491  Bamboo/Timber-Light roof               Mud  TImber/Bamboo-Mud   \n",
       "87496  Bamboo/Timber-Light roof               Mud  TImber/Bamboo-Mud   \n",
       "\n",
       "           position plan_configuration     superstructure  severe_damage  \n",
       "b_id                                                                      \n",
       "87473  Not attached        Rectangular  Stone, mud mortar              1  \n",
       "87479  Not attached        Rectangular  Stone, mud mortar              1  \n",
       "87482  Not attached        Rectangular  Stone, mud mortar              1  \n",
       "87491  Not attached        Rectangular  Stone, mud mortar              1  \n",
       "87496  Not attached        Rectangular  Stone, mud mortar              1  "
      ]
     },
     "execution_count": 26,
     "metadata": {},
     "output_type": "execute_result"
    }
   ],
   "source": [
    "df = wrangle('/home/jovyan/nepal.sqlite')\n",
    "df.head()"
   ]
  },
  {
   "attachments": {},
   "cell_type": "markdown",
   "id": "65aa9771-74b9-4bdf-b7c4-65ae0aa40ba7",
   "metadata": {
    "deletable": false,
    "editable": false
   },
   "source": [
    "## Explore"
   ]
  },
  {
   "cell_type": "code",
   "execution_count": 28,
   "id": "f2b8ee83-1a0d-4362-b1a2-c7882128c50b",
   "metadata": {
    "deletable": false
   },
   "outputs": [
    {
     "data": {
      "image/png": "[encoded data removed]",
      "text/plain": [
       "<Figure size 432x288 with 1 Axes>"
      ]
     },
     "metadata": {
      "needs_background": "light"
     },
     "output_type": "display_data"
    }
   ],
   "source": [
    "# Plot value counts of `\"severe_damage\"`\n",
    "df['severe_damage'].value_counts(normalize=True).plot(kind='bar')\n",
    "plt.xlabel('Severe Damage')\n",
    "plt.ylabel('Relative Frequency')\n",
    "plt.title('Kavreplanchok, Class Balance')\n",
    "# Don't delete the code below 👇\n",
    "plt.savefig(\"images/4-5-6.png\", dpi=150)\n"
   ]
  },
  {
   "cell_type": "code",
   "execution_count": 36,
   "id": "5442fab6-d0ee-4b03-82d8-d4b13b1d7f0a",
   "metadata": {
    "deletable": false
   },
   "outputs": [
    {
     "data": {
      "image/png": "[encoded data removed]",
      "text/plain": [
       "<Figure size 432x288 with 1 Axes>"
      ]
     },
     "metadata": {
      "needs_background": "light"
     },
     "output_type": "display_data"
    }
   ],
   "source": [
    "sns.boxplot(data = df, x='severe_damage', y='plinth_area_sq_ft')\n",
    "plt.xlabel(\"Severe Damage\")\n",
    "plt.ylabel('Plinth Area [sq. ft.]')\n",
    "plt.title('Kavrepalanchok, Plinth Area vs Building Damage')\n",
    "# Don't delete the code below 👇\n",
    "plt.savefig(\"images/4-5-7.png\", dpi=150)\n"
   ]
  },
  {
   "cell_type": "code",
   "execution_count": 42,
   "id": "d67cf52d-e656-4c22-a81e-deeef1d069bc",
   "metadata": {
    "deletable": false
   },
   "outputs": [
    {
     "data": {
      "text/html": [
       "<div>\n",
       "<style scoped>\n",
       "    .dataframe tbody tr th:only-of-type {\n",
       "        vertical-align: middle;\n",
       "    }\n",
       "\n",
       "    .dataframe tbody tr th {\n",
       "        vertical-align: top;\n",
       "    }\n",
       "\n",
       "    .dataframe thead th {\n",
       "        text-align: right;\n",
       "    }\n",
       "</style>\n",
       "<table border=\"1\" class=\"dataframe\">\n",
       "  <thead>\n",
       "    <tr style=\"text-align: right;\">\n",
       "      <th></th>\n",
       "      <th>severe_damage</th>\n",
       "    </tr>\n",
       "    <tr>\n",
       "      <th>roof_type</th>\n",
       "      <th></th>\n",
       "    </tr>\n",
       "  </thead>\n",
       "  <tbody>\n",
       "    <tr>\n",
       "      <th>Bamboo/Timber-Heavy roof</th>\n",
       "      <td>0.569477</td>\n",
       "    </tr>\n",
       "    <tr>\n",
       "      <th>Bamboo/Timber-Light roof</th>\n",
       "      <td>0.604842</td>\n",
       "    </tr>\n",
       "    <tr>\n",
       "      <th>RCC/RB/RBC</th>\n",
       "      <td>0.040715</td>\n",
       "    </tr>\n",
       "  </tbody>\n",
       "</table>\n",
       "</div>"
      ],
      "text/plain": [
       "                          severe_damage\n",
       "roof_type                              \n",
       "Bamboo/Timber-Heavy roof       0.569477\n",
       "Bamboo/Timber-Light roof       0.604842\n",
       "RCC/RB/RBC                     0.040715"
      ]
     },
     "execution_count": 42,
     "metadata": {},
     "output_type": "execute_result"
    }
   ],
   "source": [
    "roof_pivot = pd.pivot_table(df, index='roof_type', values='severe_damage', aggfunc=np.mean)\n",
    "roof_pivot"
   ]
  },
  {
   "attachments": {},
   "cell_type": "markdown",
   "id": "02c31a37-40d4-4898-81f3-68f08ce8cc2a",
   "metadata": {
    "deletable": false,
    "editable": false
   },
   "source": [
    "## Split"
   ]
  },
  {
   "cell_type": "code",
   "execution_count": 44,
   "id": "dd434d37-3528-4929-b3cf-3a40518fdbe2",
   "metadata": {
    "deletable": false
   },
   "outputs": [
    {
     "name": "stdout",
     "output_type": "stream",
     "text": [
      "X shape: (76533, 11)\n",
      "y shape: (76533,)\n"
     ]
    }
   ],
   "source": [
    "target = 'severe_damage'\n",
    "X = df.drop([target], axis=1)\n",
    "y = df[target]\n",
    "print(\"X shape:\", X.shape)\n",
    "print(\"y shape:\", y.shape)"
   ]
  },
  {
   "cell_type": "code",
   "execution_count": 50,
   "id": "dce122c9-97a9-40ff-bb09-2c8d28f1f6f5",
   "metadata": {
    "deletable": false
   },
   "outputs": [
    {
     "name": "stdout",
     "output_type": "stream",
     "text": [
      "X_train shape: (61226, 11)\n",
      "y_train shape: (61226,)\n",
      "X_val shape: (15307, 11)\n",
      "y_val shape: (15307,)\n"
     ]
    }
   ],
   "source": [
    "X_train, X_val, y_train, y_val = train_test_split(X, y, test_size=0.2, random_state=42)\n",
    "print(\"X_train shape:\", X_train.shape)\n",
    "print(\"y_train shape:\", y_train.shape)\n",
    "print(\"X_val shape:\", X_val.shape)\n",
    "print(\"y_val shape:\", y_val.shape)"
   ]
  },
  {
   "attachments": {},
   "cell_type": "markdown",
   "id": "bf76ec92-7473-4a25-ac72-a1ced1fd213a",
   "metadata": {
    "deletable": false,
    "editable": false
   },
   "source": [
    "# Build Model"
   ]
  },
  {
   "attachments": {},
   "cell_type": "markdown",
   "id": "59e1e4d3-3ff9-41f7-8a38-35d622517486",
   "metadata": {
    "deletable": false,
    "editable": false
   },
   "source": [
    "## Baseline"
   ]
  },
  {
   "attachments": {},
   "cell_type": "markdown",
   "id": "64ba0679-9abb-4a40-85b2-cdeb94481f72",
   "metadata": {
    "deletable": false,
    "editable": false
   },
   "source": [
    "**Task 4.5.11:** Calculate the baseline accuracy score for your model."
   ]
  },
  {
   "cell_type": "code",
   "execution_count": 54,
   "id": "c9ecd21e-06c2-4917-8ed4-228a1004cd9c",
   "metadata": {
    "deletable": false
   },
   "outputs": [
    {
     "name": "stdout",
     "output_type": "stream",
     "text": [
      "Baseline Accuracy: 0.55\n"
     ]
    }
   ],
   "source": [
    "acc_baseline = y_train.value_counts(normalize=True).max()\n",
    "print(\"Baseline Accuracy:\", round(acc_baseline, 2))"
   ]
  },
  {
   "attachments": {},
   "cell_type": "markdown",
   "id": "417d5536-9aa5-45f7-99db-946a792d5978",
   "metadata": {
    "deletable": false,
    "editable": false,
    "tags": []
   },
   "source": [
    "## Iterate"
   ]
  },
  {
   "attachments": {},
   "cell_type": "markdown",
   "id": "1028a961-792a-4ab5-b2cf-c2a7531a6099",
   "metadata": {
    "deletable": false,
    "editable": false
   },
   "source": [
    "### Logistic Regression"
   ]
  },
  {
   "cell_type": "code",
   "execution_count": 62,
   "id": "71ddc9e5-2c17-418e-ad3b-2eecf5ed7c1b",
   "metadata": {
    "deletable": false
   },
   "outputs": [
    {
     "data": {
      "text/html": [
       "<style>#sk-container-id-1 {color: black;background-color: white;}#sk-container-id-1 pre{padding: 0;}#sk-container-id-1 div.sk-toggleable {background-color: white;}#sk-container-id-1 label.sk-toggleable__label {cursor: pointer;display: block;width: 100%;margin-bottom: 0;padding: 0.3em;box-sizing: border-box;text-align: center;}#sk-container-id-1 label.sk-toggleable__label-arrow:before {content: \"▸\";float: left;margin-right: 0.25em;color: #696969;}#sk-container-id-1 label.sk-toggleable__label-arrow:hover:before {color: black;}#sk-container-id-1 div.sk-estimator:hover label.sk-toggleable__label-arrow:before {color: black;}#sk-container-id-1 div.sk-toggleable__content {max-height: 0;max-width: 0;overflow: hidden;text-align: left;background-color: #f0f8ff;}#sk-container-id-1 div.sk-toggleable__content pre {margin: 0.2em;color: black;border-radius: 0.25em;background-color: #f0f8ff;}#sk-container-id-1 input.sk-toggleable__control:checked~div.sk-toggleable__content {max-height: 200px;max-width: 100%;overflow: auto;}#sk-container-id-1 input.sk-toggleable__control:checked~label.sk-toggleable__label-arrow:before {content: \"▾\";}#sk-container-id-1 div.sk-estimator input.sk-toggleable__control:checked~label.sk-toggleable__label {background-color: #d4ebff;}#sk-container-id-1 div.sk-label input.sk-toggleable__control:checked~label.sk-toggleable__label {background-color: #d4ebff;}#sk-container-id-1 input.sk-hidden--visually {border: 0;clip: rect(1px 1px 1px 1px);clip: rect(1px, 1px, 1px, 1px);height: 1px;margin: -1px;overflow: hidden;padding: 0;position: absolute;width: 1px;}#sk-container-id-1 div.sk-estimator {font-family: monospace;background-color: #f0f8ff;border: 1px dotted black;border-radius: 0.25em;box-sizing: border-box;margin-bottom: 0.5em;}#sk-container-id-1 div.sk-estimator:hover {background-color: #d4ebff;}#sk-container-id-1 div.sk-parallel-item::after {content: \"\";width: 100%;border-bottom: 1px solid gray;flex-grow: 1;}#sk-container-id-1 div.sk-label:hover label.sk-toggleable__label {background-color: #d4ebff;}#sk-container-id-1 div.sk-serial::before {content: \"\";position: absolute;border-left: 1px solid gray;box-sizing: border-box;top: 0;bottom: 0;left: 50%;z-index: 0;}#sk-container-id-1 div.sk-serial {display: flex;flex-direction: column;align-items: center;background-color: white;padding-right: 0.2em;padding-left: 0.2em;position: relative;}#sk-container-id-1 div.sk-item {position: relative;z-index: 1;}#sk-container-id-1 div.sk-parallel {display: flex;align-items: stretch;justify-content: center;background-color: white;position: relative;}#sk-container-id-1 div.sk-item::before, #sk-container-id-1 div.sk-parallel-item::before {content: \"\";position: absolute;border-left: 1px solid gray;box-sizing: border-box;top: 0;bottom: 0;left: 50%;z-index: -1;}#sk-container-id-1 div.sk-parallel-item {display: flex;flex-direction: column;z-index: 1;position: relative;background-color: white;}#sk-container-id-1 div.sk-parallel-item:first-child::after {align-self: flex-end;width: 50%;}#sk-container-id-1 div.sk-parallel-item:last-child::after {align-self: flex-start;width: 50%;}#sk-container-id-1 div.sk-parallel-item:only-child::after {width: 0;}#sk-container-id-1 div.sk-dashed-wrapped {border: 1px dashed gray;margin: 0 0.4em 0.5em 0.4em;box-sizing: border-box;padding-bottom: 0.4em;background-color: white;}#sk-container-id-1 div.sk-label label {font-family: monospace;font-weight: bold;display: inline-block;line-height: 1.2em;}#sk-container-id-1 div.sk-label-container {text-align: center;}#sk-container-id-1 div.sk-container {/* jupyter's `normalize.less` sets `[hidden] { display: none; }` but bootstrap.min.css set `[hidden] { display: none !important; }` so we also need the `!important` here to be able to override the default hidden behavior on the sphinx rendered scikit-learn.org. See: https://github.com/scikit-learn/scikit-learn/issues/21755 */display: inline-block !important;position: relative;}#sk-container-id-1 div.sk-text-repr-fallback {display: none;}</style><div id=\"sk-container-id-1\" class=\"sk-top-container\"><div class=\"sk-text-repr-fallback\"><pre>Pipeline(steps=[(&#x27;onehotencoder&#x27;,\n",
       "                 OneHotEncoder(cols=[&#x27;land_surface_condition&#x27;,\n",
       "                                     &#x27;foundation_type&#x27;, &#x27;roof_type&#x27;,\n",
       "                                     &#x27;ground_floor_type&#x27;, &#x27;other_floor_type&#x27;,\n",
       "                                     &#x27;position&#x27;, &#x27;plan_configuration&#x27;,\n",
       "                                     &#x27;superstructure&#x27;],\n",
       "                               use_cat_names=True)),\n",
       "                (&#x27;logisticregression&#x27;, LogisticRegression(max_iter=1000))])</pre><b>In a Jupyter environment, please rerun this cell to show the HTML representation or trust the notebook. <br />On GitHub, the HTML representation is unable to render, please try loading this page with nbviewer.org.</b></div><div class=\"sk-container\" hidden><div class=\"sk-item sk-dashed-wrapped\"><div class=\"sk-label-container\"><div class=\"sk-label sk-toggleable\"><input class=\"sk-toggleable__control sk-hidden--visually\" id=\"sk-estimator-id-1\" type=\"checkbox\" ><label for=\"sk-estimator-id-1\" class=\"sk-toggleable__label sk-toggleable__label-arrow\">Pipeline</label><div class=\"sk-toggleable__content\"><pre>Pipeline(steps=[(&#x27;onehotencoder&#x27;,\n",
       "                 OneHotEncoder(cols=[&#x27;land_surface_condition&#x27;,\n",
       "                                     &#x27;foundation_type&#x27;, &#x27;roof_type&#x27;,\n",
       "                                     &#x27;ground_floor_type&#x27;, &#x27;other_floor_type&#x27;,\n",
       "                                     &#x27;position&#x27;, &#x27;plan_configuration&#x27;,\n",
       "                                     &#x27;superstructure&#x27;],\n",
       "                               use_cat_names=True)),\n",
       "                (&#x27;logisticregression&#x27;, LogisticRegression(max_iter=1000))])</pre></div></div></div><div class=\"sk-serial\"><div class=\"sk-item\"><div class=\"sk-estimator sk-toggleable\"><input class=\"sk-toggleable__control sk-hidden--visually\" id=\"sk-estimator-id-2\" type=\"checkbox\" ><label for=\"sk-estimator-id-2\" class=\"sk-toggleable__label sk-toggleable__label-arrow\">OneHotEncoder</label><div class=\"sk-toggleable__content\"><pre>OneHotEncoder(cols=[&#x27;land_surface_condition&#x27;, &#x27;foundation_type&#x27;, &#x27;roof_type&#x27;,\n",
       "                    &#x27;ground_floor_type&#x27;, &#x27;other_floor_type&#x27;, &#x27;position&#x27;,\n",
       "                    &#x27;plan_configuration&#x27;, &#x27;superstructure&#x27;],\n",
       "              use_cat_names=True)</pre></div></div></div><div class=\"sk-item\"><div class=\"sk-estimator sk-toggleable\"><input class=\"sk-toggleable__control sk-hidden--visually\" id=\"sk-estimator-id-3\" type=\"checkbox\" ><label for=\"sk-estimator-id-3\" class=\"sk-toggleable__label sk-toggleable__label-arrow\">LogisticRegression</label><div class=\"sk-toggleable__content\"><pre>LogisticRegression(max_iter=1000)</pre></div></div></div></div></div></div></div>"
      ],
      "text/plain": [
       "Pipeline(steps=[('onehotencoder',\n",
       "                 OneHotEncoder(cols=['land_surface_condition',\n",
       "                                     'foundation_type', 'roof_type',\n",
       "                                     'ground_floor_type', 'other_floor_type',\n",
       "                                     'position', 'plan_configuration',\n",
       "                                     'superstructure'],\n",
       "                               use_cat_names=True)),\n",
       "                ('logisticregression', LogisticRegression(max_iter=1000))])"
      ]
     },
     "execution_count": 62,
     "metadata": {},
     "output_type": "execute_result"
    }
   ],
   "source": [
    "model_lr = make_pipeline(\n",
    "    OneHotEncoder(use_cat_names=True),\n",
    "    LogisticRegression(max_iter=1000)\n",
    ")\n",
    "model_lr.fit(X_train, y_train)"
   ]
  },
  {
   "cell_type": "code",
   "execution_count": 65,
   "id": "4df9fcb4-c627-4eed-985d-db6cc7b55a42",
   "metadata": {
    "deletable": false
   },
   "outputs": [
    {
     "name": "stdout",
     "output_type": "stream",
     "text": [
      "Logistic Regression, Training Accuracy Score: 0.6513735994512135\n",
      "Logistic Regression, Validation Accuracy Score: 0.6530998889397008\n"
     ]
    }
   ],
   "source": [
    "lr_train_acc = model_lr.score(X_train, y_train)\n",
    "lr_val_acc = model_lr.score(X_val, y_val)\n",
    "\n",
    "print(\"Logistic Regression, Training Accuracy Score:\", lr_train_acc)\n",
    "print(\"Logistic Regression, Validation Accuracy Score:\", lr_val_acc)"
   ]
  },
  {
   "attachments": {},
   "cell_type": "markdown",
   "id": "aeee54b5-3a37-4bd8-9dd6-d1dee9ed9bc6",
   "metadata": {
    "deletable": false,
    "editable": false
   },
   "source": [
    "### Decision Tree"
   ]
  },
  {
   "cell_type": "code",
   "execution_count": 73,
   "id": "7b41bf29-973d-4270-acd4-495c7c9de283",
   "metadata": {
    "deletable": false
   },
   "outputs": [],
   "source": [
    "depth_hyperparams = range(1, 16)\n",
    "training_acc = []\n",
    "validation_acc = []\n",
    "for d in depth_hyperparams:\n",
    "    model_dt = make_pipeline(\n",
    "        OrdinalEncoder(),\n",
    "        DecisionTreeClassifier(random_state=42, max_depth = d)\n",
    "    )\n",
    "    model_dt.fit(X_train, y_train)\n",
    "    training_acc.append(model_dt.score(X_train, y_train))\n",
    "    validation_acc.append(model_dt.score(X_val, y_val))\n",
    "    "
   ]
  },
  {
   "cell_type": "code",
   "execution_count": 77,
   "id": "b871f317-2c38-45fa-86c3-3446bf55a68f",
   "metadata": {
    "deletable": false
   },
   "outputs": [
    {
     "data": {
      "image/png": "[encoded data removed]",
      "text/plain": [
       "<Figure size 432x288 with 1 Axes>"
      ]
     },
     "metadata": {
      "needs_background": "light"
     },
     "output_type": "display_data"
    }
   ],
   "source": [
    "plt.plot(depth_hyperparams, training_acc, label='training accuracy')\n",
    "plt.plot(depth_hyperparams, validation_acc, label='validation accuracy')\n",
    "plt.xlabel('Max Depth')\n",
    "plt.ylabel(\"Accuracy Score\")\n",
    "plt.title(\"Valudation Curve, Decision Tree Model\")\n",
    "# Don't delete the code below 👇\n",
    "plt.savefig(\"images/4-5-15.png\", dpi=150)\n"
   ]
  },
  {
   "cell_type": "code",
   "execution_count": 81,
   "id": "3b05fdc0-547e-4fca-8111-82b90f3c223b",
   "metadata": {
    "deletable": false
   },
   "outputs": [
    {
     "data": {
      "text/html": [
       "<style>#sk-container-id-3 {color: black;background-color: white;}#sk-container-id-3 pre{padding: 0;}#sk-container-id-3 div.sk-toggleable {background-color: white;}#sk-container-id-3 label.sk-toggleable__label {cursor: pointer;display: block;width: 100%;margin-bottom: 0;padding: 0.3em;box-sizing: border-box;text-align: center;}#sk-container-id-3 label.sk-toggleable__label-arrow:before {content: \"▸\";float: left;margin-right: 0.25em;color: #696969;}#sk-container-id-3 label.sk-toggleable__label-arrow:hover:before {color: black;}#sk-container-id-3 div.sk-estimator:hover label.sk-toggleable__label-arrow:before {color: black;}#sk-container-id-3 div.sk-toggleable__content {max-height: 0;max-width: 0;overflow: hidden;text-align: left;background-color: #f0f8ff;}#sk-container-id-3 div.sk-toggleable__content pre {margin: 0.2em;color: black;border-radius: 0.25em;background-color: #f0f8ff;}#sk-container-id-3 input.sk-toggleable__control:checked~div.sk-toggleable__content {max-height: 200px;max-width: 100%;overflow: auto;}#sk-container-id-3 input.sk-toggleable__control:checked~label.sk-toggleable__label-arrow:before {content: \"▾\";}#sk-container-id-3 div.sk-estimator input.sk-toggleable__control:checked~label.sk-toggleable__label {background-color: #d4ebff;}#sk-container-id-3 div.sk-label input.sk-toggleable__control:checked~label.sk-toggleable__label {background-color: #d4ebff;}#sk-container-id-3 input.sk-hidden--visually {border: 0;clip: rect(1px 1px 1px 1px);clip: rect(1px, 1px, 1px, 1px);height: 1px;margin: -1px;overflow: hidden;padding: 0;position: absolute;width: 1px;}#sk-container-id-3 div.sk-estimator {font-family: monospace;background-color: #f0f8ff;border: 1px dotted black;border-radius: 0.25em;box-sizing: border-box;margin-bottom: 0.5em;}#sk-container-id-3 div.sk-estimator:hover {background-color: #d4ebff;}#sk-container-id-3 div.sk-parallel-item::after {content: \"\";width: 100%;border-bottom: 1px solid gray;flex-grow: 1;}#sk-container-id-3 div.sk-label:hover label.sk-toggleable__label {background-color: #d4ebff;}#sk-container-id-3 div.sk-serial::before {content: \"\";position: absolute;border-left: 1px solid gray;box-sizing: border-box;top: 0;bottom: 0;left: 50%;z-index: 0;}#sk-container-id-3 div.sk-serial {display: flex;flex-direction: column;align-items: center;background-color: white;padding-right: 0.2em;padding-left: 0.2em;position: relative;}#sk-container-id-3 div.sk-item {position: relative;z-index: 1;}#sk-container-id-3 div.sk-parallel {display: flex;align-items: stretch;justify-content: center;background-color: white;position: relative;}#sk-container-id-3 div.sk-item::before, #sk-container-id-3 div.sk-parallel-item::before {content: \"\";position: absolute;border-left: 1px solid gray;box-sizing: border-box;top: 0;bottom: 0;left: 50%;z-index: -1;}#sk-container-id-3 div.sk-parallel-item {display: flex;flex-direction: column;z-index: 1;position: relative;background-color: white;}#sk-container-id-3 div.sk-parallel-item:first-child::after {align-self: flex-end;width: 50%;}#sk-container-id-3 div.sk-parallel-item:last-child::after {align-self: flex-start;width: 50%;}#sk-container-id-3 div.sk-parallel-item:only-child::after {width: 0;}#sk-container-id-3 div.sk-dashed-wrapped {border: 1px dashed gray;margin: 0 0.4em 0.5em 0.4em;box-sizing: border-box;padding-bottom: 0.4em;background-color: white;}#sk-container-id-3 div.sk-label label {font-family: monospace;font-weight: bold;display: inline-block;line-height: 1.2em;}#sk-container-id-3 div.sk-label-container {text-align: center;}#sk-container-id-3 div.sk-container {/* jupyter's `normalize.less` sets `[hidden] { display: none; }` but bootstrap.min.css set `[hidden] { display: none !important; }` so we also need the `!important` here to be able to override the default hidden behavior on the sphinx rendered scikit-learn.org. See: https://github.com/scikit-learn/scikit-learn/issues/21755 */display: inline-block !important;position: relative;}#sk-container-id-3 div.sk-text-repr-fallback {display: none;}</style><div id=\"sk-container-id-3\" class=\"sk-top-container\"><div class=\"sk-text-repr-fallback\"><pre>Pipeline(steps=[(&#x27;ordinalencoder&#x27;,\n",
       "                 OrdinalEncoder(cols=[&#x27;land_surface_condition&#x27;,\n",
       "                                      &#x27;foundation_type&#x27;, &#x27;roof_type&#x27;,\n",
       "                                      &#x27;ground_floor_type&#x27;, &#x27;other_floor_type&#x27;,\n",
       "                                      &#x27;position&#x27;, &#x27;plan_configuration&#x27;,\n",
       "                                      &#x27;superstructure&#x27;],\n",
       "                                mapping=[{&#x27;col&#x27;: &#x27;land_surface_condition&#x27;,\n",
       "                                          &#x27;data_type&#x27;: dtype(&#x27;O&#x27;),\n",
       "                                          &#x27;mapping&#x27;: Flat              1\n",
       "Moderate slope    2\n",
       "Steep slope       3\n",
       "NaN              -2\n",
       "dtype: int64},\n",
       "                                         {&#x27;col&#x27;: &#x27;foundation_type&#x27;,\n",
       "                                          &#x27;dat...\n",
       "Building with Central Courtyard     9\n",
       "H-shape                            10\n",
       "NaN                                -2\n",
       "dtype: int64},\n",
       "                                         {&#x27;col&#x27;: &#x27;superstructure&#x27;,\n",
       "                                          &#x27;data_type&#x27;: dtype(&#x27;O&#x27;),\n",
       "                                          &#x27;mapping&#x27;: Stone, mud mortar        1\n",
       "Adobe/mud                2\n",
       "Brick, cement mortar     3\n",
       "RC, engineered           4\n",
       "Brick, mud mortar        5\n",
       "Stone, cement mortar     6\n",
       "RC, non-engineered       7\n",
       "Timber                   8\n",
       "Other                    9\n",
       "Bamboo                  10\n",
       "Stone                   11\n",
       "NaN                     -2\n",
       "dtype: int64}])),\n",
       "                (&#x27;decisiontreeclassifier&#x27;,\n",
       "                 DecisionTreeClassifier(max_depth=10, random_state=42))])</pre><b>In a Jupyter environment, please rerun this cell to show the HTML representation or trust the notebook. <br />On GitHub, the HTML representation is unable to render, please try loading this page with nbviewer.org.</b></div><div class=\"sk-container\" hidden><div class=\"sk-item sk-dashed-wrapped\"><div class=\"sk-label-container\"><div class=\"sk-label sk-toggleable\"><input class=\"sk-toggleable__control sk-hidden--visually\" id=\"sk-estimator-id-7\" type=\"checkbox\" ><label for=\"sk-estimator-id-7\" class=\"sk-toggleable__label sk-toggleable__label-arrow\">Pipeline</label><div class=\"sk-toggleable__content\"><pre>Pipeline(steps=[(&#x27;ordinalencoder&#x27;,\n",
       "                 OrdinalEncoder(cols=[&#x27;land_surface_condition&#x27;,\n",
       "                                      &#x27;foundation_type&#x27;, &#x27;roof_type&#x27;,\n",
       "                                      &#x27;ground_floor_type&#x27;, &#x27;other_floor_type&#x27;,\n",
       "                                      &#x27;position&#x27;, &#x27;plan_configuration&#x27;,\n",
       "                                      &#x27;superstructure&#x27;],\n",
       "                                mapping=[{&#x27;col&#x27;: &#x27;land_surface_condition&#x27;,\n",
       "                                          &#x27;data_type&#x27;: dtype(&#x27;O&#x27;),\n",
       "                                          &#x27;mapping&#x27;: Flat              1\n",
       "Moderate slope    2\n",
       "Steep slope       3\n",
       "NaN              -2\n",
       "dtype: int64},\n",
       "                                         {&#x27;col&#x27;: &#x27;foundation_type&#x27;,\n",
       "                                          &#x27;dat...\n",
       "Building with Central Courtyard     9\n",
       "H-shape                            10\n",
       "NaN                                -2\n",
       "dtype: int64},\n",
       "                                         {&#x27;col&#x27;: &#x27;superstructure&#x27;,\n",
       "                                          &#x27;data_type&#x27;: dtype(&#x27;O&#x27;),\n",
       "                                          &#x27;mapping&#x27;: Stone, mud mortar        1\n",
       "Adobe/mud                2\n",
       "Brick, cement mortar     3\n",
       "RC, engineered           4\n",
       "Brick, mud mortar        5\n",
       "Stone, cement mortar     6\n",
       "RC, non-engineered       7\n",
       "Timber                   8\n",
       "Other                    9\n",
       "Bamboo                  10\n",
       "Stone                   11\n",
       "NaN                     -2\n",
       "dtype: int64}])),\n",
       "                (&#x27;decisiontreeclassifier&#x27;,\n",
       "                 DecisionTreeClassifier(max_depth=10, random_state=42))])</pre></div></div></div><div class=\"sk-serial\"><div class=\"sk-item\"><div class=\"sk-estimator sk-toggleable\"><input class=\"sk-toggleable__control sk-hidden--visually\" id=\"sk-estimator-id-8\" type=\"checkbox\" ><label for=\"sk-estimator-id-8\" class=\"sk-toggleable__label sk-toggleable__label-arrow\">OrdinalEncoder</label><div class=\"sk-toggleable__content\"><pre>OrdinalEncoder(cols=[&#x27;land_surface_condition&#x27;, &#x27;foundation_type&#x27;, &#x27;roof_type&#x27;,\n",
       "                     &#x27;ground_floor_type&#x27;, &#x27;other_floor_type&#x27;, &#x27;position&#x27;,\n",
       "                     &#x27;plan_configuration&#x27;, &#x27;superstructure&#x27;],\n",
       "               mapping=[{&#x27;col&#x27;: &#x27;land_surface_condition&#x27;,\n",
       "                         &#x27;data_type&#x27;: dtype(&#x27;O&#x27;),\n",
       "                         &#x27;mapping&#x27;: Flat              1\n",
       "Moderate slope    2\n",
       "Steep slope       3\n",
       "NaN              -2\n",
       "dtype: int64},\n",
       "                        {&#x27;col&#x27;: &#x27;foundation_type&#x27;, &#x27;data_type&#x27;: dtype(&#x27;O&#x27;),\n",
       "                         &#x27;mapping&#x27;: Mud mo...\n",
       "                         &#x27;mapping&#x27;: Rectangular                         1\n",
       "L-shape                             2\n",
       "Square                              3\n",
       "T-shape                             4\n",
       "U-shape                             5\n",
       "Multi-projected                     6\n",
       "E-shape                             7\n",
       "Others                              8\n",
       "Building with Central Courtyard     9\n",
       "H-shape                            10\n",
       "NaN                                -2\n",
       "dtype: int64},\n",
       "                        {&#x27;col&#x27;: &#x27;superstructure&#x27;, &#x27;data_type&#x27;: dtype(&#x27;O&#x27;),\n",
       "                         &#x27;mapping&#x27;: Stone, mud mortar        1\n",
       "Adobe/mud                2\n",
       "Brick, cement mortar     3\n",
       "RC, engineered           4\n",
       "Brick, mud mortar        5\n",
       "Stone, cement mortar     6\n",
       "RC, non-engineered       7\n",
       "Timber                   8\n",
       "Other                    9\n",
       "Bamboo                  10\n",
       "Stone                   11\n",
       "NaN                     -2\n",
       "dtype: int64}])</pre></div></div></div><div class=\"sk-item\"><div class=\"sk-estimator sk-toggleable\"><input class=\"sk-toggleable__control sk-hidden--visually\" id=\"sk-estimator-id-9\" type=\"checkbox\" ><label for=\"sk-estimator-id-9\" class=\"sk-toggleable__label sk-toggleable__label-arrow\">DecisionTreeClassifier</label><div class=\"sk-toggleable__content\"><pre>DecisionTreeClassifier(max_depth=10, random_state=42)</pre></div></div></div></div></div></div></div>"
      ],
      "text/plain": [
       "Pipeline(steps=[('ordinalencoder',\n",
       "                 OrdinalEncoder(cols=['land_surface_condition',\n",
       "                                      'foundation_type', 'roof_type',\n",
       "                                      'ground_floor_type', 'other_floor_type',\n",
       "                                      'position', 'plan_configuration',\n",
       "                                      'superstructure'],\n",
       "                                mapping=[{'col': 'land_surface_condition',\n",
       "                                          'data_type': dtype('O'),\n",
       "                                          'mapping': Flat              1\n",
       "Moderate slope    2\n",
       "Steep slope       3\n",
       "NaN              -2\n",
       "dtype: int64},\n",
       "                                         {'col': 'foundation_type',\n",
       "                                          'dat...\n",
       "Building with Central Courtyard     9\n",
       "H-shape                            10\n",
       "NaN                                -2\n",
       "dtype: int64},\n",
       "                                         {'col': 'superstructure',\n",
       "                                          'data_type': dtype('O'),\n",
       "                                          'mapping': Stone, mud mortar        1\n",
       "Adobe/mud                2\n",
       "Brick, cement mortar     3\n",
       "RC, engineered           4\n",
       "Brick, mud mortar        5\n",
       "Stone, cement mortar     6\n",
       "RC, non-engineered       7\n",
       "Timber                   8\n",
       "Other                    9\n",
       "Bamboo                  10\n",
       "Stone                   11\n",
       "NaN                     -2\n",
       "dtype: int64}])),\n",
       "                ('decisiontreeclassifier',\n",
       "                 DecisionTreeClassifier(max_depth=10, random_state=42))])"
      ]
     },
     "execution_count": 81,
     "metadata": {},
     "output_type": "execute_result"
    }
   ],
   "source": [
    "final_model_dt = make_pipeline(\n",
    "    OrdinalEncoder(),\n",
    "    DecisionTreeClassifier(random_state=42, max_depth=10)\n",
    ")\n",
    "final_model_dt.fit(X_train, y_train)\n"
   ]
  },
  {
   "attachments": {},
   "cell_type": "markdown",
   "id": "be7ec560-b79b-4fb1-9b86-350e26eed2f8",
   "metadata": {
    "deletable": false,
    "editable": false
   },
   "source": [
    "## Evaluate"
   ]
  },
  {
   "cell_type": "code",
   "execution_count": 83,
   "id": "8f3a24cf-7053-464a-a558-08eb34fe867a",
   "metadata": {
    "deletable": false
   },
   "outputs": [
    {
     "data": {
      "text/plain": [
       "array([1, 1, 1, 1, 0])"
      ]
     },
     "execution_count": 83,
     "metadata": {},
     "output_type": "execute_result"
    }
   ],
   "source": [
    "X_test = pd.read_csv(\"data/kavrepalanchok-test-features.csv\", index_col=\"b_id\")\n",
    "y_test_pred = final_model_dt.predict(X_test)\n",
    "y_test_pred[:5]"
   ]
  },
  {
   "attachments": {},
   "cell_type": "markdown",
   "id": "751232ec-054c-4773-a72f-7390481aefd8",
   "metadata": {
    "deletable": false,
    "editable": false
   },
   "source": [
    "# Communicate Results"
   ]
  },
  {
   "cell_type": "code",
   "execution_count": 88,
   "id": "1edbfa3e-c51b-438e-a000-d99d135715d2",
   "metadata": {
    "deletable": false
   },
   "outputs": [
    {
     "data": {
      "text/plain": [
       "plan_configuration        0.004189\n",
       "land_surface_condition    0.008599\n",
       "foundation_type           0.009967\n",
       "position                  0.011795\n",
       "ground_floor_type         0.013521\n",
       "dtype: float64"
      ]
     },
     "execution_count": 88,
     "metadata": {},
     "output_type": "execute_result"
    }
   ],
   "source": [
    "\n",
    "feat_imp = pd.Series(final_model_dt.named_steps['decisiontreeclassifier'].feature_importances_, index=X_train.columns).sort_values()\n",
    "feat_imp.head()"
   ]
  },
  {
   "cell_type": "code",
   "execution_count": 89,
   "id": "43304b26-366c-4390-a581-bc049c9c6c86",
   "metadata": {
    "deletable": false
   },
   "outputs": [
    {
     "data": {
      "image/png": "[encoded data removed]",
      "text/plain": [
       "<Figure size 432x288 with 1 Axes>"
      ]
     },
     "metadata": {
      "needs_background": "light"
     },
     "output_type": "display_data"
    }
   ],
   "source": [
    "# Create horizontal bar chart of feature importances\n",
    "feat_imp.plot(kind='barh', xlabel='Gini Importance', ylabel='Label', title='Kavrepalanchok Decision Tree, Feature Importance')\n",
    "# Don't delete the code below 👇\n",
    "plt.tight_layout()\n",
    "plt.savefig(\"images/4-5-19.png\", dpi=150)\n"
   ]
  }
 ],
 "metadata": {
  "kernelspec": {
   "display_name": "Python 3 (ipykernel)",
   "language": "python",
   "name": "python3"
  },
  "language_info": {
   "codemirror_mode": {
    "name": "ipython",
    "version": 3
   },
   "file_extension": ".py",
   "mimetype": "text/x-python",
   "name": "python",
   "nbconvert_exporter": "python",
   "pygments_lexer": "ipython3",
   "version": "3.9.6"
  },
  "toc-autonumbering": false
 },
 "nbformat": 4,
 "nbformat_minor": 5
}
