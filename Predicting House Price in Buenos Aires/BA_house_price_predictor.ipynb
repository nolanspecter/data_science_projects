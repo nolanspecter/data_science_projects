{
 "cells": [
  {
   "cell_type": "code",
   "execution_count": 101,
   "metadata": {},
   "outputs": [],
   "source": [
    "import warnings\n",
    "from glob import glob\n",
    "\n",
    "import pandas as pd\n",
    "import seaborn as sns\n",
    "import matplotlib.pyplot as plt\n",
    "import plotly.express as px\n",
    "import numpy as np\n",
    "\n",
    "from category_encoders import OneHotEncoder\n",
    "from IPython.display import VimeoVideo\n",
    "from ipywidgets import Dropdown, FloatSlider, IntSlider, interact\n",
    "from sklearn.impute import SimpleImputer\n",
    "from sklearn.linear_model import LinearRegression, Ridge\n",
    "from sklearn.metrics import mean_absolute_error\n",
    "from sklearn.pipeline import make_pipeline\n",
    "\n",
    "warnings.simplefilter(action=\"ignore\", category=FutureWarning)"
   ]
  },
  {
   "attachments": {},
   "cell_type": "markdown",
   "metadata": {},
   "source": [
    "# Split data"
   ]
  },
  {
   "cell_type": "code",
   "execution_count": 102,
   "metadata": {},
   "outputs": [],
   "source": [
    "df = pd.read_csv('data/buenos-aires-real-estate-clean.csv', index_col= [0])\n",
    "df.loc[df['neighborhood'].isna(), 'neighborhood'] = ''"
   ]
  },
  {
   "cell_type": "code",
   "execution_count": 103,
   "metadata": {},
   "outputs": [
    {
     "name": "stdout",
     "output_type": "stream",
     "text": [
      "<class 'pandas.core.frame.DataFrame'>\n",
      "Int64Index: 6582 entries, 0 to 6581\n",
      "Data columns (total 5 columns):\n",
      " #   Column                 Non-Null Count  Dtype  \n",
      "---  ------                 --------------  -----  \n",
      " 0   price_aprox_usd        6582 non-null   float64\n",
      " 1   surface_covered_in_m2  6582 non-null   float64\n",
      " 2   lat                    6316 non-null   float64\n",
      " 3   lon                    6316 non-null   float64\n",
      " 4   neighborhood           6582 non-null   object \n",
      "dtypes: float64(4), object(1)\n",
      "memory usage: 308.5+ KB\n"
     ]
    }
   ],
   "source": [
    "df.info()"
   ]
  },
  {
   "cell_type": "code",
   "execution_count": 104,
   "metadata": {},
   "outputs": [],
   "source": [
    "target = 'price_aprox_usd'\n",
    "X_train = df.drop([target], axis = 1)\n",
    "y_train = df[target]"
   ]
  },
  {
   "attachments": {},
   "cell_type": "markdown",
   "metadata": {},
   "source": [
    "# Build Model"
   ]
  },
  {
   "attachments": {},
   "cell_type": "markdown",
   "metadata": {},
   "source": [
    "## Baseline"
   ]
  },
  {
   "attachments": {},
   "cell_type": "markdown",
   "metadata": {},
   "source": [
    "For the baseline model, we will use the mean of the target. This means that regardless of any attributes, we will always guess the house price to be the mean of the dataset"
   ]
  },
  {
   "cell_type": "code",
   "execution_count": 105,
   "metadata": {},
   "outputs": [
    {
     "name": "stdout",
     "output_type": "stream",
     "text": [
      "Mean apt price: 132383.83701458524\n",
      "Baseline MAE: 44860.10834274133\n"
     ]
    }
   ],
   "source": [
    "y_mean = y_train.mean()\n",
    "y_predict_mean = [y_mean] * len(y_train)\n",
    "\n",
    "print(\"Mean apt price:\", y_mean)\n",
    "\n",
    "print(\"Baseline MAE:\", mean_absolute_error(y_train, [y_mean]*len(y_train)))"
   ]
  },
  {
   "attachments": {},
   "cell_type": "markdown",
   "metadata": {},
   "source": [
    "# Linear Regression"
   ]
  },
  {
   "attachments": {},
   "cell_type": "markdown",
   "metadata": {},
   "source": [
    "## Model Fitting"
   ]
  },
  {
   "cell_type": "code",
   "execution_count": 106,
   "metadata": {},
   "outputs": [
    {
     "data": {
      "text/plain": [
       "Pipeline(steps=[('onehotencoder',\n",
       "                 OneHotEncoder(cols=['neighborhood'], use_cat_names=True)),\n",
       "                ('simpleimputer', SimpleImputer()),\n",
       "                ('linearregression', LinearRegression())])"
      ]
     },
     "execution_count": 106,
     "metadata": {},
     "output_type": "execute_result"
    }
   ],
   "source": [
    "lr_model = make_pipeline(\n",
    "            OneHotEncoder(use_cat_names=True),\n",
    "            SimpleImputer(),\n",
    "            LinearRegression()\n",
    ")\n",
    "\n",
    "lr_model.fit(X_train, y_train)"
   ]
  },
  {
   "attachments": {},
   "cell_type": "markdown",
   "metadata": {},
   "source": [
    "## Model Evaluation"
   ]
  },
  {
   "cell_type": "code",
   "execution_count": 107,
   "metadata": {},
   "outputs": [
    {
     "name": "stdout",
     "output_type": "stream",
     "text": [
      "Training MAE:  24237.287485665867\n"
     ]
    }
   ],
   "source": [
    "y_pred_training = lr_model.predict(X_train)\n",
    "print(\"Training MAE: \", mean_absolute_error(y_train, y_pred_training))"
   ]
  },
  {
   "cell_type": "code",
   "execution_count": 108,
   "metadata": {},
   "outputs": [
    {
     "data": {
      "text/plain": [
       "0    233622.662652\n",
       "1    163253.663935\n",
       "2     68322.301855\n",
       "3     61981.006714\n",
       "4    106793.885852\n",
       "dtype: float64"
      ]
     },
     "execution_count": 108,
     "metadata": {},
     "output_type": "execute_result"
    }
   ],
   "source": [
    "X_test = pd.read_csv(\"data/buenos-aires-test-features.csv\")\n",
    "y_pred = pd.Series(lr_model.predict(X_test))\n",
    "y_pred.head()"
   ]
  },
  {
   "attachments": {},
   "cell_type": "markdown",
   "metadata": {},
   "source": [
    "# Ridge"
   ]
  },
  {
   "attachments": {},
   "cell_type": "markdown",
   "metadata": {},
   "source": [
    "## Model Fitting"
   ]
  },
  {
   "cell_type": "code",
   "execution_count": 109,
   "metadata": {},
   "outputs": [
    {
     "data": {
      "text/plain": [
       "Pipeline(steps=[('onehotencoder',\n",
       "                 OneHotEncoder(cols=['neighborhood'], use_cat_names=True)),\n",
       "                ('simpleimputer', SimpleImputer()), ('ridge', Ridge())])"
      ]
     },
     "execution_count": 109,
     "metadata": {},
     "output_type": "execute_result"
    }
   ],
   "source": [
    "ridge_model = make_pipeline(\n",
    "            OneHotEncoder(use_cat_names=True),\n",
    "            SimpleImputer(),\n",
    "            Ridge()\n",
    ")\n",
    "\n",
    "ridge_model.fit(X_train, y_train)"
   ]
  },
  {
   "attachments": {},
   "cell_type": "markdown",
   "metadata": {},
   "source": [
    "# Model Evaluation"
   ]
  },
  {
   "cell_type": "code",
   "execution_count": 110,
   "metadata": {},
   "outputs": [
    {
     "name": "stdout",
     "output_type": "stream",
     "text": [
      "Training MAE:  24207.107190330218\n"
     ]
    }
   ],
   "source": [
    "y_pred_training = ridge_model.predict(X_train)\n",
    "print(\"Training MAE: \", mean_absolute_error(y_train, y_pred_training))"
   ]
  },
  {
   "cell_type": "code",
   "execution_count": 111,
   "metadata": {},
   "outputs": [
    {
     "data": {
      "text/plain": [
       "0    231122.403569\n",
       "1    162572.942392\n",
       "2     68477.949626\n",
       "3     63521.438989\n",
       "4    105694.463885\n",
       "dtype: float64"
      ]
     },
     "execution_count": 111,
     "metadata": {},
     "output_type": "execute_result"
    }
   ],
   "source": [
    "X_test = pd.read_csv(\"data/buenos-aires-test-features.csv\")\n",
    "y_pred = pd.Series(ridge_model.predict(X_test))\n",
    "y_pred.head()"
   ]
  },
  {
   "attachments": {},
   "cell_type": "markdown",
   "metadata": {},
   "source": [
    "# Feature Importance and Model Equation"
   ]
  },
  {
   "cell_type": "code",
   "execution_count": 112,
   "metadata": {},
   "outputs": [
    {
     "name": "stdout",
     "output_type": "stream",
     "text": [
      "price = 17243720.63\n",
      "+ (2208.55 * surface_covered_in_m2)\n",
      "+ (247000.82 * lat)\n",
      "+ (148752.49 * lon)\n",
      "+ (561.93 * neighborhood_Chacarita)\n",
      "+ (13068.13 * neighborhood_Villa Luro)\n",
      "+ (12828.15 * neighborhood_Caballito)\n",
      "+ (-29892.89 * neighborhood_Constitución)\n",
      "+ (-34183.45 * neighborhood_Once)\n",
      "+ (-4122.75 * neighborhood_Almagro)\n",
      "+ (37068.85 * neighborhood_Palermo)\n",
      "+ (-4705.31 * neighborhood_Flores)\n",
      "+ (32108.59 * neighborhood_Belgrano)\n",
      "+ (2685.34 * neighborhood_Liniers)\n",
      "+ (4505.96 * neighborhood_Villa Crespo)\n",
      "+ (-6585.68 * neighborhood_San Cristobal)\n",
      "+ (-23135.85 * neighborhood_Congreso)\n",
      "+ (4684.8 * neighborhood_Saavedra)\n",
      "+ (-24869.79 * neighborhood_Balvanera)\n",
      "+ (-3115.2 * neighborhood_Parque Avellaneda)\n",
      "+ (41749.64 * neighborhood_Recoleta)\n",
      "+ (-963.76 * neighborhood_San Telmo)\n",
      "+ (27746.63 * neighborhood_Nuñez)\n",
      "+ (25634.43 * neighborhood_Barrio Norte)\n",
      "+ (-2546.89 * neighborhood_Parque Centenario)\n",
      "+ (-7425.52 * neighborhood_Abasto)\n",
      "+ (-14021.59 * neighborhood_Centro / Microcentro)\n",
      "+ (-10919.61 * neighborhood_)\n",
      "+ (-5684.47 * neighborhood_Paternal)\n",
      "+ (4808.75 * neighborhood_Mataderos)\n",
      "+ (-53571.77 * neighborhood_Villa Lugano)\n",
      "+ (13556.64 * neighborhood_Coghlan)\n",
      "+ (66031.79 * neighborhood_Las Cañitas)\n",
      "+ (14280.08 * neighborhood_Villa Urquiza)\n",
      "+ (-15158.54 * neighborhood_Monserrat)\n",
      "+ (-7280.82 * neighborhood_Villa Pueyrredón)\n",
      "+ (-17359.56 * neighborhood_Parque Patricios)\n",
      "+ (-21438.54 * neighborhood_San Nicolás)\n",
      "+ (225.55 * neighborhood_Villa del Parque)\n",
      "+ (4654.91 * neighborhood_Boedo)\n",
      "+ (-7882.13 * neighborhood_Parque Chacabuco)\n",
      "+ (-9291.94 * neighborhood_Barracas)\n",
      "+ (-5922.38 * neighborhood_Parque Chas)\n",
      "+ (26887.08 * neighborhood_Colegiales)\n",
      "+ (946.6 * neighborhood_Villa General Mitre)\n",
      "+ (579.36 * neighborhood_Villa Ortuzar)\n",
      "+ (4454.04 * neighborhood_Villa Devoto)\n",
      "+ (-15006.38 * neighborhood_Floresta)\n",
      "+ (11514.17 * neighborhood_Retiro)\n",
      "+ (-5262.83 * neighborhood_Versalles)\n",
      "+ (-41115.47 * neighborhood_Boca)\n",
      "+ (117600.48 * neighborhood_Puerto Madero)\n",
      "+ (14030.52 * neighborhood_Agronomía)\n",
      "+ (5100.82 * neighborhood_Monte Castro)\n",
      "+ (-12911.46 * neighborhood_Tribunales)\n",
      "+ (-1832.32 * neighborhood_Villa Santa Rita)\n",
      "+ (-9061.54 * neighborhood_Velez Sarsfield)\n",
      "+ (-53733.47 * neighborhood_Villa Soldati)\n",
      "+ (-2903.2 * neighborhood_Villa Real)\n",
      "+ (-34209.97 * neighborhood_Pompeya)\n",
      "+ (-1198.17 * neighborhood_Catalinas)\n"
     ]
    }
   ],
   "source": [
    "lr_intercept = lr_model.named_steps['linearregression'].intercept_\n",
    "lr_coef = lr_model.named_steps['linearregression'].coef_\n",
    "\n",
    "lr_ft_imp = pd.Series(lr_coef, index=lr_model.named_steps['onehotencoder'].get_feature_names())\n",
    "print(f\"price = {lr_intercept.round(2)}\")\n",
    "for f, c in lr_ft_imp.items():\n",
    "    print(f\"+ ({round(c, 2)} * {f})\")"
   ]
  },
  {
   "cell_type": "code",
   "execution_count": 113,
   "metadata": {},
   "outputs": [
    {
     "data": {
      "text/plain": [
       "Text(0.5, 1.0, 'Linear Regression Feature Importance')"
      ]
     },
     "execution_count": 113,
     "metadata": {},
     "output_type": "execute_result"
    },
    {
     "data": {
      "image/png": "[encoded data removed]",
      "text/plain": [
       "<Figure size 432x288 with 1 Axes>"
      ]
     },
     "metadata": {
      "needs_background": "light"
     },
     "output_type": "display_data"
    }
   ],
   "source": [
    "lr_ft_imp.sort_values(key=abs).tail(15).plot(kind = 'barh')\n",
    "plt.xlabel(\"Importance\")\n",
    "plt.ylabel(\"Feature\")\n",
    "plt.title(\"Linear Regression Feature Importance\")"
   ]
  },
  {
   "cell_type": "code",
   "execution_count": 114,
   "metadata": {},
   "outputs": [
    {
     "name": "stdout",
     "output_type": "stream",
     "text": [
      "price = 7961166.19\n",
      "+ (2211.9 * surface_covered_in_m2)\n",
      "+ (98962.19 * lat)\n",
      "+ (77581.27 * lon)\n",
      "+ (2724.2 * neighborhood_Chacarita)\n",
      "+ (3705.86 * neighborhood_Villa Luro)\n",
      "+ (10890.15 * neighborhood_Caballito)\n",
      "+ (-28027.25 * neighborhood_Constitución)\n",
      "+ (-31267.78 * neighborhood_Once)\n",
      "+ (-3078.59 * neighborhood_Almagro)\n",
      "+ (41163.44 * neighborhood_Palermo)\n",
      "+ (-9382.54 * neighborhood_Flores)\n",
      "+ (37366.49 * neighborhood_Belgrano)\n",
      "+ (-7757.76 * neighborhood_Liniers)\n",
      "+ (5792.74 * neighborhood_Villa Crespo)\n",
      "+ (-6064.39 * neighborhood_San Cristobal)\n",
      "+ (-20494.1 * neighborhood_Congreso)\n",
      "+ (9695.16 * neighborhood_Saavedra)\n",
      "+ (-22723.05 * neighborhood_Balvanera)\n",
      "+ (-11615.89 * neighborhood_Parque Avellaneda)\n",
      "+ (46556.41 * neighborhood_Recoleta)\n",
      "+ (1237.95 * neighborhood_San Telmo)\n",
      "+ (34239.35 * neighborhood_Nuñez)\n",
      "+ (30161.76 * neighborhood_Barrio Norte)\n",
      "+ (-2969.42 * neighborhood_Parque Centenario)\n",
      "+ (-4310.07 * neighborhood_Abasto)\n",
      "+ (-9797.14 * neighborhood_Centro / Microcentro)\n",
      "+ (-9267.7 * neighborhood_)\n",
      "+ (-5970.39 * neighborhood_Paternal)\n",
      "+ (-6239.81 * neighborhood_Mataderos)\n",
      "+ (-59244.26 * neighborhood_Villa Lugano)\n",
      "+ (17406.83 * neighborhood_Coghlan)\n",
      "+ (69157.26 * neighborhood_Las Cañitas)\n",
      "+ (16178.04 * neighborhood_Villa Urquiza)\n",
      "+ (-12564.81 * neighborhood_Monserrat)\n",
      "+ (-8098.27 * neighborhood_Villa Pueyrredón)\n",
      "+ (-18321.7 * neighborhood_Parque Patricios)\n",
      "+ (-16856.54 * neighborhood_San Nicolás)\n",
      "+ (-3096.62 * neighborhood_Villa del Parque)\n",
      "+ (3441.17 * neighborhood_Boedo)\n",
      "+ (-11080.87 * neighborhood_Parque Chacabuco)\n",
      "+ (-8535.37 * neighborhood_Barracas)\n",
      "+ (-4770.42 * neighborhood_Parque Chas)\n",
      "+ (29948.78 * neighborhood_Colegiales)\n",
      "+ (-1893.52 * neighborhood_Villa General Mitre)\n",
      "+ (2618.22 * neighborhood_Villa Ortuzar)\n",
      "+ (640.72 * neighborhood_Villa Devoto)\n",
      "+ (-19034.58 * neighborhood_Floresta)\n",
      "+ (16765.47 * neighborhood_Retiro)\n",
      "+ (-12515.57 * neighborhood_Versalles)\n",
      "+ (-38762.81 * neighborhood_Boca)\n",
      "+ (119400.53 * neighborhood_Puerto Madero)\n",
      "+ (12167.77 * neighborhood_Agronomía)\n",
      "+ (-1495.3 * neighborhood_Monte Castro)\n",
      "+ (-8095.75 * neighborhood_Tribunales)\n",
      "+ (-5260.84 * neighborhood_Villa Santa Rita)\n",
      "+ (-12977.45 * neighborhood_Velez Sarsfield)\n",
      "+ (-50111.87 * neighborhood_Villa Soldati)\n",
      "+ (-8339.27 * neighborhood_Villa Real)\n",
      "+ (-31336.3 * neighborhood_Pompeya)\n",
      "+ (99.68 * neighborhood_Catalinas)\n"
     ]
    }
   ],
   "source": [
    "ridge_intercept = ridge_model.named_steps['ridge'].intercept_\n",
    "ridge_coef = ridge_model.named_steps['ridge'].coef_\n",
    "\n",
    "ridge_ft_imp = pd.Series(ridge_coef, index=ridge_model.named_steps['onehotencoder'].get_feature_names())\n",
    "print(f\"price = {ridge_intercept.round(2)}\")\n",
    "for f, c in ridge_ft_imp.items():\n",
    "    print(f\"+ ({round(c, 2)} * {f})\")"
   ]
  },
  {
   "cell_type": "code",
   "execution_count": 115,
   "metadata": {},
   "outputs": [
    {
     "data": {
      "text/plain": [
       "Text(0.5, 1.0, 'Ridge Feature Importance')"
      ]
     },
     "execution_count": 115,
     "metadata": {},
     "output_type": "execute_result"
    },
    {
     "data": {
      "image/png": "[encoded data removed]",
      "text/plain": [
       "<Figure size 432x288 with 1 Axes>"
      ]
     },
     "metadata": {
      "needs_background": "light"
     },
     "output_type": "display_data"
    }
   ],
   "source": [
    "ridge_ft_imp.sort_values(key=abs).tail(15).plot(kind = 'barh')\n",
    "plt.xlabel(\"Importance\")\n",
    "plt.ylabel(\"Feature\")\n",
    "plt.title(\"Ridge Feature Importance\")"
   ]
  },
  {
   "cell_type": "code",
   "execution_count": 116,
   "metadata": {},
   "outputs": [],
   "source": [
    "# Using Ridge\n",
    "def make_prediction(area, lat, lon, neighborhood):\n",
    "    data = {'surface_covered_in_m2': area,\n",
    "           'lat': lat,\n",
    "           'lon': lon,\n",
    "           'neighborhood': neighborhood}\n",
    "    df = pd.DataFrame(data, index = [0])\n",
    "    prediction = ridge_model.predict(df)\n",
    "    return f\"Predicted apartment price: ${prediction}\""
   ]
  },
  {
   "cell_type": "code",
   "execution_count": 117,
   "metadata": {},
   "outputs": [
    {
     "data": {
      "application/vnd.jupyter.widget-view+json": {
       "model_id": "231853066e7a4557a91006be95610697",
       "version_major": 2,
       "version_minor": 0
      },
      "text/plain": [
       "interactive(children=(IntSlider(value=53, description='area', max=101, min=30), FloatSlider(value=-34.59890626…"
      ]
     },
     "metadata": {},
     "output_type": "display_data"
    },
    {
     "data": {
      "text/plain": [
       "<function __main__.make_prediction(area, lat, lon, neighborhood)>"
      ]
     },
     "execution_count": 117,
     "metadata": {},
     "output_type": "execute_result"
    }
   ],
   "source": [
    "interact(\n",
    "    make_prediction,\n",
    "    area=IntSlider(\n",
    "        min=X_train[\"surface_covered_in_m2\"].min(),\n",
    "        max=X_train[\"surface_covered_in_m2\"].max(),\n",
    "        value=X_train[\"surface_covered_in_m2\"].mean(),\n",
    "    ),\n",
    "    lat=FloatSlider(\n",
    "        min=X_train[\"lat\"].min(),\n",
    "        max=X_train[\"lat\"].max(),\n",
    "        step=0.01,\n",
    "        value=X_train[\"lat\"].mean(),\n",
    "    ),\n",
    "    lon=FloatSlider(\n",
    "        min=X_train[\"lon\"].min(),\n",
    "        max=X_train[\"lon\"].max(),\n",
    "        step=0.01,\n",
    "        value=X_train[\"lon\"].mean(),\n",
    "    ),\n",
    "    neighborhood=Dropdown(options=sorted(X_train[\"neighborhood\"].unique())),\n",
    ")"
   ]
  },
  {
   "cell_type": "code",
   "execution_count": null,
   "metadata": {},
   "outputs": [],
   "source": []
  }
 ],
 "metadata": {
  "kernelspec": {
   "display_name": "Python 3",
   "language": "python",
   "name": "python3"
  },
  "language_info": {
   "codemirror_mode": {
    "name": "ipython",
    "version": 3
   },
   "file_extension": ".py",
   "mimetype": "text/x-python",
   "name": "python",
   "nbconvert_exporter": "python",
   "pygments_lexer": "ipython3",
   "version": "3.10.7"
  },
  "orig_nbformat": 4
 },
 "nbformat": 4,
 "nbformat_minor": 2
}
