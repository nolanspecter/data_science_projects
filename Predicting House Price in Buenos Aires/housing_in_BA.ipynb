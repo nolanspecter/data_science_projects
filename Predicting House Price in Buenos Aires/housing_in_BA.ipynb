{
 "cells": [
  {
   "attachments": {},
   "cell_type": "markdown",
   "metadata": {},
   "source": []
  },
  {
   "cell_type": "code",
   "execution_count": 15,
   "metadata": {},
   "outputs": [],
   "source": [
    "import warnings\n",
    "from glob import glob\n",
    "\n",
    "import pandas as pd\n",
    "import seaborn as sns\n",
    "import matplotlib.pyplot as plt\n",
    "import plotly.express as px\n",
    "import numpy as np\n",
    "\n",
    "from category_encoders import OneHotEncoder\n",
    "from IPython.display import VimeoVideo\n",
    "from ipywidgets import Dropdown, FloatSlider, IntSlider, interact\n",
    "from sklearn.impute import SimpleImputer\n",
    "from sklearn.linear_model import LinearRegression, Ridge\n",
    "from sklearn.metrics import mean_absolute_error\n",
    "from sklearn.pipeline import make_pipeline\n",
    "from sklearn.utils.validation import check_is_fitted\n",
    "\n",
    "warnings.simplefilter(action=\"ignore\", category=FutureWarning)"
   ]
  },
  {
   "attachments": {},
   "cell_type": "markdown",
   "metadata": {},
   "source": [
    "# Data Wrangling"
   ]
  },
  {
   "attachments": {},
   "cell_type": "markdown",
   "metadata": {},
   "source": [
    "We are interested in predicting apartment prices in Buenos Aires (`\"Capital Federal\"`) that cost less than $400,000. First we will filter the data to extract what we need"
   ]
  },
  {
   "attachments": {},
   "cell_type": "markdown",
   "metadata": {},
   "source": [
    "We create a function to handle data wrangling since that data have the same structure. We can pass the file through the functino to process it faster"
   ]
  },
  {
   "cell_type": "code",
   "execution_count": 10,
   "metadata": {},
   "outputs": [],
   "source": [
    "def wrangle(filepath):\n",
    "    df = pd.read_csv(filepath)\n",
    "\n",
    "    # Subset data: Apartment, Capital Federal, < $400,000\n",
    "    mask_1 = df['property_type'] == 'apartment'\n",
    "    mask_2 = df['place_with_parent_names'].str.contains('Capital Federal')\n",
    "    mask_3 = df['price_aprox_usd'] < 400000\n",
    "\n",
    "    df = df[mask_1 & mask_2 & mask_3]\n",
    "\n",
    "    # Remove outliers in surface_covered_in_m2\n",
    "    area_low, area_high = df['surface_covered_in_m2'].quantile([0.1, 0.9])\n",
    "    mask_area = df['surface_covered_in_m2'].between(area_low, area_high)\n",
    "\n",
    "    df = df[mask_area]\n",
    "\n",
    "    # Split lat-lon column\n",
    "    df[['lat', 'lon']] = df['lat-lon'].str.split(',', expand = True).astype(float)\n",
    "    df.drop(['lat-lon'], axis=1, inplace=True)\n",
    "\n",
    "    # Get neighborhood name\n",
    "    df[\"neighborhood\"] = df[\"place_with_parent_names\"].str.split(\"|\", expand=True)[3]\n",
    "    df.drop(columns=\"place_with_parent_names\", inplace=True)\n",
    "    df['neighborhood'] = df['neighborhood'].str.replace('nan', '')\n",
    "\n",
    "    # Remove column with > 50% NaN\n",
    "    for col in df.columns:\n",
    "        null_count = df[col].isna().sum()\n",
    "        if null_count > df.shape[0]/2:\n",
    "            df.drop([col], axis=1, inplace=True)\n",
    "    \n",
    "    # Remove low and high cardinal columns\n",
    "    df.drop(['operation', 'property_type', 'currency', 'properati_url'], axis=1, inplace=True)\n",
    "\n",
    "    # Remove leakage\n",
    "    df.drop(['price', 'price_aprox_local_currency', 'price_usd_per_m2', 'price_per_m2'], axis=1, inplace=True)\n",
    "\n",
    "    #Remove correlated col\n",
    "    df.drop(['surface_total_in_m2', 'rooms'], axis=1, inplace=True)\n",
    "    \n",
    "    return df"
   ]
  },
  {
   "cell_type": "code",
   "execution_count": 53,
   "metadata": {},
   "outputs": [
    {
     "data": {
      "text/html": [
       "<div>\n",
       "<style scoped>\n",
       "    .dataframe tbody tr th:only-of-type {\n",
       "        vertical-align: middle;\n",
       "    }\n",
       "\n",
       "    .dataframe tbody tr th {\n",
       "        vertical-align: top;\n",
       "    }\n",
       "\n",
       "    .dataframe thead th {\n",
       "        text-align: right;\n",
       "    }\n",
       "</style>\n",
       "<table border=\"1\" class=\"dataframe\">\n",
       "  <thead>\n",
       "    <tr style=\"text-align: right;\">\n",
       "      <th></th>\n",
       "      <th>price_aprox_usd</th>\n",
       "      <th>surface_covered_in_m2</th>\n",
       "      <th>lat</th>\n",
       "      <th>lon</th>\n",
       "      <th>neighborhood</th>\n",
       "    </tr>\n",
       "  </thead>\n",
       "  <tbody>\n",
       "    <tr>\n",
       "      <th>4</th>\n",
       "      <td>129000.0</td>\n",
       "      <td>70.0</td>\n",
       "      <td>-34.584651</td>\n",
       "      <td>-58.454693</td>\n",
       "      <td>Chacarita</td>\n",
       "    </tr>\n",
       "    <tr>\n",
       "      <th>9</th>\n",
       "      <td>87000.0</td>\n",
       "      <td>42.0</td>\n",
       "      <td>-34.638979</td>\n",
       "      <td>-58.500115</td>\n",
       "      <td>Villa Luro</td>\n",
       "    </tr>\n",
       "    <tr>\n",
       "      <th>29</th>\n",
       "      <td>118000.0</td>\n",
       "      <td>54.0</td>\n",
       "      <td>-34.615847</td>\n",
       "      <td>-58.459957</td>\n",
       "      <td>Caballito</td>\n",
       "    </tr>\n",
       "    <tr>\n",
       "      <th>40</th>\n",
       "      <td>57000.0</td>\n",
       "      <td>42.0</td>\n",
       "      <td>-34.625222</td>\n",
       "      <td>-58.382382</td>\n",
       "      <td>Constitución</td>\n",
       "    </tr>\n",
       "    <tr>\n",
       "      <th>41</th>\n",
       "      <td>90000.0</td>\n",
       "      <td>50.0</td>\n",
       "      <td>-34.610610</td>\n",
       "      <td>-58.412511</td>\n",
       "      <td>Once</td>\n",
       "    </tr>\n",
       "  </tbody>\n",
       "</table>\n",
       "</div>"
      ],
      "text/plain": [
       "    price_aprox_usd  surface_covered_in_m2        lat        lon  neighborhood\n",
       "4          129000.0                   70.0 -34.584651 -58.454693     Chacarita\n",
       "9           87000.0                   42.0 -34.638979 -58.500115    Villa Luro\n",
       "29         118000.0                   54.0 -34.615847 -58.459957     Caballito\n",
       "40          57000.0                   42.0 -34.625222 -58.382382  Constitución\n",
       "41          90000.0                   50.0 -34.610610 -58.412511          Once"
      ]
     },
     "execution_count": 53,
     "metadata": {},
     "output_type": "execute_result"
    }
   ],
   "source": [
    "df = wrangle('data/buenos-aires-real-estate-1.csv')\n",
    "df.head()"
   ]
  },
  {
   "cell_type": "code",
   "execution_count": 23,
   "metadata": {},
   "outputs": [
    {
     "data": {
      "text/html": [
       "<div>\n",
       "<style scoped>\n",
       "    .dataframe tbody tr th:only-of-type {\n",
       "        vertical-align: middle;\n",
       "    }\n",
       "\n",
       "    .dataframe tbody tr th {\n",
       "        vertical-align: top;\n",
       "    }\n",
       "\n",
       "    .dataframe thead th {\n",
       "        text-align: right;\n",
       "    }\n",
       "</style>\n",
       "<table border=\"1\" class=\"dataframe\">\n",
       "  <thead>\n",
       "    <tr style=\"text-align: right;\">\n",
       "      <th></th>\n",
       "      <th>price</th>\n",
       "      <th>price_aprox_local_currency</th>\n",
       "      <th>price_aprox_usd</th>\n",
       "      <th>surface_total_in_m2</th>\n",
       "      <th>surface_covered_in_m2</th>\n",
       "      <th>price_usd_per_m2</th>\n",
       "      <th>price_per_m2</th>\n",
       "      <th>floor</th>\n",
       "      <th>rooms</th>\n",
       "    </tr>\n",
       "  </thead>\n",
       "  <tbody>\n",
       "    <tr>\n",
       "      <th>count</th>\n",
       "      <td>1.781000e+03</td>\n",
       "      <td>1.781000e+03</td>\n",
       "      <td>1781.000000</td>\n",
       "      <td>1247.000000</td>\n",
       "      <td>1635.000000</td>\n",
       "      <td>1198.000000</td>\n",
       "      <td>1618.000000</td>\n",
       "      <td>482.000000</td>\n",
       "      <td>1385.000000</td>\n",
       "    </tr>\n",
       "    <tr>\n",
       "      <th>mean</th>\n",
       "      <td>2.285410e+05</td>\n",
       "      <td>2.178037e+06</td>\n",
       "      <td>143647.215239</td>\n",
       "      <td>114.417001</td>\n",
       "      <td>97.877064</td>\n",
       "      <td>2231.534726</td>\n",
       "      <td>4340.345113</td>\n",
       "      <td>10.085062</td>\n",
       "      <td>2.434657</td>\n",
       "    </tr>\n",
       "    <tr>\n",
       "      <th>std</th>\n",
       "      <td>4.100189e+05</td>\n",
       "      <td>1.141710e+06</td>\n",
       "      <td>75298.758506</td>\n",
       "      <td>1755.263895</td>\n",
       "      <td>1533.057610</td>\n",
       "      <td>650.139587</td>\n",
       "      <td>8126.940810</td>\n",
       "      <td>44.783320</td>\n",
       "      <td>1.065193</td>\n",
       "    </tr>\n",
       "    <tr>\n",
       "      <th>min</th>\n",
       "      <td>0.000000e+00</td>\n",
       "      <td>0.000000e+00</td>\n",
       "      <td>0.000000</td>\n",
       "      <td>0.000000</td>\n",
       "      <td>0.000000</td>\n",
       "      <td>0.000000</td>\n",
       "      <td>2.224587</td>\n",
       "      <td>1.000000</td>\n",
       "      <td>1.000000</td>\n",
       "    </tr>\n",
       "    <tr>\n",
       "      <th>25%</th>\n",
       "      <td>9.000000e+04</td>\n",
       "      <td>1.349454e+06</td>\n",
       "      <td>89000.000000</td>\n",
       "      <td>40.000000</td>\n",
       "      <td>38.000000</td>\n",
       "      <td>1815.485830</td>\n",
       "      <td>1973.750000</td>\n",
       "      <td>2.000000</td>\n",
       "      <td>2.000000</td>\n",
       "    </tr>\n",
       "    <tr>\n",
       "      <th>50%</th>\n",
       "      <td>1.300000e+05</td>\n",
       "      <td>1.849813e+06</td>\n",
       "      <td>122000.000000</td>\n",
       "      <td>55.000000</td>\n",
       "      <td>50.000000</td>\n",
       "      <td>2151.642336</td>\n",
       "      <td>2411.239496</td>\n",
       "      <td>4.000000</td>\n",
       "      <td>2.000000</td>\n",
       "    </tr>\n",
       "    <tr>\n",
       "      <th>75%</th>\n",
       "      <td>1.911340e+05</td>\n",
       "      <td>2.653420e+06</td>\n",
       "      <td>175000.000000</td>\n",
       "      <td>79.000000</td>\n",
       "      <td>73.000000</td>\n",
       "      <td>2577.003583</td>\n",
       "      <td>2958.157462</td>\n",
       "      <td>7.000000</td>\n",
       "      <td>3.000000</td>\n",
       "    </tr>\n",
       "    <tr>\n",
       "      <th>max</th>\n",
       "      <td>5.487000e+06</td>\n",
       "      <td>6.034635e+06</td>\n",
       "      <td>398000.000000</td>\n",
       "      <td>62034.000000</td>\n",
       "      <td>62034.000000</td>\n",
       "      <td>5975.609756</td>\n",
       "      <td>57156.250000</td>\n",
       "      <td>616.000000</td>\n",
       "      <td>6.000000</td>\n",
       "    </tr>\n",
       "  </tbody>\n",
       "</table>\n",
       "</div>"
      ],
      "text/plain": [
       "              price  price_aprox_local_currency  price_aprox_usd  \\\n",
       "count  1.781000e+03                1.781000e+03      1781.000000   \n",
       "mean   2.285410e+05                2.178037e+06    143647.215239   \n",
       "std    4.100189e+05                1.141710e+06     75298.758506   \n",
       "min    0.000000e+00                0.000000e+00         0.000000   \n",
       "25%    9.000000e+04                1.349454e+06     89000.000000   \n",
       "50%    1.300000e+05                1.849813e+06    122000.000000   \n",
       "75%    1.911340e+05                2.653420e+06    175000.000000   \n",
       "max    5.487000e+06                6.034635e+06    398000.000000   \n",
       "\n",
       "       surface_total_in_m2  surface_covered_in_m2  price_usd_per_m2  \\\n",
       "count          1247.000000            1635.000000       1198.000000   \n",
       "mean            114.417001              97.877064       2231.534726   \n",
       "std            1755.263895            1533.057610        650.139587   \n",
       "min               0.000000               0.000000          0.000000   \n",
       "25%              40.000000              38.000000       1815.485830   \n",
       "50%              55.000000              50.000000       2151.642336   \n",
       "75%              79.000000              73.000000       2577.003583   \n",
       "max           62034.000000           62034.000000       5975.609756   \n",
       "\n",
       "       price_per_m2       floor        rooms  \n",
       "count   1618.000000  482.000000  1385.000000  \n",
       "mean    4340.345113   10.085062     2.434657  \n",
       "std     8126.940810   44.783320     1.065193  \n",
       "min        2.224587    1.000000     1.000000  \n",
       "25%     1973.750000    2.000000     2.000000  \n",
       "50%     2411.239496    4.000000     2.000000  \n",
       "75%     2958.157462    7.000000     3.000000  \n",
       "max    57156.250000  616.000000     6.000000  "
      ]
     },
     "execution_count": 23,
     "metadata": {},
     "output_type": "execute_result"
    }
   ],
   "source": [
    "# Before\n",
    "df.describe()"
   ]
  },
  {
   "attachments": {},
   "cell_type": "markdown",
   "metadata": {},
   "source": [
    "It looks like `surface_covered_in_m2` contains outlier. Looking at the statistic, while most of the apartments in our dataset are smaller that 73 square meters, there are some that are several thousand square meters. We will modify our `wrangle` function to remove the outliers"
   ]
  },
  {
   "cell_type": "code",
   "execution_count": 26,
   "metadata": {},
   "outputs": [
    {
     "data": {
      "text/html": [
       "<div>\n",
       "<style scoped>\n",
       "    .dataframe tbody tr th:only-of-type {\n",
       "        vertical-align: middle;\n",
       "    }\n",
       "\n",
       "    .dataframe tbody tr th {\n",
       "        vertical-align: top;\n",
       "    }\n",
       "\n",
       "    .dataframe thead th {\n",
       "        text-align: right;\n",
       "    }\n",
       "</style>\n",
       "<table border=\"1\" class=\"dataframe\">\n",
       "  <thead>\n",
       "    <tr style=\"text-align: right;\">\n",
       "      <th></th>\n",
       "      <th>price</th>\n",
       "      <th>price_aprox_local_currency</th>\n",
       "      <th>price_aprox_usd</th>\n",
       "      <th>surface_total_in_m2</th>\n",
       "      <th>surface_covered_in_m2</th>\n",
       "      <th>price_usd_per_m2</th>\n",
       "      <th>price_per_m2</th>\n",
       "      <th>floor</th>\n",
       "      <th>rooms</th>\n",
       "    </tr>\n",
       "  </thead>\n",
       "  <tbody>\n",
       "    <tr>\n",
       "      <th>count</th>\n",
       "      <td>1.343000e+03</td>\n",
       "      <td>1.343000e+03</td>\n",
       "      <td>1343.000000</td>\n",
       "      <td>965.000000</td>\n",
       "      <td>1343.000000</td>\n",
       "      <td>927.000000</td>\n",
       "      <td>1343.000000</td>\n",
       "      <td>379.000000</td>\n",
       "      <td>1078.000000</td>\n",
       "    </tr>\n",
       "    <tr>\n",
       "      <th>mean</th>\n",
       "      <td>2.204582e+05</td>\n",
       "      <td>2.054927e+06</td>\n",
       "      <td>135527.838719</td>\n",
       "      <td>59.883938</td>\n",
       "      <td>55.076694</td>\n",
       "      <td>2244.163063</td>\n",
       "      <td>4285.479770</td>\n",
       "      <td>11.155673</td>\n",
       "      <td>2.364564</td>\n",
       "    </tr>\n",
       "    <tr>\n",
       "      <th>std</th>\n",
       "      <td>4.151182e+05</td>\n",
       "      <td>9.033095e+05</td>\n",
       "      <td>59575.630208</td>\n",
       "      <td>26.621969</td>\n",
       "      <td>18.160427</td>\n",
       "      <td>639.740608</td>\n",
       "      <td>7987.685558</td>\n",
       "      <td>50.138692</td>\n",
       "      <td>0.902759</td>\n",
       "    </tr>\n",
       "    <tr>\n",
       "      <th>min</th>\n",
       "      <td>2.727900e+04</td>\n",
       "      <td>4.136151e+05</td>\n",
       "      <td>27279.000000</td>\n",
       "      <td>0.000000</td>\n",
       "      <td>31.000000</td>\n",
       "      <td>513.513514</td>\n",
       "      <td>808.148936</td>\n",
       "      <td>1.000000</td>\n",
       "      <td>1.000000</td>\n",
       "    </tr>\n",
       "    <tr>\n",
       "      <th>25%</th>\n",
       "      <td>9.325000e+04</td>\n",
       "      <td>1.394941e+06</td>\n",
       "      <td>92000.000000</td>\n",
       "      <td>42.000000</td>\n",
       "      <td>40.000000</td>\n",
       "      <td>1826.505017</td>\n",
       "      <td>1975.872093</td>\n",
       "      <td>2.000000</td>\n",
       "      <td>2.000000</td>\n",
       "    </tr>\n",
       "    <tr>\n",
       "      <th>50%</th>\n",
       "      <td>1.259000e+05</td>\n",
       "      <td>1.819935e+06</td>\n",
       "      <td>120029.460000</td>\n",
       "      <td>55.000000</td>\n",
       "      <td>50.000000</td>\n",
       "      <td>2141.519231</td>\n",
       "      <td>2411.764706</td>\n",
       "      <td>4.000000</td>\n",
       "      <td>2.000000</td>\n",
       "    </tr>\n",
       "    <tr>\n",
       "      <th>75%</th>\n",
       "      <td>1.750000e+05</td>\n",
       "      <td>2.425984e+06</td>\n",
       "      <td>160000.000000</td>\n",
       "      <td>75.000000</td>\n",
       "      <td>68.500000</td>\n",
       "      <td>2578.183144</td>\n",
       "      <td>2964.814815</td>\n",
       "      <td>7.000000</td>\n",
       "      <td>3.000000</td>\n",
       "    </tr>\n",
       "    <tr>\n",
       "      <th>max</th>\n",
       "      <td>5.487000e+06</td>\n",
       "      <td>5.989148e+06</td>\n",
       "      <td>395000.000000</td>\n",
       "      <td>229.000000</td>\n",
       "      <td>100.000000</td>\n",
       "      <td>5777.777778</td>\n",
       "      <td>57156.250000</td>\n",
       "      <td>616.000000</td>\n",
       "      <td>6.000000</td>\n",
       "    </tr>\n",
       "  </tbody>\n",
       "</table>\n",
       "</div>"
      ],
      "text/plain": [
       "              price  price_aprox_local_currency  price_aprox_usd  \\\n",
       "count  1.343000e+03                1.343000e+03      1343.000000   \n",
       "mean   2.204582e+05                2.054927e+06    135527.838719   \n",
       "std    4.151182e+05                9.033095e+05     59575.630208   \n",
       "min    2.727900e+04                4.136151e+05     27279.000000   \n",
       "25%    9.325000e+04                1.394941e+06     92000.000000   \n",
       "50%    1.259000e+05                1.819935e+06    120029.460000   \n",
       "75%    1.750000e+05                2.425984e+06    160000.000000   \n",
       "max    5.487000e+06                5.989148e+06    395000.000000   \n",
       "\n",
       "       surface_total_in_m2  surface_covered_in_m2  price_usd_per_m2  \\\n",
       "count           965.000000            1343.000000        927.000000   \n",
       "mean             59.883938              55.076694       2244.163063   \n",
       "std              26.621969              18.160427        639.740608   \n",
       "min               0.000000              31.000000        513.513514   \n",
       "25%              42.000000              40.000000       1826.505017   \n",
       "50%              55.000000              50.000000       2141.519231   \n",
       "75%              75.000000              68.500000       2578.183144   \n",
       "max             229.000000             100.000000       5777.777778   \n",
       "\n",
       "       price_per_m2       floor        rooms  \n",
       "count   1343.000000  379.000000  1078.000000  \n",
       "mean    4285.479770   11.155673     2.364564  \n",
       "std     7987.685558   50.138692     0.902759  \n",
       "min      808.148936    1.000000     1.000000  \n",
       "25%     1975.872093    2.000000     2.000000  \n",
       "50%     2411.764706    4.000000     2.000000  \n",
       "75%     2964.814815    7.000000     3.000000  \n",
       "max    57156.250000  616.000000     6.000000  "
      ]
     },
     "execution_count": 26,
     "metadata": {},
     "output_type": "execute_result"
    }
   ],
   "source": [
    "# After\n",
    "df.describe()"
   ]
  },
  {
   "cell_type": "code",
   "execution_count": 27,
   "metadata": {},
   "outputs": [
    {
     "data": {
      "text/plain": [
       "(array([246., 240., 223., 136., 130., 107.,  84.,  79.,  47.,  51.]),\n",
       " array([ 31. ,  37.9,  44.8,  51.7,  58.6,  65.5,  72.4,  79.3,  86.2,\n",
       "         93.1, 100. ]),\n",
       " <BarContainer object of 10 artists>)"
      ]
     },
     "execution_count": 27,
     "metadata": {},
     "output_type": "execute_result"
    },
    {
     "data": {
      "image/png": "[encoded data removed]",
      "text/plain": [
       "<Figure size 432x288 with 1 Axes>"
      ]
     },
     "metadata": {
      "needs_background": "light"
     },
     "output_type": "display_data"
    }
   ],
   "source": [
    "plt.hist(df['surface_covered_in_m2'])"
   ]
  },
  {
   "attachments": {},
   "cell_type": "markdown",
   "metadata": {},
   "source": [
    "We need to split the `lat-lon` column into 2 separate columns to fit our model. We will go back and modify the `wrangle` function again to do this"
   ]
  },
  {
   "cell_type": "code",
   "execution_count": 31,
   "metadata": {},
   "outputs": [
    {
     "data": {
      "application/vnd.plotly.v1+json": {
       "config": {
        "plotlyServerURL": "https://plot.ly"
       },
       "data": [
        {
         "customdata": [
          [
           129000
          ],
          [
           87000
          ],
          [
           118000
          ],
          [
           57000
          ],
          [
           90000
          ],
          [
           138000
          ],
          [
           114000
          ],
          [
           82000
          ],
          [
           166000
          ],
          [
           136500
          ],
          [
           75000
          ],
          [
           68000
          ],
          [
           80000
          ],
          [
           125000
          ],
          [
           120000
          ],
          [
           145000
          ],
          [
           95000
          ],
          [
           155000
          ],
          [
           300000
          ],
          [
           95000
          ],
          [
           82000
          ],
          [
           129000
          ],
          [
           280000
          ],
          [
           125151.86
          ],
          [
           103144.44
          ],
          [
           118885
          ],
          [
           190000
          ],
          [
           157000
          ],
          [
           119000
          ],
          [
           290000
          ],
          [
           149000
          ],
          [
           199000
          ],
          [
           74400
          ],
          [
           130000
          ],
          [
           140000
          ],
          [
           179869
          ],
          [
           89000
          ],
          [
           80000
          ],
          [
           40711.36
          ],
          [
           84000
          ],
          [
           110000
          ],
          [
           115000
          ],
          [
           137500
          ],
          [
           88000
          ],
          [
           115000
          ],
          [
           83000
          ],
          [
           107000
          ],
          [
           129500
          ],
          [
           160000
          ],
          [
           97000
          ],
          [
           84000
          ],
          [
           85000
          ],
          [
           90000
          ],
          [
           27279
          ],
          [
           230000
          ],
          [
           64900
          ],
          [
           90000
          ],
          [
           142200
          ],
          [
           140000
          ],
          [
           114000
          ],
          [
           122000
          ],
          [
           99969.74
          ],
          [
           80000
          ],
          [
           120000
          ],
          [
           112000
          ],
          [
           85000
          ],
          [
           150000
          ],
          [
           86500
          ],
          [
           92400
          ],
          [
           110000
          ],
          [
           122000
          ],
          [
           271000
          ],
          [
           170000
          ],
          [
           235000
          ],
          [
           165000
          ],
          [
           170000
          ],
          [
           84000
          ],
          [
           90000
          ],
          [
           140000
          ],
          [
           99000
          ],
          [
           95000
          ],
          [
           155000
          ],
          [
           147000
          ],
          [
           156000
          ],
          [
           79000
          ],
          [
           110000
          ],
          [
           158000
          ],
          [
           249000
          ],
          [
           146000
          ],
          [
           158000
          ],
          [
           92000
          ],
          [
           92000
          ],
          [
           99000
          ],
          [
           250000
          ],
          [
           112000
          ],
          [
           120000
          ],
          [
           189000
          ],
          [
           95000
          ],
          [
           116000
          ],
          [
           85000
          ],
          [
           71500
          ],
          [
           37983
          ],
          [
           110000
          ],
          [
           120000
          ],
          [
           90000
          ],
          [
           85000
          ],
          [
           95000
          ],
          [
           105000
          ],
          [
           58000
          ],
          [
           108432.25
          ],
          [
           250000
          ],
          [
           265000
          ],
          [
           79000
          ],
          [
           81360
          ],
          [
           108000
          ],
          [
           128260
          ],
          [
           136000
          ],
          [
           210000
          ],
          [
           130730.17
          ],
          [
           166000
          ],
          [
           156000
          ],
          [
           165000
          ],
          [
           76095.39
          ],
          [
           184000
          ],
          [
           133000
          ],
          [
           94635
          ],
          [
           184150
          ],
          [
           179500
          ],
          [
           64000
          ],
          [
           280000
          ],
          [
           106000
          ],
          [
           99000
          ],
          [
           105500
          ],
          [
           165000
          ],
          [
           120000
          ],
          [
           93000
          ],
          [
           149000
          ],
          [
           185000
          ],
          [
           57000
          ],
          [
           122000
          ],
          [
           181000
          ],
          [
           330000
          ],
          [
           150000
          ],
          [
           130000
          ],
          [
           115000
          ],
          [
           83850
          ],
          [
           195514.05
          ],
          [
           107000
          ],
          [
           189000
          ],
          [
           139500
          ],
          [
           92000
          ],
          [
           128000
          ],
          [
           230000
          ],
          [
           226000
          ],
          [
           107000
          ],
          [
           134000
          ],
          [
           97000
          ],
          [
           370000
          ],
          [
           82393.28
          ],
          [
           66605
          ],
          [
           110000
          ],
          [
           100000
          ],
          [
           52000
          ],
          [
           213000
          ],
          [
           215315.1
          ],
          [
           245000
          ],
          [
           124900
          ],
          [
           150000
          ],
          [
           122000
          ],
          [
           120000
          ],
          [
           84800
          ],
          [
           189900
          ],
          [
           128000
          ],
          [
           95164
          ],
          [
           125000
          ],
          [
           122000
          ],
          [
           60000
          ],
          [
           255000
          ],
          [
           99538
          ],
          [
           230000
          ],
          [
           110000
          ],
          [
           80000
          ],
          [
           133000
          ],
          [
           89500
          ],
          [
           175000
          ],
          [
           94300
          ],
          [
           162233.79
          ],
          [
           114998.09
          ],
          [
           199500
          ],
          [
           94000
          ],
          [
           125900
          ],
          [
           178000
          ],
          [
           152000
          ],
          [
           98000
          ],
          [
           125000
          ],
          [
           158000
          ],
          [
           150277
          ],
          [
           91814.31
          ],
          [
           195000
          ],
          [
           72000
          ],
          [
           84062.58
          ],
          [
           64900
          ],
          [
           131000
          ],
          [
           137000
          ],
          [
           138000
          ],
          [
           111530.32
          ],
          [
           159500
          ],
          [
           175000
          ],
          [
           309000
          ],
          [
           95000
          ],
          [
           73000
          ],
          [
           87000
          ],
          [
           73000
          ],
          [
           105485
          ],
          [
           382015
          ],
          [
           95700
          ],
          [
           174000
          ],
          [
           120000
          ],
          [
           120000
          ],
          [
           67000
          ],
          [
           122000
          ],
          [
           92082.74
          ],
          [
           83000
          ],
          [
           130000
          ],
          [
           139000
          ],
          [
           120000
          ],
          [
           111000
          ],
          [
           95000
          ],
          [
           221700
          ],
          [
           205000
          ],
          [
           90000
          ],
          [
           220000
          ],
          [
           125000
          ],
          [
           99000
          ],
          [
           132000
          ],
          [
           197900
          ],
          [
           78000
          ],
          [
           114000
          ],
          [
           100000
          ],
          [
           108600
          ],
          [
           157000
          ],
          [
           360877.62
          ],
          [
           60000
          ],
          [
           97000
          ],
          [
           136000
          ],
          [
           240000
          ],
          [
           142000
          ],
          [
           310000
          ],
          [
           103018
          ],
          [
           107000
          ],
          [
           101613.98
          ],
          [
           135000
          ],
          [
           119000
          ],
          [
           220000
          ],
          [
           185000
          ],
          [
           170000
          ],
          [
           227473.79
          ],
          [
           85000
          ],
          [
           150000
          ],
          [
           130000
          ],
          [
           175000
          ],
          [
           180000
          ],
          [
           331000
          ],
          [
           92000
          ],
          [
           93900
          ],
          [
           140000
          ],
          [
           78800
          ],
          [
           95000
          ],
          [
           155000
          ],
          [
           68000
          ],
          [
           145000
          ],
          [
           98000
          ],
          [
           94500
          ],
          [
           67600
          ],
          [
           195000
          ],
          [
           77000
          ],
          [
           298000
          ],
          [
           85000
          ],
          [
           109000
          ],
          [
           133000
          ],
          [
           72000
          ],
          [
           93327.01
          ],
          [
           63000
          ],
          [
           87000
          ],
          [
           64651.88
          ],
          [
           195000
          ],
          [
           260000
          ],
          [
           169500
          ],
          [
           129000
          ],
          [
           119000
          ],
          [
           88000
          ],
          [
           100306
          ],
          [
           97000
          ],
          [
           86000
          ],
          [
           90000
          ],
          [
           112677
          ],
          [
           145000
          ],
          [
           150000
          ],
          [
           210000
          ],
          [
           100000
          ],
          [
           76000
          ],
          [
           95568
          ],
          [
           175000
          ],
          [
           94000
          ],
          [
           195000
          ],
          [
           145000
          ],
          [
           159000
          ],
          [
           120000
          ],
          [
           350000
          ],
          [
           84500
          ],
          [
           115000
          ],
          [
           73800
          ],
          [
           130000
          ],
          [
           110000
          ],
          [
           132000
          ],
          [
           169000
          ],
          [
           189000
          ],
          [
           78000
          ],
          [
           138000
          ],
          [
           90000
          ],
          [
           62000
          ],
          [
           157000
          ],
          [
           138000
          ],
          [
           84000
          ],
          [
           88000
          ],
          [
           140000
          ],
          [
           198000
          ],
          [
           61770
          ],
          [
           92000
          ],
          [
           104310.53
          ],
          [
           157000
          ],
          [
           91606
          ],
          [
           85000
          ],
          [
           145000
          ],
          [
           120000
          ],
          [
           275000
          ],
          [
           75000
          ],
          [
           99500
          ],
          [
           53000
          ],
          [
           65000
          ],
          [
           210000
          ],
          [
           160000
          ],
          [
           85900
          ],
          [
           103000
          ],
          [
           137000
          ],
          [
           135000
          ],
          [
           119900
          ],
          [
           193000
          ],
          [
           102337.45
          ],
          [
           139000
          ],
          [
           290000
          ],
          [
           158000
          ],
          [
           140000
          ],
          [
           95800
          ],
          [
           233284.66
          ],
          [
           200000
          ],
          [
           75000
          ],
          [
           145000
          ],
          [
           295000
          ],
          [
           79500
          ],
          [
           123000
          ],
          [
           91500
          ],
          [
           135000
          ],
          [
           83000
          ],
          [
           180000
          ],
          [
           85000
          ],
          [
           380000
          ],
          [
           180000
          ],
          [
           137000
          ],
          [
           107500
          ],
          [
           143000
          ],
          [
           118000
          ],
          [
           176000
          ],
          [
           78397.32
          ],
          [
           230500
          ],
          [
           158000
          ],
          [
           165000
          ],
          [
           138000
          ],
          [
           152000
          ],
          [
           165000
          ],
          [
           78000
          ],
          [
           153000
          ],
          [
           105000
          ],
          [
           170000
          ],
          [
           140000
          ],
          [
           69458
          ],
          [
           110000
          ],
          [
           84000
          ],
          [
           105100
          ],
          [
           103981.68
          ],
          [
           160000
          ],
          [
           105000
          ],
          [
           73800
          ],
          [
           248000
          ],
          [
           133000
          ],
          [
           88000
          ],
          [
           112419
          ],
          [
           137000
          ],
          [
           200000
          ],
          [
           160000
          ],
          [
           174250
          ],
          [
           105700
          ],
          [
           268000
          ],
          [
           135000
          ],
          [
           84280
          ],
          [
           92304
          ],
          [
           220000
          ],
          [
           90000
          ],
          [
           265000
          ],
          [
           189302
          ],
          [
           314181.23
          ],
          [
           240000
          ],
          [
           102732.06
          ],
          [
           152638
          ],
          [
           78000
          ],
          [
           70000
          ],
          [
           205000
          ],
          [
           102000
          ],
          [
           145000
          ],
          [
           95000
          ],
          [
           73000
          ],
          [
           95000
          ],
          [
           90000
          ],
          [
           107720
          ],
          [
           105000
          ],
          [
           149900
          ],
          [
           299000
          ],
          [
           129900
          ],
          [
           222500
          ],
          [
           98000
          ],
          [
           109500
          ],
          [
           270000
          ],
          [
           99000
          ],
          [
           98900
          ],
          [
           88549.51
          ],
          [
           148000
          ],
          [
           174000
          ],
          [
           70000
          ],
          [
           149500
          ],
          [
           99000
          ],
          [
           94000
          ],
          [
           98720.12
          ],
          [
           83840
          ],
          [
           165000
          ],
          [
           125000
          ],
          [
           289000
          ],
          [
           119000
          ],
          [
           85000
          ],
          [
           142000
          ],
          [
           117000
          ],
          [
           78000
          ],
          [
           52000
          ],
          [
           92000
          ],
          [
           150000
          ],
          [
           135000
          ],
          [
           115000
          ],
          [
           115000
          ],
          [
           140000
          ],
          [
           105500
          ],
          [
           85000
          ],
          [
           99000
          ],
          [
           114000
          ],
          [
           79000
          ],
          [
           39461.74
          ],
          [
           115000
          ],
          [
           112000
          ],
          [
           91000
          ],
          [
           125000
          ],
          [
           138000
          ],
          [
           150000
          ],
          [
           157000
          ],
          [
           85000
          ],
          [
           80000
          ],
          [
           127000
          ],
          [
           74000
          ],
          [
           85800
          ],
          [
           202616
          ],
          [
           80000
          ],
          [
           279900
          ],
          [
           165700
          ],
          [
           146076
          ],
          [
           82000
          ],
          [
           154500
          ],
          [
           135000
          ],
          [
           170000
          ],
          [
           95000
          ],
          [
           95000
          ],
          [
           90000
          ],
          [
           240000
          ],
          [
           75000
          ],
          [
           255000
          ],
          [
           82000
          ],
          [
           127000
          ],
          [
           340000
          ],
          [
           124999
          ],
          [
           138000
          ],
          [
           160000
          ],
          [
           71900
          ],
          [
           115000
          ],
          [
           89000
          ],
          [
           90000
          ],
          [
           70000
          ],
          [
           210000
          ],
          [
           190000
          ],
          [
           140000
          ],
          [
           119000
          ],
          [
           187000
          ],
          [
           125000
          ],
          [
           75000
          ],
          [
           220000
          ],
          [
           150000
          ],
          [
           146000
          ],
          [
           55000
          ],
          [
           99500
          ],
          [
           123000
          ],
          [
           112000
          ],
          [
           195000
          ],
          [
           78000
          ],
          [
           72000
          ],
          [
           182042.34
          ],
          [
           187000
          ],
          [
           131216
          ],
          [
           130000
          ],
          [
           79000
          ],
          [
           105000
          ],
          [
           108223.82
          ],
          [
           205000
          ],
          [
           195000
          ],
          [
           80896.57
          ],
          [
           65900
          ],
          [
           66458
          ],
          [
           239000
          ],
          [
           95000
          ],
          [
           281170
          ],
          [
           93000
          ],
          [
           104400
          ],
          [
           96298.22
          ],
          [
           130000
          ],
          [
           95000
          ],
          [
           158000
          ],
          [
           290000
          ],
          [
           185000
          ],
          [
           130000
          ],
          [
           120000
          ],
          [
           85000
          ],
          [
           87000
          ],
          [
           88517
          ],
          [
           125000
          ],
          [
           145000
          ],
          [
           72000
          ],
          [
           152000
          ],
          [
           219235
          ],
          [
           158000
          ],
          [
           98000
          ],
          [
           148000
          ],
          [
           75000
          ],
          [
           199000
          ],
          [
           88498
          ],
          [
           99800
          ],
          [
           94000
          ],
          [
           87000
          ],
          [
           78000
          ],
          [
           88500
          ],
          [
           230000
          ],
          [
           87000
          ],
          [
           145000
          ],
          [
           119000
          ],
          [
           169000
          ],
          [
           67500
          ],
          [
           91781.43
          ],
          [
           80000
          ],
          [
           75000
          ],
          [
           81000
          ],
          [
           105000
          ],
          [
           130000
          ],
          [
           95000
          ],
          [
           183000
          ],
          [
           125000
          ],
          [
           162000
          ],
          [
           96000
          ],
          [
           109000
          ],
          [
           122000
          ],
          [
           120000
          ],
          [
           126800
          ],
          [
           89000
          ],
          [
           97000
          ],
          [
           190729
          ],
          [
           95000
          ],
          [
           118000
          ],
          [
           98000
          ],
          [
           130000
          ],
          [
           130000
          ],
          [
           177000
          ],
          [
           225000
          ],
          [
           245000
          ],
          [
           94000
          ],
          [
           152000
          ],
          [
           196000
          ],
          [
           142000
          ],
          [
           120000
          ],
          [
           141780
          ],
          [
           185000
          ],
          [
           105000
          ],
          [
           100924.45
          ],
          [
           279000
          ],
          [
           104999
          ],
          [
           76000
          ],
          [
           115000
          ],
          [
           90000
          ],
          [
           125000
          ],
          [
           84448.12
          ],
          [
           155000
          ],
          [
           130000
          ],
          [
           143000
          ],
          [
           89035
          ],
          [
           153979.85
          ],
          [
           70000
          ],
          [
           249900
          ],
          [
           124267
          ],
          [
           115079
          ],
          [
           120000
          ],
          [
           236132
          ],
          [
           92800
          ],
          [
           84000
          ],
          [
           160000
          ],
          [
           110000
          ],
          [
           98000
          ],
          [
           83500
          ],
          [
           130000
          ],
          [
           110760
          ],
          [
           145000
          ],
          [
           84000
          ],
          [
           133000
          ],
          [
           147000
          ],
          [
           93653
          ],
          [
           70000
          ],
          [
           115000
          ],
          [
           285000
          ],
          [
           150000
          ],
          [
           96000
          ],
          [
           205000
          ],
          [
           92107
          ],
          [
           142000
          ],
          [
           78800
          ],
          [
           210000
          ],
          [
           98500
          ],
          [
           85000
          ],
          [
           69000
          ],
          [
           90000
          ],
          [
           117000
          ],
          [
           170000
          ],
          [
           154112
          ],
          [
           86000
          ],
          [
           175000
          ],
          [
           95000
          ],
          [
           95000
          ],
          [
           190000
          ],
          [
           165000
          ],
          [
           85000
          ],
          [
           95000
          ],
          [
           98000
          ],
          [
           260000
          ],
          [
           215100
          ],
          [
           88000
          ],
          [
           90000
          ],
          [
           118000
          ],
          [
           154000
          ],
          [
           233200
          ],
          [
           245000
          ],
          [
           191134
          ],
          [
           114000
          ],
          [
           205095
          ],
          [
           123000
          ],
          [
           208000
          ],
          [
           190000
          ],
          [
           220000
          ],
          [
           140000
          ],
          [
           66458
          ],
          [
           199000
          ],
          [
           97000
          ],
          [
           88000
          ],
          [
           160000
          ],
          [
           279000
          ],
          [
           165000
          ],
          [
           99000
          ],
          [
           85000
          ],
          [
           120029.46
          ],
          [
           100000
          ],
          [
           280000
          ],
          [
           130000
          ],
          [
           73600
          ],
          [
           325000
          ],
          [
           79400
          ],
          [
           85000
          ],
          [
           330000
          ],
          [
           125000
          ],
          [
           119000
          ],
          [
           71899
          ],
          [
           88060
          ],
          [
           70000
          ],
          [
           85000
          ],
          [
           95000
          ],
          [
           285000
          ],
          [
           135000
          ],
          [
           112781.45
          ],
          [
           72900
          ],
          [
           230000
          ],
          [
           124000
          ],
          [
           130000
          ],
          [
           96189
          ],
          [
           190000
          ],
          [
           86000
          ],
          [
           135000
          ],
          [
           81500
          ],
          [
           110940
          ],
          [
           111359
          ],
          [
           140000
          ],
          [
           125000
          ],
          [
           84000
          ],
          [
           127000
          ],
          [
           79500
          ],
          [
           90000
          ],
          [
           105000
          ],
          [
           134827.61
          ],
          [
           98000
          ],
          [
           130000
          ],
          [
           220000
          ],
          [
           86400
          ],
          [
           90000
          ],
          [
           99000
          ],
          [
           220000
          ],
          [
           87000
          ],
          [
           82000
          ],
          [
           105000
          ],
          [
           226063
          ],
          [
           108000
          ],
          [
           83000
          ],
          [
           67000
          ],
          [
           75500
          ],
          [
           90000
          ],
          [
           120000
          ],
          [
           115000
          ],
          [
           91500
          ],
          [
           132000
          ],
          [
           145000
          ],
          [
           130000
          ],
          [
           114000
          ],
          [
           59815.05
          ],
          [
           220000
          ],
          [
           94900
          ],
          [
           189000
          ],
          [
           170000
          ],
          [
           125000
          ],
          [
           107000
          ],
          [
           203000
          ],
          [
           75000
          ],
          [
           70000
          ],
          [
           100000
          ],
          [
           80000
          ],
          [
           395000
          ],
          [
           85000
          ],
          [
           90000
          ],
          [
           71359.98
          ],
          [
           99300
          ],
          [
           129000
          ],
          [
           122000
          ],
          [
           98000
          ],
          [
           245000
          ],
          [
           215000
          ],
          [
           135000
          ],
          [
           97000
          ],
          [
           155000
          ],
          [
           181721.32
          ],
          [
           135000
          ],
          [
           65000
          ],
          [
           92500
          ],
          [
           149000
          ],
          [
           225000
          ],
          [
           109000
          ],
          [
           105300
          ],
          [
           125000
          ],
          [
           135500
          ],
          [
           95000
          ],
          [
           94000
          ],
          [
           82000
          ],
          [
           95300.1
          ],
          [
           150000
          ],
          [
           176000
          ],
          [
           70000
          ],
          [
           108000
          ],
          [
           185000
          ],
          [
           191000
          ],
          [
           179000
          ],
          [
           90000
          ],
          [
           180000
          ],
          [
           129000
          ],
          [
           145000
          ],
          [
           88000
          ],
          [
           276500
          ],
          [
           94905.48
          ],
          [
           183300
          ],
          [
           78100
          ],
          [
           146000
          ],
          [
           125000
          ],
          [
           76184
          ],
          [
           80000
          ],
          [
           84500
          ],
          [
           93000
          ],
          [
           93975
          ],
          [
           127000
          ],
          [
           105925.77
          ],
          [
           125000
          ],
          [
           104000
          ],
          [
           118000
          ],
          [
           148847
          ],
          [
           144000
          ],
          [
           149000
          ],
          [
           73000
          ],
          [
           75000
          ],
          [
           135000
          ],
          [
           146000
          ],
          [
           110000
          ],
          [
           78476.25
          ],
          [
           101808
          ],
          [
           105000
          ],
          [
           137000
          ],
          [
           80000
          ],
          [
           90123.38
          ],
          [
           165000
          ],
          [
           127000
          ],
          [
           100200
          ],
          [
           115000
          ],
          [
           120000
          ],
          [
           270000
          ],
          [
           75000
          ],
          [
           88657.38
          ],
          [
           69000
          ],
          [
           85000
          ],
          [
           165000
          ],
          [
           99800
          ],
          [
           135000
          ],
          [
           184000
          ],
          [
           84000
          ],
          [
           159000
          ],
          [
           95000
          ],
          [
           60000
          ],
          [
           110000
          ],
          [
           75000
          ],
          [
           99000
          ],
          [
           115000
          ],
          [
           230000
          ],
          [
           84500
          ],
          [
           92000
          ],
          [
           75600
          ],
          [
           109000
          ],
          [
           205000
          ],
          [
           93500
          ],
          [
           159900
          ],
          [
           154500
          ],
          [
           118000
          ],
          [
           197000
          ],
          [
           80000
          ],
          [
           177000
          ],
          [
           83000
          ],
          [
           85000
          ],
          [
           131500
          ],
          [
           130000
          ],
          [
           95000
          ],
          [
           118000
          ],
          [
           148000
          ],
          [
           116479.68
          ],
          [
           138000
          ],
          [
           74900
          ],
          [
           150000
          ],
          [
           155000
          ],
          [
           136000
          ],
          [
           175000
          ],
          [
           190000
          ],
          [
           68000
          ],
          [
           120000
          ],
          [
           85000
          ],
          [
           92000
          ],
          [
           110000
          ],
          [
           138500
          ],
          [
           74676
          ],
          [
           62000
          ],
          [
           135000
          ],
          [
           82000
          ],
          [
           235000
          ],
          [
           240000
          ],
          [
           190000
          ],
          [
           149500
          ],
          [
           73000
          ],
          [
           96000
          ],
          [
           165000
          ],
          [
           160000
          ],
          [
           91200
          ],
          [
           89000
          ],
          [
           93000
          ],
          [
           110000
          ],
          [
           79000
          ],
          [
           140000
          ],
          [
           84900
          ],
          [
           390000
          ],
          [
           145000
          ],
          [
           89000
          ],
          [
           85000
          ],
          [
           185000
          ],
          [
           135000
          ],
          [
           99900
          ],
          [
           272000
          ],
          [
           275000
          ],
          [
           170000
          ],
          [
           144693.05
          ],
          [
           159500
          ],
          [
           149000
          ],
          [
           80000
          ],
          [
           74500
          ],
          [
           125000
          ],
          [
           183000
          ],
          [
           169500
          ],
          [
           132000
          ],
          [
           65000
          ],
          [
           47972.65
          ],
          [
           89000
          ],
          [
           112000
          ],
          [
           309000
          ],
          [
           76661.01
          ],
          [
           180000
          ],
          [
           175000
          ],
          [
           114000
          ],
          [
           109472
          ],
          [
           129000
          ],
          [
           115000
          ],
          [
           115000
          ],
          [
           75000
          ],
          [
           130000
          ],
          [
           145000
          ],
          [
           185000
          ],
          [
           122000
          ],
          [
           120000
          ],
          [
           250000
          ],
          [
           85330.88
          ],
          [
           260000
          ],
          [
           175000
          ],
          [
           176000
          ],
          [
           87000
          ],
          [
           320000
          ],
          [
           120000
          ],
          [
           93000
          ],
          [
           241900
          ],
          [
           240000
          ],
          [
           90000
          ],
          [
           143000
          ],
          [
           138000
          ],
          [
           115000
          ],
          [
           158356
          ],
          [
           150000
          ],
          [
           190000
          ],
          [
           350000
          ],
          [
           75000
          ],
          [
           159000
          ],
          [
           175000
          ],
          [
           119000
          ],
          [
           210000
          ],
          [
           79800
          ],
          [
           176000
          ],
          [
           97500
          ],
          [
           75000
          ],
          [
           85000
          ],
          [
           160000
          ],
          [
           185000
          ],
          [
           92200
          ],
          [
           165000
          ],
          [
           167000
          ],
          [
           151800
          ],
          [
           149900
          ],
          [
           155000
          ],
          [
           85000
          ],
          [
           81900
          ],
          [
           240000
          ],
          [
           80000
          ],
          [
           105000
          ],
          [
           85000
          ],
          [
           102500
          ],
          [
           115000
          ],
          [
           148000
          ],
          [
           359950
          ],
          [
           85000
          ],
          [
           95000
          ],
          [
           151000
          ],
          [
           74000
          ],
          [
           300000
          ],
          [
           65000
          ],
          [
           185000
          ],
          [
           250000
          ],
          [
           239000
          ],
          [
           180000
          ],
          [
           92000
          ],
          [
           148000
          ],
          [
           150000
          ],
          [
           72000
          ],
          [
           128000
          ],
          [
           136000
          ],
          [
           120000
          ],
          [
           220000
          ],
          [
           166000
          ],
          [
           330000
          ],
          [
           92500
          ],
          [
           112000
          ],
          [
           180000
          ],
          [
           102921
          ],
          [
           135000
          ],
          [
           99306
          ],
          [
           190000
          ],
          [
           340000
          ],
          [
           86900
          ],
          [
           92000
          ],
          [
           145000
          ],
          [
           120637.7
          ],
          [
           125000
          ],
          [
           149000
          ],
          [
           173000
          ],
          [
           156000
          ],
          [
           110207
          ],
          [
           143000
          ],
          [
           125000
          ],
          [
           93392.78
          ],
          [
           145000
          ],
          [
           165000
          ],
          [
           60000
          ],
          [
           145000
          ],
          [
           168500
          ],
          [
           139500
          ],
          [
           155000
          ],
          [
           120000
          ],
          [
           70000
          ],
          [
           70000
          ],
          [
           93000
          ],
          [
           115400
          ],
          [
           195000
          ],
          [
           95000
          ],
          [
           175000
          ],
          [
           320000
          ],
          [
           214073
          ],
          [
           138000
          ],
          [
           77500
          ],
          [
           189500
          ],
          [
           148000
          ],
          [
           193000
          ],
          [
           130000
          ],
          [
           165000
          ],
          [
           138159
          ],
          [
           157000
          ],
          [
           105000
          ],
          [
           352000
          ],
          [
           75000
          ],
          [
           85000
          ],
          [
           94700
          ],
          [
           300000
          ],
          [
           123200
          ],
          [
           220000
          ],
          [
           145000
          ],
          [
           155000
          ],
          [
           85000
          ],
          [
           69000
          ],
          [
           102167
          ],
          [
           85000
          ],
          [
           102000
          ],
          [
           158000
          ],
          [
           135000
          ],
          [
           95000
          ],
          [
           135000
          ],
          [
           90000
          ],
          [
           84500
          ],
          [
           89000
          ],
          [
           63000
          ],
          [
           185000
          ],
          [
           260000
          ],
          [
           75050
          ],
          [
           95000
          ],
          [
           115000
          ],
          [
           79500
          ],
          [
           233284.66
          ],
          [
           185000
          ],
          [
           119000
          ],
          [
           124000
          ],
          [
           109506.33
          ],
          [
           150000
          ],
          [
           150000
          ],
          [
           110000
          ],
          [
           195000
          ],
          [
           166793
          ],
          [
           95000
          ],
          [
           165000
          ],
          [
           153000
          ],
          [
           169900
          ],
          [
           78900
          ],
          [
           89900
          ],
          [
           121000
          ],
          [
           125000
          ],
          [
           290000
          ],
          [
           175000
          ],
          [
           268000
          ],
          [
           84900
          ],
          [
           123400
          ],
          [
           108868.17
          ],
          [
           260000
          ],
          [
           71000
          ],
          [
           180000
          ],
          [
           84500
          ],
          [
           90000
          ],
          [
           160000
          ],
          [
           180000
          ],
          [
           74800
          ],
          [
           103587.07
          ],
          [
           270000
          ],
          [
           72000
          ],
          [
           73000
          ],
          [
           300000
          ],
          [
           140000
          ],
          [
           115000
          ],
          [
           210000
          ],
          [
           115000
          ],
          [
           105000
          ],
          [
           90000
          ],
          [
           175000
          ],
          [
           150000
          ],
          [
           70000
          ],
          [
           105000
          ],
          [
           232000
          ],
          [
           200000
          ],
          [
           92625
          ],
          [
           131000
          ],
          [
           245000
          ],
          [
           235000
          ],
          [
           123000
          ],
          [
           98000
          ],
          [
           178000
          ],
          [
           92000
          ],
          [
           120000
          ],
          [
           100000
          ],
          [
           165000
          ],
          [
           208000
          ],
          [
           146000
          ],
          [
           162911.22
          ],
          [
           113360
          ],
          [
           115000
          ],
          [
           105000
          ],
          [
           158000
          ],
          [
           97000
          ],
          [
           89500
          ],
          [
           210000
          ],
          [
           179375
          ],
          [
           165000
          ],
          [
           172000
          ],
          [
           88000
          ],
          [
           216500
          ],
          [
           89000
          ],
          [
           188000
          ],
          [
           395000
          ],
          [
           106000
          ],
          [
           220000
          ],
          [
           130000
          ],
          [
           179500
          ],
          [
           239000
          ],
          [
           122907.6
          ],
          [
           319000
          ],
          [
           265000
          ],
          [
           125000
          ],
          [
           140000
          ],
          [
           115000
          ],
          [
           197000
          ],
          [
           150000
          ],
          [
           200000
          ],
          [
           82500
          ],
          [
           80000
          ],
          [
           58000
          ],
          [
           82988.04
          ],
          [
           179000
          ],
          [
           145000
          ],
          [
           165000
          ],
          [
           193000
          ],
          [
           117500
          ],
          [
           193500
          ],
          [
           112000
          ],
          [
           88986.22
          ],
          [
           110760
          ],
          [
           73900
          ],
          [
           144900
          ],
          [
           155000
          ],
          [
           162000
          ],
          [
           195000
          ],
          [
           105000
          ],
          [
           95000
          ],
          [
           82500
          ],
          [
           80000
          ],
          [
           143000
          ],
          [
           110000
          ],
          [
           139000
          ],
          [
           96500
          ],
          [
           150000
          ],
          [
           80000
          ],
          [
           125000
          ],
          [
           108000
          ],
          [
           164900
          ],
          [
           150000
          ],
          [
           149000
          ],
          [
           68000
          ],
          [
           330000
          ],
          [
           135000
          ],
          [
           110000
          ],
          [
           149000
          ],
          [
           149000
          ],
          [
           179500
          ],
          [
           63500
          ],
          [
           120000
          ],
          [
           80000
          ],
          [
           105000
          ],
          [
           240000
          ],
          [
           85000
          ],
          [
           60000
          ],
          [
           112000
          ],
          [
           90000
          ],
          [
           176900
          ],
          [
           112677
          ],
          [
           72000
          ],
          [
           130000
          ],
          [
           125000
          ],
          [
           69000
          ],
          [
           138000
          ],
          [
           93000
          ],
          [
           99000
          ],
          [
           225000
          ],
          [
           123000
          ],
          [
           265000
          ],
          [
           134000
          ],
          [
           150000
          ],
          [
           59000
          ],
          [
           165000
          ],
          [
           145000
          ],
          [
           87000
          ],
          [
           55000
          ],
          [
           169000
          ],
          [
           135000
          ],
          [
           137000
          ],
          [
           65000
          ],
          [
           89000
          ],
          [
           141300
          ],
          [
           125000
          ],
          [
           106250
          ],
          [
           126000
          ],
          [
           97500
          ],
          [
           120000
          ],
          [
           71361
          ],
          [
           115000
          ],
          [
           82000
          ],
          [
           155000
          ],
          [
           170000
          ],
          [
           110000
          ],
          [
           190000
          ],
          [
           178000
          ],
          [
           235000
          ],
          [
           85000
          ],
          [
           130000
          ],
          [
           90000
          ],
          [
           120000
          ],
          [
           105000
          ],
          [
           90000
          ],
          [
           120000
          ],
          [
           126446
          ],
          [
           79447
          ],
          [
           36173.26
          ],
          [
           224000
          ],
          [
           144693.05
          ],
          [
           140000
          ],
          [
           75000
          ],
          [
           134000
          ],
          [
           164000
          ],
          [
           147000
          ],
          [
           175000
          ],
          [
           155000
          ],
          [
           89000
          ],
          [
           168000
          ],
          [
           85000
          ],
          [
           156000
          ],
          [
           149000
          ],
          [
           59000
          ],
          [
           138000
          ],
          [
           185000
          ],
          [
           59640
          ],
          [
           100000
          ],
          [
           73600
          ],
          [
           205095
          ],
          [
           215000
          ],
          [
           77000
          ],
          [
           168000
          ],
          [
           160000
          ],
          [
           315000
          ],
          [
           95000
          ],
          [
           115000
          ],
          [
           100000
          ],
          [
           170000
          ],
          [
           215000
          ],
          [
           120000
          ],
          [
           310000
          ],
          [
           158000
          ],
          [
           175000
          ],
          [
           200000
          ],
          [
           117620
          ],
          [
           210000
          ],
          [
           140000
          ],
          [
           147733
          ],
          [
           149500
          ],
          [
           95100
          ],
          [
           170000
          ],
          [
           350000
          ],
          [
           98000
          ],
          [
           195000
          ],
          [
           129500
          ],
          [
           75000
          ],
          [
           185000
          ],
          [
           99000
          ],
          [
           249000
          ],
          [
           230000
          ],
          [
           105000
          ],
          [
           125000
          ],
          [
           104000
          ],
          [
           90000
          ],
          [
           84500
          ],
          [
           125000
          ],
          [
           210000
          ],
          [
           245000
          ],
          [
           171900
          ],
          [
           78000
          ],
          [
           63000
          ],
          [
           135000
          ],
          [
           143100
          ],
          [
           73536.95
          ],
          [
           119000
          ],
          [
           62000
          ],
          [
           125000
          ],
          [
           78000
          ]
         ],
         "hovertemplate": "lat=%{lat}<br>lon=%{lon}<br>price_aprox_usd=%{marker.color}<extra></extra>",
         "lat": [
          -34.5846508988,
          -34.6389789,
          -34.615847,
          -34.6252219,
          -34.6106102,
          -34.6038236,
          -34.586103,
          -34.6265182557,
          -34.5620844,
          -34.648143,
          -34.596715,
          -34.599722,
          -34.616182,
          -34.6034659,
          -34.6136992,
          -34.5475074,
          -34.6087015,
          -34.5975665,
          -34.5670929999,
          -34.645401,
          -34.6198687,
          -34.618545,
          -34.5933599,
          -34.620556,
          -34.552129,
          -34.5620844,
          -34.5892291,
          -34.6206701,
          -34.617869,
          -34.5972390007,
          -34.6044029,
          -34.5628985,
          -34.6171601,
          -34.624943,
          -34.5995053,
          -34.61098,
          -34.554535,
          -34.6266557,
          -34.6076122891,
          -34.603367,
          -34.5987952,
          -34.546801,
          -34.5607997,
          -34.5990818,
          -34.6085660579,
          null,
          -34.6055653,
          -34.6050835,
          -34.586177,
          null,
          -34.5493135,
          -34.6200825,
          -34.556844,
          -34.5413289,
          -34.582627,
          -34.663879,
          -34.5832049,
          -34.6603056,
          -34.616845,
          -34.570611,
          -34.6315375,
          -34.6220775573,
          -34.56123,
          -34.5760976609,
          -34.6254543,
          -34.5675671,
          -34.6188022,
          -34.599277,
          -34.6039192,
          -34.618893,
          -34.6148993692,
          -34.567984,
          -34.583263,
          -34.5750392,
          -34.5526272,
          -34.5707228,
          -34.6114169,
          -34.6006047,
          -34.5751543197,
          -34.5881967,
          -34.605237,
          -34.622597,
          -34.606622,
          -34.5893031,
          -34.606709,
          -34.624235218,
          -34.5961219,
          -34.572892,
          -34.6231484,
          -34.602288,
          -34.6416277,
          -34.6325264,
          -34.6207818,
          -34.56404,
          -34.6001061,
          -34.615972,
          -34.574731,
          -34.5981092,
          -34.602148,
          -34.6335163,
          -34.6285036,
          -34.5413289,
          -34.636739,
          -34.603933,
          -34.5990666,
          -34.6421604,
          null,
          -34.6036844,
          -34.643906,
          -34.6176481,
          -34.5973156703,
          -34.5731012,
          -34.5583606,
          -34.586418,
          -34.5801265,
          -34.61098,
          -34.5978249,
          -34.5988783,
          -34.626917,
          -34.576241,
          -34.6015602,
          -34.6207509,
          -34.6267687,
          -34.623771,
          null,
          -34.5688712,
          -34.590836,
          -34.555221,
          -34.6146153,
          -34.5877285,
          -34.5631975,
          -34.6119413,
          -34.60808733,
          -34.5831329,
          -34.6132035,
          -34.584814,
          -34.5889201,
          -34.6385261,
          -34.6055229,
          -34.5817888,
          -34.5427503,
          -34.5870824,
          -34.6120655,
          -34.600257,
          -34.5444571,
          -34.6256447,
          -34.6429903,
          -34.5774559,
          -34.569348,
          -34.545956,
          -34.6066665,
          -34.536471,
          -34.6300503,
          -34.573337,
          -34.6177447,
          -34.5783681,
          -34.6182787,
          -34.5746861,
          -34.5977228,
          -34.5469954989,
          -34.6044676,
          -34.5992637343,
          -34.685112,
          -34.5822701,
          -34.5538467,
          -34.578295,
          -34.601908,
          -34.601122,
          -34.6344407,
          -34.5814285,
          -34.6123096302,
          -34.573226,
          -34.565895,
          -34.5688712,
          -34.6240354,
          -34.5901166454,
          null,
          -34.5933674,
          -34.6037137392,
          -34.556396,
          -34.56822,
          -34.571953,
          -34.596653,
          -34.61747,
          -34.6205608,
          -34.6162229,
          -34.5519084,
          -34.6204532,
          -34.6118061,
          -34.658557,
          -34.6026363624,
          -34.5599543233,
          -34.6125486,
          -34.6252894049,
          -34.6001483,
          -34.5992438171,
          -34.6013646,
          -34.6267858,
          -34.615582,
          -34.604215,
          -34.637261,
          -34.597101,
          -34.549608,
          -34.6017006,
          -34.6038236,
          -34.6176481,
          -34.6023526,
          -34.5976419,
          -34.5443763617,
          -34.5974114,
          -34.604641,
          -34.6147916,
          -34.6253319,
          -34.5620844,
          -34.567984,
          -34.586557,
          -34.5907652,
          -34.5864871,
          -34.6054382,
          -34.6235,
          -34.6097224,
          -34.6264374,
          -34.6045568,
          -34.5972063,
          -34.597769,
          -34.634709,
          null,
          -34.5595420674,
          -34.597769,
          -34.5760392,
          -34.5742412,
          -34.600433,
          -34.6112232,
          -34.5692257148,
          -34.557808,
          -34.59741,
          -34.632917,
          -34.5691963,
          -34.651762,
          -34.6028196,
          -34.6022019,
          -34.56822,
          -34.5848617389,
          -34.6209278,
          -34.623771,
          -34.5597901,
          -34.582649,
          -34.6037137392,
          -34.5688504,
          -34.6738382,
          -34.6261244,
          -34.5862322,
          -34.593848,
          -34.5585253,
          -34.6086522,
          -34.5963329,
          -34.574537,
          null,
          -34.6316435,
          null,
          -34.622756,
          -34.5500232,
          -34.5602098434,
          -34.570884,
          -34.588369,
          -34.6037137392,
          -34.620195,
          -34.6039994,
          -34.6121896,
          -34.6160275,
          null,
          -34.637834,
          -34.573723,
          -34.6184962081,
          -34.5660741,
          -34.6149042601,
          -34.5720545,
          -34.6226764,
          -34.62818,
          -34.6074047747,
          -34.6374837,
          -34.6266172,
          -34.633464,
          -34.647382,
          -34.55826,
          -34.5999764,
          null,
          -34.5780621,
          -34.6135876,
          -34.5528589,
          -34.5435062,
          -34.5468894557,
          -34.556809,
          -34.6070921,
          -34.5856221,
          -34.5777784,
          -34.5817176348,
          -34.601282,
          -34.6205971,
          -34.627625,
          -34.6177615,
          -34.6037137392,
          -34.621321,
          -34.636179,
          -34.578362,
          -34.6085504575,
          -34.602153,
          -34.566885,
          -34.561966,
          -34.60808733,
          -34.6000747136,
          -34.617228,
          -34.603438,
          -34.5771094737,
          -34.602623,
          -34.5848012,
          -34.5917085,
          -34.622681,
          -34.601017,
          -34.622512,
          -34.6108831,
          -34.5596446354,
          -34.6038236,
          null,
          -34.6042164,
          -34.6307325,
          -34.554161,
          -34.6186349,
          -34.6507766,
          -34.56822,
          -34.6223398871,
          -34.629478,
          -34.6833842,
          -34.6063946,
          -34.6045779,
          -34.5706322,
          -34.583784587,
          -34.6087786,
          -34.6144978,
          -34.6119155,
          -34.5645773032,
          -34.5938779,
          -34.592467,
          -34.6261244,
          -34.607026,
          -34.602823,
          -34.5636949,
          -34.5624033,
          -34.6321116,
          -34.621654,
          -34.5757551,
          -34.6010624,
          -34.6213002,
          -34.5687875,
          -34.56822,
          -34.60662,
          -34.604293,
          -34.5966202515,
          -34.5894701,
          -34.618015,
          null,
          -34.605719,
          -34.5605705,
          -34.6392412,
          -34.5653042899,
          -34.626001,
          -34.5861558174,
          -34.5671171991,
          -34.6349102655,
          -34.552745,
          -34.621433,
          -34.6087862,
          -34.557199,
          -34.6222103,
          -34.613041,
          -34.558046,
          -34.6004038,
          -34.6037137392,
          -34.613702,
          -34.5766379926,
          -34.6156378,
          -34.6143545,
          -34.622264,
          -34.5975105,
          -34.5782727,
          -34.63099,
          -34.5742806,
          -34.604941,
          -34.58625,
          -34.6204532,
          -34.6000429,
          -34.5608555,
          -34.597255,
          -34.591999,
          -34.6073418,
          -34.5936389,
          -34.5688712,
          -34.604515,
          -34.574527,
          -34.600998,
          -34.6153103,
          -34.62818,
          -34.5915663,
          -34.6430209603,
          -34.6442238986,
          -34.562909,
          -34.555416,
          -34.6119796,
          -34.569335,
          -34.5731507,
          -34.56822,
          -34.643737,
          -34.631591,
          -34.562909,
          -34.611289,
          -34.6058536,
          -34.5675474818,
          -34.63099,
          -34.5714065,
          -34.589875,
          -34.6173477,
          -34.6157145,
          -34.5798552,
          -34.6244303,
          -34.6197085691,
          -34.63259,
          -34.6269253507,
          null,
          -34.597769,
          -34.5541654,
          -34.6047969,
          -34.577367,
          -34.5685575,
          -34.602432,
          -34.5707547,
          -34.6086686,
          -34.6315375,
          -34.6025011,
          -34.5549509,
          null,
          -34.5881967,
          -34.6321116,
          -34.6288131,
          -34.57304,
          -34.627792,
          -34.5684201,
          -34.6051279,
          -34.5884433,
          -34.5708216,
          -34.562803,
          -34.5658889,
          -34.631901,
          -34.5978398,
          -34.5881852,
          -34.5889201,
          -34.5451249855,
          -34.573034,
          -34.558509,
          -34.60808733,
          -34.632413,
          -34.6072023,
          -34.6057005,
          -34.6045547,
          -34.6076122891,
          -34.632656,
          -34.6226547,
          -34.6036844,
          -34.6112232,
          -34.5790338,
          -34.6215943543,
          -34.585554,
          -34.6185065,
          -34.572265,
          -34.5669885,
          null,
          -34.597713,
          -34.589548,
          null,
          -34.587097,
          -34.625307,
          -34.54179,
          -34.633021,
          -34.597769,
          -34.6206226,
          null,
          -34.5937992,
          -34.603514,
          -34.6302698,
          -34.6248691,
          null,
          -34.6223398871,
          -34.6177615,
          -34.5711496,
          -34.5613049,
          -34.598331,
          -34.6036844,
          -34.609929,
          -34.595955,
          -34.6027679,
          -34.600022,
          -34.6539485,
          -34.6200663,
          -34.586033,
          -34.5820910144,
          -34.598107,
          -34.6221405894,
          -34.5686264737,
          -34.5500517,
          -34.6100246,
          -34.5981047382,
          -34.6097193,
          -34.597769,
          -34.6186349,
          -34.5636408,
          -34.607587,
          -34.5907652,
          -34.5550983,
          -34.625227,
          -34.60144,
          -34.5538467,
          -34.619895,
          -34.5688712,
          -34.604459,
          -34.624942,
          -34.599565,
          -34.623337,
          -34.5681113,
          -34.5994246,
          -34.6177615,
          -34.616151,
          -34.63099,
          -34.5594061,
          -34.58489,
          -34.564511,
          -34.619474,
          -34.6177225707,
          null,
          -34.6401322,
          -34.5911955,
          -34.595787,
          -34.5696558,
          -34.6390703966,
          -34.6256602055,
          -34.584685,
          -34.6125,
          -34.590515,
          -34.6283,
          -34.6076685,
          -34.612872,
          -34.617073,
          -34.5987301,
          -34.6223362,
          -34.557199,
          -34.6036844,
          -34.598681,
          -34.5961213,
          -34.5905992,
          -34.610953,
          -34.5718369,
          null,
          -34.5933,
          -34.5816538,
          -34.6031379,
          -34.5625468307,
          -34.579783,
          -34.618893,
          -34.6027301,
          -34.5868037398,
          -34.6105529,
          -34.6214652,
          -34.5818853,
          -34.6123648,
          -34.60801,
          -34.5582269,
          -34.616431,
          null,
          -34.579968,
          -34.5989208629,
          -34.5636498,
          -34.610826,
          -34.5361079,
          -34.6187943,
          -34.60613,
          -34.5720808,
          -34.570884,
          null,
          -34.589548,
          -34.6014275,
          -34.6206226,
          -34.6285441,
          -34.6210893,
          -34.5832669927,
          -34.584164,
          -34.5813995,
          -34.6035545017,
          -34.6033089,
          -34.5708449,
          -34.5546708,
          -34.5614675664,
          -34.6264359,
          -34.5958969,
          -34.633333,
          -34.566505,
          -34.570884,
          -34.5893050405,
          -34.608668,
          -34.6000876,
          -34.582036,
          -34.601351,
          -34.557199,
          -34.6321116,
          -34.5907572,
          -34.6207377,
          -34.5938779,
          -34.5688712,
          -34.6264374,
          -34.60751283,
          -34.5605920994,
          -34.58423,
          -34.6244303,
          -34.5957547,
          -34.572721,
          -34.6162229,
          -34.584399,
          -34.5962954517,
          -34.6109202,
          null,
          -34.61335,
          -34.5741034,
          -34.544171,
          -34.5986211,
          -34.6031799,
          -34.6073418,
          -34.573917,
          -34.593335,
          -34.5775880586,
          -34.61174,
          -34.589809,
          -34.5536629526,
          -34.6111409182,
          -34.55982,
          -34.6014487472,
          -34.5986461,
          null,
          -34.5915663,
          -34.609502,
          -34.63003,
          -34.61321,
          -34.573525,
          -34.5548123,
          -34.5818364,
          -34.544171,
          -34.60171,
          -34.5829764,
          -34.609508,
          null,
          -34.5929249,
          -34.56537,
          -34.5611709,
          -34.6140891,
          -34.577044,
          -34.575922,
          null,
          -34.588209,
          -34.6172737911,
          -34.5701065701,
          -34.6130232,
          -34.597769,
          -34.5930858,
          -34.54179,
          -34.61601,
          -34.6153103,
          -34.6476061,
          -34.5898226,
          -34.6088594,
          -34.6268136,
          -34.6212444,
          -34.6177722,
          -34.621696,
          -34.616489,
          -34.6186575,
          -34.5537706,
          -34.5700969,
          -34.59793,
          -34.5991142,
          -34.6132199,
          -34.6132024,
          -34.6037137392,
          -34.5875191,
          -34.620318,
          -34.6227163,
          -34.6148839,
          -34.561036,
          -34.6096454,
          -34.5806183,
          -34.5495458,
          -34.6095979,
          -34.593335,
          -34.6063416,
          -34.599477,
          -34.6110666,
          -34.617048,
          -34.5746052,
          -34.619789,
          -34.6177615,
          -34.629398,
          -34.5900642,
          -34.5391519,
          -34.546659,
          -34.572721,
          null,
          -34.60672,
          -34.5925561,
          -34.58625,
          -34.5981394,
          -34.6244303,
          -34.586138,
          -34.606967,
          -34.6133619,
          -34.620698,
          -34.6070697666,
          -34.6127235,
          -34.6189485,
          -34.620556,
          -34.620043,
          -34.6148053,
          -34.576864,
          -34.617975,
          -34.609251,
          -34.61901,
          -34.5716907995,
          -34.596662,
          -34.6340028063,
          -34.6121231,
          -34.572721,
          -34.638122,
          -34.605735,
          -34.6233306,
          -34.6313393607,
          -34.5976889,
          -34.5861553,
          -34.5966566,
          -34.639048,
          -34.559446,
          -34.554374,
          -34.5553119,
          -34.58751,
          -34.5888889,
          -34.63295,
          -34.623868,
          -34.578237,
          -34.577857,
          -34.6118917,
          -34.592068,
          -34.6113922,
          -34.599055,
          -34.6033997612,
          -34.637834,
          -34.632076,
          -34.607036,
          -34.6378706,
          -34.6174473,
          -34.5677019,
          -34.6195076,
          -34.6107644,
          -34.5804014042,
          -34.6246107,
          -34.5898479,
          -34.5968099043,
          -34.6313504,
          -34.5560058,
          -34.5512502,
          -34.5514604244,
          -34.629394,
          -34.6535155,
          -34.6381014,
          -34.568528,
          -34.5859727,
          -34.6050004,
          -34.62818,
          -34.633449,
          -34.553811,
          -34.6031267,
          -34.5715462,
          -34.6316459,
          null,
          -34.567026,
          -34.610635,
          -34.6243555704,
          -34.5972185,
          -34.5602381374,
          -34.5495227,
          -34.549461,
          -34.5830691,
          -34.5620246,
          null,
          -34.6306674,
          -34.5786879,
          -34.595346,
          -34.6235,
          -34.5719003943,
          -34.5933706,
          -34.58751,
          -34.5843603,
          -34.593335,
          -34.5758276,
          -34.60615,
          -34.5663095,
          -34.595916,
          -34.560245,
          -34.6173646,
          -34.6414216,
          -34.5783349,
          -34.5493342,
          -34.6125496,
          -34.6234204,
          -34.5729256,
          -34.6312846,
          -34.583376,
          -34.602763873,
          null,
          -34.623632,
          -34.620556,
          -34.6148483,
          -34.5989732,
          -34.607026,
          null,
          -34.637261,
          -34.637834,
          -34.632917,
          -34.5564958379,
          -34.5742368234,
          -34.6046743299,
          -34.562086,
          -34.5936671,
          -34.6288527962,
          -34.6213248919,
          -34.598987,
          -34.596431,
          -34.578829,
          -34.6225465508,
          -34.5970138957,
          -34.6303559,
          -34.5627120494,
          -34.6251184,
          -34.6627068247,
          -34.5942724,
          -34.6168109,
          -34.6062543713,
          -34.6371937,
          -34.6304352,
          -34.623511,
          -34.602018189,
          -34.623749,
          -34.6036554,
          -34.571477,
          -34.6031267,
          -34.588209,
          -34.59475,
          -34.5572395,
          -34.5804119,
          -34.605789,
          -34.6150122,
          -34.6130871,
          -34.599703,
          -34.598107,
          -34.628105,
          -34.6256063,
          -34.605963,
          -34.5608635,
          -34.606182,
          -34.5538375,
          -34.625153,
          -34.6414041336,
          -34.5537438,
          -34.5978249,
          -34.5519973086,
          -34.5614806844,
          -34.643274,
          -34.5677584,
          -34.6116423,
          -34.5572395,
          -34.6331221,
          -34.587874,
          -34.593335,
          -34.648355,
          -34.613259,
          null,
          -34.578705,
          -34.594393,
          -34.5782365,
          -34.6025109,
          -34.6045835,
          -34.5609681,
          -34.5975665,
          -34.6206092,
          -34.5824698,
          -34.6210349,
          -34.6035293,
          -34.6072245,
          -34.623395,
          -34.5843603,
          -34.6296861,
          -34.6134686,
          -34.5838899,
          -34.5868243,
          -34.5990819676,
          -34.6243382284,
          -34.5942200865,
          -34.595311,
          -34.5909274,
          -34.579447,
          -34.636891,
          -34.6264374,
          -34.5961309,
          -34.5976786,
          -34.616328,
          -34.5632157,
          -34.5991285,
          -34.6140311,
          -34.6299244,
          -34.579164,
          -34.616027,
          -34.6444745,
          -34.617634,
          -34.631813,
          -34.5443763617,
          -34.620556,
          -34.5650308,
          -34.5972096913,
          -34.5658015878,
          -34.564511,
          -34.5953532,
          -34.6166811,
          -34.583705,
          -34.6005215,
          -34.6492032,
          -34.6120151,
          -34.5979106,
          -34.6244262,
          -34.5551536,
          -34.5492098,
          -34.5518,
          -34.5945010166,
          -34.5925,
          -34.62421,
          -34.6572422,
          -34.5862396,
          -34.6260802,
          -34.565648,
          -34.5529126,
          -34.5597901,
          -34.6455229,
          -34.607026,
          -34.564942,
          -34.5832446,
          -34.631255,
          -34.6044772,
          -34.5711476,
          -34.555317,
          -34.604524,
          -34.5796587,
          -34.6174533,
          -34.5893829666,
          -34.5814909,
          -34.615974,
          -34.6268056,
          -34.6031267,
          -34.599627,
          -34.5719528,
          -34.6135374,
          -34.5762386,
          -34.6195076,
          -34.597836,
          -34.62106,
          -34.6239658,
          -34.595587,
          -34.6117395,
          -34.6030744969,
          -34.60746,
          -34.6037137392,
          -34.626128,
          -34.6067575077,
          null,
          -34.5915564,
          -34.579282,
          -34.5998659,
          -34.5595205148,
          -34.6022218,
          -34.591568,
          -34.583374,
          -34.5985436,
          -34.5897591,
          -34.621749,
          -34.5787149,
          -34.60015,
          -34.5575196,
          -34.5446865,
          -34.627876,
          -34.5961219,
          -34.6120655,
          -34.6182787,
          -34.610376,
          -34.5611136,
          -34.620698,
          -34.5502714,
          -34.556652,
          -34.5883642,
          -34.6451582,
          -34.596812,
          -34.6212351809,
          -34.5904622,
          -34.6138007421,
          -34.572721,
          -34.5921362,
          -34.5600767,
          -34.599762,
          -34.600837,
          -34.5475074,
          -34.6176481,
          -34.6262815,
          -34.5620844,
          -34.600186,
          -34.609251,
          -34.5671066,
          -34.5515084,
          -34.5900264,
          -34.6220775573,
          -34.5998773,
          -34.597982,
          null,
          -34.6405283,
          -34.5562882,
          -34.6025627,
          -34.6120974507,
          -34.5982067,
          -34.6094846,
          -34.607709,
          -34.546881,
          null,
          -34.5680671,
          -34.6130871,
          -34.5706156,
          -34.5535295,
          -34.612287,
          -34.601017,
          -34.644418,
          -34.56365,
          -34.546659,
          -34.5546708,
          -34.551423,
          -34.637834,
          -34.6235515,
          -34.597982,
          -34.6545286023,
          -34.6169685,
          -34.62005,
          -34.6187853,
          -34.6014274,
          -34.5693072,
          -34.609224,
          -34.6223362,
          -34.617078,
          -34.6004652,
          -34.599703,
          null,
          -34.612287,
          -34.5848,
          -34.5945882,
          -34.5893636826,
          -34.5941029,
          -34.626103,
          -34.6054036854,
          -34.5764518,
          -34.6230511,
          -34.621886,
          -34.613793,
          -34.587185,
          -34.5708844,
          -34.6100367846,
          -34.566657,
          -34.5478587198,
          -34.5965218,
          -34.56822,
          -34.629394,
          -34.6022819,
          -34.6092240381,
          -34.631591,
          -34.588027,
          -34.6405283,
          -34.5681025805,
          -34.571868,
          -34.5773765152,
          -34.6363467,
          -34.6402929,
          -34.5504713308,
          -34.612256,
          -34.6011254,
          -34.6214357,
          -34.5817888,
          -34.5444571,
          -34.5915396158,
          -34.6529308,
          -34.5393691,
          -34.6162229,
          -34.62818,
          -34.6173646,
          -34.6404629,
          -34.6077796,
          -34.6295585,
          -34.617942,
          -34.5990666,
          -34.6266735,
          -34.5611737057,
          -34.597679,
          -34.5730996,
          -34.5834927888,
          -34.6482522,
          -34.5891506,
          -34.5519911111,
          -34.632174,
          -34.5661706,
          -34.5988783,
          -34.613475,
          -34.5985905,
          -34.609181,
          -34.588651,
          -34.6120655,
          -34.607622,
          -34.569129,
          -34.5849758,
          -34.5763161,
          -34.6487541,
          -34.574731,
          -34.570949,
          -34.595688,
          -34.5911764502,
          -34.6386217,
          -34.569335,
          -34.5429830084,
          -34.566673,
          -34.6123042,
          -34.5729833,
          -34.5806225,
          -34.58751,
          -34.6132024,
          -34.544171,
          -34.5451249855,
          -34.622464,
          -34.5413646,
          -34.6128601,
          -34.6202466,
          -34.5830769724,
          -34.6153103,
          -34.5574837,
          -34.640296,
          -34.6472257,
          -34.597769,
          -34.600022,
          -34.612413,
          null,
          -34.5525338,
          -34.5427503,
          -34.6116686,
          -34.556252,
          -34.5879217,
          -34.6032728,
          -34.609443,
          -34.5546333,
          -34.5594986,
          -34.573086,
          -34.5626326646,
          -34.5589976,
          -34.636481,
          -34.6405283,
          -34.5989832,
          -34.6215068,
          -34.634126,
          -34.627075,
          -34.615941,
          -34.6405283,
          -34.5768387,
          -34.5827642,
          -34.6109152181,
          -34.59043628,
          -34.6254543,
          -34.6321116,
          -34.544171,
          null,
          -34.628006345,
          -34.576762,
          -34.614854,
          -34.5900635,
          -34.609475,
          -34.595202,
          -34.5995784,
          -34.5653209202,
          -34.5978249,
          -34.6392656,
          -34.571326,
          -34.5425158316,
          -34.6450454708,
          -34.6181838,
          -34.6034481,
          -34.619859,
          -34.618324,
          -34.5784942,
          -34.6223398871,
          -34.6006829885,
          -34.5601975,
          -34.62868,
          -34.6288802,
          -34.5412087746,
          -34.6129863,
          -34.5755336,
          -34.6089061005,
          -34.6355627,
          -34.616182,
          -34.6076673,
          -34.5678925061,
          -34.599703,
          -34.6186588,
          -34.6044647,
          -34.5976607,
          -34.5829764,
          null,
          -34.633333,
          -34.568216,
          -34.6067327,
          -34.6322076,
          -34.610871,
          -34.6035914,
          -34.6172782,
          -34.5804062,
          -34.553164,
          -34.5900864,
          -34.5779844,
          -34.6405283,
          -34.662484,
          -34.637834,
          -34.6362315,
          -34.5716554,
          null,
          -34.6094812,
          -34.5897986,
          -34.6037137392,
          -34.6418117,
          -34.6320749,
          null,
          -34.6195604498,
          -34.6371994,
          -34.6028565,
          -34.62818,
          -34.5572596,
          -34.6212158,
          -34.634138,
          -34.573233,
          -34.6184458,
          -34.5897253,
          -34.611683,
          -34.59744,
          -34.576642,
          -34.5948568,
          -34.6214167,
          -34.5960788124,
          -34.61330943,
          -34.633744,
          -34.553225,
          -34.6355261,
          -34.5533369,
          -34.6244303,
          -34.5904622,
          -34.6366276954,
          -34.5652742,
          -34.6264093998,
          -34.5993957,
          -34.6154675138,
          -34.579799,
          -34.6377975,
          -34.5437117,
          -34.616495,
          -34.622597,
          -34.602799,
          -34.557431,
          -34.563863,
          -34.592378,
          -34.5496870424,
          -34.6011653,
          -34.621,
          -34.6037137392,
          -34.6186349,
          -34.636179,
          -34.6227163,
          -34.6153103,
          -34.6113322,
          -34.5931172,
          -34.5574754877,
          -34.5936142,
          -34.5889694,
          -34.614835,
          -34.6156698,
          -34.618459,
          -34.6324708,
          -34.577176,
          -34.586461,
          -34.5895459,
          -34.560857,
          -34.579844,
          -34.5943354,
          -34.5911545,
          null,
          -34.634408,
          -34.632079,
          -34.603444,
          -34.6157142,
          -34.5564985,
          -34.5884229,
          -34.636179,
          -34.6023228,
          -34.6050835,
          -34.6072776,
          -34.6383938,
          -34.547724,
          -34.6196851,
          -34.6031950994,
          -34.5892799682,
          -34.5989208629,
          -34.6036844,
          -34.602012,
          -34.6133497,
          -34.6159391,
          -34.5861207,
          -34.5930858,
          -34.6356025347,
          -34.626861,
          -34.6392588,
          -34.6119729,
          -34.592822,
          -34.631591,
          -34.6045547,
          -34.6240024,
          -34.601455,
          null
         ],
         "legendgroup": "",
         "lon": [
          -58.4546932614,
          -58.500115,
          -58.459957,
          -58.3823825,
          -58.4125107,
          -58.4272911,
          -58.423963,
          -58.4724630529,
          -58.4566864,
          -58.524277,
          -58.444045,
          -58.430668,
          -58.3926968,
          -58.4159718,
          -58.3897597,
          -58.4842066,
          -58.4039197,
          -58.4410115,
          -58.4470949374,
          -58.4931185,
          -58.4242176,
          -58.443838,
          -58.4124669,
          -58.371667,
          -58.46838,
          -58.4566864,
          -58.3909376,
          -58.4280921,
          -58.422687,
          -58.3975515537,
          -58.418703,
          -58.4652556,
          -58.4566753,
          -58.416152,
          -58.4019575,
          -58.417856,
          -58.455713,
          -58.4562243,
          -58.4401524326,
          -58.4095145,
          -58.431148,
          -58.478304,
          -58.4661541,
          -58.3791226,
          -58.39925557,
          null,
          -58.4042304,
          -58.4608111,
          -58.395407,
          null,
          -58.4646149,
          -58.3895203,
          -58.457941,
          -58.473409,
          -58.451825,
          -58.51298,
          -58.4444227,
          -58.5235778,
          -58.428002,
          -58.447624,
          -58.4541557,
          -58.4040959459,
          -58.465719,
          -58.4707613149,
          -58.4161104,
          -58.4733152,
          -58.3876241,
          -58.420179,
          -58.4556556,
          -58.461994,
          -58.4096918347,
          -58.4337562,
          -58.431945,
          -58.4717864,
          -58.4546542,
          -58.4801833,
          -58.3833629,
          -58.4313315,
          -58.4383160847,
          -58.5014288,
          -58.424402,
          -58.4637637,
          -58.384362,
          -58.5050324,
          -58.466095,
          -58.3696383829,
          -58.4255006,
          -58.482349,
          -58.4471452,
          -58.45364,
          -58.5010498,
          -58.4095956,
          -58.3985397,
          -58.43864,
          -58.3793374,
          -58.430083,
          -58.478951,
          -58.4975629,
          -58.426806,
          -58.4229282,
          -58.4271703,
          -58.473409,
          -58.498882,
          -58.376359,
          -58.4134843,
          -58.423024,
          null,
          -58.3815591,
          -58.449025,
          -58.4619167,
          -58.3966103021,
          -58.4611833,
          -58.4481081,
          -58.504636,
          -58.425019,
          -58.417856,
          -58.416439,
          -58.4320965,
          -58.425295,
          -58.485449,
          -58.4343171,
          -58.4365858,
          -58.4252038,
          -58.440083,
          null,
          -58.4884216,
          -58.389015,
          -58.455583,
          -58.4040591,
          -58.4112605,
          -58.4642925,
          -58.4423251,
          -58.43089266,
          -58.4208369,
          -58.4120075,
          -58.481222,
          -58.4002698,
          -58.5058609,
          -58.4057152,
          -58.449509,
          -58.4601452,
          -58.408834,
          -58.4057337,
          -58.452734,
          -58.4790724,
          -58.4611155,
          -58.4386944,
          -58.4247302,
          -58.442799,
          -58.470246,
          -58.4661483,
          -58.4687,
          -58.4537324,
          -58.482207,
          -58.3830086,
          -58.4674728,
          -58.5005212,
          -58.4204026,
          -58.4304234,
          -58.4787410582,
          -58.4147628,
          -58.3944425,
          -58.462375,
          -58.4497051,
          -58.4920942,
          -58.449588,
          -58.46867,
          -58.398267,
          -58.4747469,
          -58.4336199,
          -58.4054908953,
          -58.424131,
          -58.489151,
          -58.4884216,
          -58.4042052,
          -58.3940806918,
          null,
          -58.3918794,
          -58.3815808896,
          -58.442307,
          -58.458337,
          -58.474451,
          -58.429563,
          -58.418382,
          -58.3945161,
          -58.4184465,
          -58.4685759,
          -58.4029587,
          -58.43886,
          -58.510823,
          -58.4264703397,
          -58.4529212466,
          -58.4329775,
          -58.4803381387,
          -58.4350161,
          -58.4251966841,
          -58.4348718,
          -58.4253358,
          -58.458885,
          -58.383689,
          -58.36907,
          -58.437714,
          -58.474142,
          -58.388562,
          -58.4272911,
          -58.4619167,
          -58.4344367,
          -58.4887663,
          -58.4591152317,
          -58.4473135,
          -58.392341,
          -58.4061783,
          -58.4446144,
          -58.4566864,
          -58.4337562,
          -58.477121,
          -58.4172571,
          -58.401926,
          -58.413499,
          -58.3977,
          -58.430979,
          -58.4598574,
          -58.4297968,
          -58.4416496,
          -58.42644,
          -58.480246,
          null,
          -58.4640609983,
          -58.42644,
          -58.4569527,
          -58.4882355,
          -58.393042,
          -58.41567,
          -58.4890352239,
          -58.4519581,
          -58.375055,
          -58.370265,
          -58.4453972,
          -58.50547,
          -58.4050207,
          -58.3976113,
          -58.458337,
          -58.4892838222,
          -58.4458736,
          -58.440083,
          -58.4600378,
          -58.432937,
          -58.3815808896,
          -58.4550232,
          -58.5115799,
          -58.3859524,
          -58.4491936,
          -58.40036,
          -58.4513614,
          -58.4193876,
          -58.3748272,
          -58.4554388,
          null,
          -58.5192618,
          null,
          -58.443138,
          -58.4634115,
          -58.4438492037,
          -58.488694,
          -58.483862,
          -58.3815808896,
          -58.40405,
          -58.4557835,
          -58.4779525,
          -58.4673425,
          null,
          -58.503098,
          -58.489966,
          -58.4064497116,
          -58.4372368,
          -58.3981135774,
          -58.4745649,
          -58.3898616,
          -58.429483,
          -58.3907823249,
          -58.4601452,
          -58.4599658,
          -58.368463,
          -58.4772734,
          -58.478587,
          -58.4037104,
          null,
          -58.4952915,
          -58.4107896,
          -58.4702918,
          -58.4821436,
          -58.4786123121,
          -58.457834,
          -58.4306168,
          -58.4409353,
          -58.4351583,
          -58.4486236993,
          -58.418141,
          -58.4608572,
          -58.360648,
          -58.383662,
          -58.3815808896,
          -58.3982505,
          -58.439476,
          -58.449633,
          -58.4506525716,
          -58.412067,
          -58.451021,
          -58.46373,
          -58.43089266,
          -58.4032361233,
          -58.457265,
          -58.4364402,
          -58.4456268033,
          -58.440056,
          -58.4115472,
          -58.3969821,
          -58.395551,
          -58.4313746,
          -58.388768,
          -58.4003678,
          -58.4543498558,
          -58.4272911,
          null,
          -58.4351228,
          -58.4815962,
          -58.4905798,
          -58.478887,
          -58.5155958,
          -58.458337,
          -58.4085322312,
          -58.45214,
          -58.4750427,
          -58.4632121,
          -58.4231909,
          -58.4314264,
          -58.455382866,
          -58.430114,
          -58.38456,
          -58.411536,
          -58.4574136772,
          -58.429594,
          -58.410649,
          -58.3859524,
          -58.442438,
          -58.36824,
          -58.4581944,
          -58.4667165,
          -58.3703982,
          -58.440164,
          -58.4345373,
          -58.4376694,
          -58.4384732,
          -58.4966697,
          -58.458337,
          -58.4304928,
          -58.4063222,
          -58.3806085715,
          -58.4078757,
          -58.460499,
          null,
          -58.431068,
          -58.4590119,
          -58.478673,
          -58.4379652889,
          -58.462254,
          -58.4150055376,
          -58.4578875283,
          -58.4732609116,
          -58.462983,
          -58.390041,
          -58.4304906,
          -58.480847,
          -58.4043385,
          -58.43307,
          -58.460923,
          -58.4954328,
          -58.3815808896,
          -58.414297,
          -58.5080122948,
          -58.3904158,
          -58.3789342,
          -58.462749,
          -58.424968,
          -58.4305343,
          -58.4201892,
          -58.4346696,
          -58.468401,
          -58.504783,
          -58.4029587,
          -58.3782438,
          -58.4871561,
          -58.447667,
          -58.389566,
          -58.3907693,
          -58.5061652,
          -58.4884216,
          -58.437133,
          -58.4343949,
          -58.396175,
          -58.3619834,
          -58.429483,
          -58.5068965,
          -58.5109811153,
          -58.4573940742,
          -58.465303,
          -58.471774,
          -58.4222431,
          -58.4348693,
          -58.482362,
          -58.458337,
          -58.496761,
          -58.370191,
          -58.465303,
          -58.407316,
          -58.4384072,
          -58.4323055182,
          -58.4201892,
          -58.481306,
          -58.4771736,
          -58.4494039,
          -58.4170203,
          -58.4916429,
          -58.3741828,
          -58.3744502855,
          -58.468766,
          -58.3724840391,
          null,
          -58.42644,
          -58.4655168,
          -58.454126,
          -58.424845,
          -58.4534297,
          -58.395866,
          -58.5414898,
          -58.3976941,
          -58.4541557,
          -58.4663309,
          -58.4671186,
          null,
          -58.5014288,
          -58.3703982,
          -58.4722301,
          -58.479785,
          -58.360443,
          -58.4532923,
          -58.4394663,
          -58.4193632,
          -58.4487136,
          -58.487628,
          -58.4827765,
          -58.363538,
          -58.4249739,
          -58.4189702,
          -58.4002698,
          -58.4787020744,
          -58.479323,
          -58.451793,
          -58.43089266,
          -58.370082,
          -58.4035194,
          -58.3779666,
          -58.3802473,
          -58.4401524326,
          -58.461124,
          -58.3953694,
          -58.3815591,
          -58.41567,
          -58.438252,
          -58.388909319,
          -58.416574,
          -58.3797127,
          -58.494987,
          -58.4579254,
          null,
          -58.424199,
          -58.4193856,
          null,
          -58.412139,
          -58.415024,
          -58.476815,
          -58.370341,
          -58.42644,
          -58.3684327,
          null,
          -58.4128129,
          -58.4086976,
          -58.3743465,
          -58.4627352,
          null,
          -58.4085322312,
          -58.383662,
          -58.4232966,
          -58.4601782,
          -58.403728,
          -58.3815591,
          -58.415977,
          -58.447416,
          -58.4568995,
          -58.4175858,
          -58.393004,
          -58.3888229,
          -58.41367,
          -58.4133710234,
          -58.410285,
          -58.4587847804,
          -58.4496581554,
          -58.482934,
          -58.4239755,
          -58.4342551947,
          -58.4018129,
          -58.42644,
          -58.478887,
          -58.4903092,
          -58.4306631,
          -58.4172571,
          -58.4618776,
          -58.457758,
          -58.426881,
          -58.4920942,
          -58.430003,
          -58.4884216,
          -58.4067658,
          -58.4121112,
          -58.428431,
          -58.3977098,
          -58.4334831,
          -58.4079749,
          -58.383662,
          -58.50121,
          -58.4201892,
          -58.4559962,
          -58.419,
          -58.464647,
          -58.370813,
          -58.384115696,
          null,
          -58.4780661,
          -58.5080558,
          -58.43482,
          -58.4329632,
          -58.3693349267,
          -58.4318008844,
          -58.443003,
          -58.3833333,
          -58.4139364,
          -58.429794,
          -58.449767,
          -58.430264,
          -58.503334,
          -58.4352229,
          -58.4348699,
          -58.480847,
          -58.3815591,
          -58.4824163,
          -58.4460326,
          -58.4329758,
          -58.417757,
          -58.479947,
          null,
          -58.4921,
          -58.4684523,
          -58.4574031,
          -58.4444345762,
          -58.450549,
          -58.461994,
          -58.3969938,
          -58.4149373391,
          -58.4117165,
          -58.4045115,
          -58.495122,
          -58.4245924,
          -58.414779,
          -58.4583569,
          -58.500434,
          null,
          -58.432235,
          -58.4458254638,
          -58.4653792,
          -58.384776,
          -58.4671889,
          -58.3874589,
          -58.4741353,
          -58.4825026,
          -58.488694,
          null,
          -58.4193856,
          -58.4163254,
          -58.3684327,
          -58.3599534,
          -58.418407,
          -58.4445015453,
          -58.422439,
          -58.4493192,
          -58.4181036625,
          -58.3971897,
          -58.440518,
          -58.4673571,
          -58.4674706534,
          -58.3767255,
          -58.4715637,
          -58.466667,
          -58.450619,
          -58.4886936,
          -58.4092220489,
          -58.521697,
          -58.4195682,
          -58.451877,
          -58.396668,
          -58.480847,
          -58.3703982,
          -58.4354142,
          -58.4669447,
          -58.429594,
          -58.4884216,
          -58.4598574,
          -58.44421337,
          -58.4439501857,
          -58.4787009,
          -58.3741828,
          -58.3960642,
          -58.483565,
          -58.4184465,
          -58.425724,
          -58.4385510091,
          -58.416863,
          null,
          -58.38465,
          -58.4419019,
          -58.478875,
          -58.3714222,
          -58.394565,
          -58.3907693,
          -58.489945,
          -58.442214,
          -58.4963752416,
          -58.431977,
          -58.4463145,
          -58.4555330697,
          -58.3948150344,
          -58.481434,
          -58.3971252862,
          -58.39644,
          null,
          -58.5068965,
          -58.411796,
          -58.481137,
          -58.405661,
          -58.442896,
          -58.4396756,
          -58.4512878,
          -58.478875,
          -58.406754,
          -58.4208597,
          -58.51432,
          null,
          -58.4031336,
          -58.440363,
          -58.4658404,
          -58.4113361,
          -58.447738,
          -58.436826,
          null,
          -58.430014,
          -58.4154084613,
          -58.4762481502,
          -58.4403397,
          -58.42644,
          -58.4047026,
          -58.476815,
          -58.411101,
          -58.3619834,
          -58.4983902,
          -58.4176726,
          -58.4697774,
          -58.3742088,
          -58.4203257,
          -58.406557,
          -58.409414,
          -58.418777,
          -58.4011917,
          -58.4555007,
          -58.4323015,
          -58.3882455,
          -58.3945029,
          -58.4249296,
          -58.4330886,
          -58.3815808896,
          -58.4090566,
          -58.377252,
          -58.3915063,
          -58.363056,
          -58.465955,
          -58.4186777,
          -58.442037,
          -58.4541288,
          -58.4189946,
          -58.442214,
          -58.4464868,
          -58.430738,
          -58.4871486,
          -58.460831,
          -58.437618,
          -58.375994,
          -58.383662,
          -58.39985,
          -58.3919863,
          -58.4648529,
          -58.479767,
          -58.483565,
          null,
          -58.42761,
          -58.4309181,
          -58.504783,
          -58.486145,
          -58.3741828,
          -58.438585,
          -58.5157689,
          -58.38541,
          -58.4284928,
          -58.4445573958,
          -58.3927514,
          -58.5069368,
          -58.371667,
          -58.462678,
          -58.4769393,
          -58.448797,
          -58.460451,
          -58.431375,
          -58.377319,
          -58.4774176961,
          -58.407247,
          -58.5291707087,
          -58.3672281,
          -58.483565,
          -58.363254,
          -58.404241,
          -58.461768,
          -58.3739196904,
          -58.3795044,
          -58.4300609,
          -58.4381344,
          -58.521131,
          -58.468637,
          -58.46323,
          -58.4405232,
          -58.510665,
          -58.4305556,
          -58.373844,
          -58.369812,
          -58.433597,
          -58.495352,
          -58.3970302,
          -58.4334936,
          -58.373383,
          -58.478508,
          -58.3984088548,
          -58.503098,
          -58.3630584,
          -58.3667729,
          -58.3602495,
          -58.3752695,
          -58.4863498,
          -58.4780504,
          -58.4289207,
          -58.4418550761,
          -58.4513613,
          -58.4074028,
          -58.4419467474,
          -58.487992,
          -58.4779032,
          -58.4523873,
          -58.4677296433,
          -58.506856,
          -58.5229925,
          -58.4319068,
          -58.472028,
          -58.4148281,
          -58.4591789,
          -58.429483,
          -58.36955,
          -58.453759,
          -58.4410494,
          -58.4832391,
          -58.3629581,
          null,
          -58.438361,
          -58.443855,
          -58.4080709784,
          -58.3918557,
          -58.4436559523,
          -58.4692294,
          -58.471556,
          -58.4481004,
          -58.4580944,
          null,
          -58.4534846,
          -58.4573579,
          -58.441408,
          -58.404180217,
          -58.4744939153,
          -58.4422322,
          -58.510665,
          -58.453461,
          -58.442214,
          -58.4951948,
          -58.379495,
          -58.4703235,
          -58.408314,
          -58.44525,
          -58.4620706,
          -58.5276695,
          -58.4235097,
          -58.4543951,
          -58.4329772,
          -58.4122482,
          -58.4799238,
          -58.4679579,
          -58.4729872,
          -58.4331898201,
          null,
          -58.378348,
          -58.371667,
          -58.4604643,
          -58.4290863,
          -58.442438,
          null,
          -58.36907,
          -58.503098,
          -58.370265,
          -58.4890118641,
          -58.4725524607,
          -58.4019804129,
          -58.448357,
          -58.4452762,
          -58.4677935278,
          -58.3741378784,
          -58.376997,
          -58.379939,
          -58.479238,
          -58.4614326603,
          -58.4341279413,
          -58.4516335321,
          -58.4576464929,
          -58.3767435,
          -58.4704475068,
          -58.4949974,
          -58.4258977,
          -58.4028183069,
          -58.4391081,
          -58.4265762,
          -58.509718,
          -58.4312446717,
          -58.502625,
          -58.4167791,
          -58.4813,
          -58.4410494,
          -58.420379,
          -58.4398737,
          -58.4649269,
          -58.4295334,
          -58.419346,
          -58.4421941,
          -58.3813599,
          -58.407118,
          -58.410285,
          -58.4372342,
          -58.4535639,
          -58.429451,
          -58.4618463,
          -58.430659,
          -58.4403684,
          -58.38359,
          -58.3707143353,
          -58.4367477,
          -58.4164389,
          -58.4587302629,
          -58.4642091688,
          -58.373569,
          -58.4751802,
          -58.4465187,
          -58.4649269,
          -58.3610542,
          -58.439841,
          -58.442214,
          -58.456364,
          -58.441166,
          null,
          -58.489044,
          -58.3976095,
          -58.4234705,
          -58.4291235,
          -58.374937,
          -58.4758459,
          -58.4410115,
          -58.4608419,
          -58.4232882,
          -58.4175258,
          -58.4426917,
          -58.4299827,
          -58.483639,
          -58.453461,
          -58.4663085,
          -58.3624207,
          -58.446205,
          -58.4709285,
          -58.421941084,
          -58.4584291873,
          -58.4034886949,
          -58.441558,
          -58.394947,
          -58.440635,
          -58.488803,
          -58.4598574,
          -58.4388536,
          -58.4430195,
          -58.391476,
          -58.4749849,
          -58.4449945,
          -58.4248489,
          -58.4098381,
          -58.429177,
          -58.387466,
          -58.4959441,
          -58.418534,
          -58.461385,
          -58.4591152317,
          -58.371667,
          -58.4641786,
          -58.3975115243,
          -58.4373694328,
          -58.464647,
          -58.4361049,
          -58.3869394,
          -58.433254,
          -58.386201,
          -58.5101665,
          -58.3982749,
          -58.405999,
          -58.3973636,
          -58.4811299,
          -58.4622706,
          -58.490947,
          -58.397051867,
          -58.403827,
          -58.443412,
          -58.5029706,
          -58.387691,
          -58.4624526,
          -58.489172,
          -58.4575992,
          -58.4600378,
          -58.465639,
          -58.442438,
          -58.451742,
          -58.4557785,
          -58.370463,
          -58.4066461,
          -58.4808834,
          -58.4571433,
          -58.399445,
          -58.4766458,
          -58.4378953,
          -58.5113893259,
          -58.4483922,
          -58.438168,
          -58.4604629,
          -58.4410494,
          -58.430716,
          -58.4744428,
          -58.3875606,
          -58.4199784,
          -58.4780504,
          -58.430271,
          -58.377957,
          -58.3656092,
          -58.439307,
          -58.4739117,
          -58.452836385,
          -58.43891555,
          -58.3815808896,
          -58.377914,
          -58.4878228624,
          null,
          -58.4178288,
          -58.48918,
          -58.4489357,
          -58.4451138624,
          -58.3989723,
          -58.4135803,
          -58.494235,
          -58.5013981,
          -58.3938115,
          -58.384373,
          -58.4339876,
          -58.39287,
          -58.4741215,
          -58.4659096,
          -58.494816,
          -58.4255006,
          -58.4057337,
          -58.5005212,
          -58.443425,
          -58.4575457,
          -58.4284928,
          -58.4531919,
          -58.456717,
          -58.3900662,
          -58.4907929,
          -58.413727,
          -58.3610688508,
          -58.370987,
          -58.3924221222,
          -58.483565,
          -58.4118019,
          -58.4463618,
          -58.42598,
          -58.401234,
          -58.4842066,
          -58.4619167,
          -58.4538101,
          -58.4566864,
          -58.468359,
          -58.431375,
          -58.4723916,
          -58.4647326,
          -58.3939516,
          -58.4040959459,
          -58.4813819,
          -58.426876,
          null,
          -58.5294588,
          -58.4614498,
          -58.4419902,
          -58.4238887621,
          -58.4220727,
          -58.4186866,
          -58.392334,
          -58.478594,
          null,
          -58.4334097,
          -58.3813599,
          -58.4314047,
          -58.4495668,
          -58.422895,
          -58.4313746,
          -58.484017,
          -58.4653795,
          -58.479767,
          -58.4673571,
          -58.470333,
          -58.503098,
          -58.3740817,
          -58.426876,
          -58.4752734264,
          -58.3617114,
          -58.38813,
          -58.4791827,
          -58.4163257,
          -58.4872507,
          -58.434428,
          -58.4348699,
          -58.445013,
          -58.4425664,
          -58.407118,
          null,
          -58.422895,
          -58.44321,
          -58.4053642,
          -58.412877293,
          -58.4411813,
          -58.475046,
          -58.4056561914,
          -58.4844934,
          -58.3914916,
          -58.440034,
          -58.372411,
          -58.42378,
          -58.433121,
          -58.4787115886,
          -58.4806542,
          -58.4482092853,
          -58.3805667032,
          -58.458337,
          -58.506856,
          -58.4461524,
          -58.3914085034,
          -58.370191,
          -58.4064124,
          -58.5294588,
          -58.4715230625,
          -58.479967,
          -58.4323916563,
          -58.4738401,
          -58.5110887,
          -58.4668325353,
          -58.442176,
          -58.4059164,
          -58.4242883,
          -58.449509,
          -58.4790724,
          -58.3956232492,
          -58.5140048,
          -58.4660016,
          -58.4184465,
          -58.429483,
          -58.4620706,
          -58.5290105,
          -58.4687339,
          -58.4517693,
          -58.460455,
          -58.4134843,
          -58.3725333,
          -58.4518164111,
          -58.443019,
          -58.4389143,
          -58.4041347403,
          -58.4927109,
          -58.4501196,
          -58.482248988,
          -58.363038,
          -58.4491151,
          -58.4320965,
          -58.368732,
          -58.3726591,
          -58.502638,
          -58.430142,
          -58.4057337,
          -58.463009,
          -58.477082,
          -58.4156455,
          -58.4711951,
          -58.5002128,
          -58.478951,
          -58.434584,
          -58.4031864,
          -58.5083326486,
          -58.496227,
          -58.4348693,
          -58.4812108375,
          -58.479431,
          -58.4032943,
          -58.4388579,
          -58.41111,
          -58.510665,
          -58.4330886,
          -58.478875,
          -58.4787020744,
          -58.398128,
          -58.4633598,
          -58.4922702,
          -58.4165902,
          -58.422257979,
          -58.3619834,
          -58.4806697,
          -58.378665,
          -58.4923125,
          -58.42644,
          -58.4175858,
          -58.419328,
          null,
          -58.4512771,
          -58.4601452,
          -58.4115275,
          -58.468616,
          -58.3980672,
          -58.3961414,
          -58.362868,
          -58.4673952,
          -58.4451978,
          -58.432064,
          -58.4870649408,
          -58.4444811,
          -58.487153,
          -58.5294588,
          -58.4203432,
          -58.4464664,
          -58.3632,
          -58.42001,
          -58.439588,
          -58.5294588,
          -58.4291267,
          -58.4236582,
          -58.4299869233,
          -58.388643473,
          -58.4161104,
          -58.3703982,
          -58.478875,
          null,
          -58.4559750422,
          -58.446944,
          -58.373895,
          -58.4202297,
          -58.430443,
          -58.385799,
          -58.3714273,
          -58.4716025037,
          -58.4164389,
          -58.4786935,
          -58.4443183,
          -58.4764863962,
          -58.3734789316,
          -58.439478,
          -58.4243303,
          -58.397484,
          -58.436443,
          -58.4345008,
          -58.4085322312,
          -58.3965625594,
          -58.4583332,
          -58.460248,
          -58.3782469,
          -58.4656731747,
          -58.4328709,
          -58.433189,
          -58.4401600888,
          -58.4097415,
          -58.3926968,
          -58.4419894,
          -58.4433589619,
          -58.407118,
          -58.3859275,
          -58.4064736,
          -58.4304366,
          -58.4208597,
          null,
          -58.4,
          -58.459075,
          -58.4000164,
          -58.4851448,
          -58.38433,
          -58.440711,
          -58.3787392,
          -58.4811368,
          -58.473842,
          -58.4202008,
          -58.4493434,
          -58.5294588,
          -58.474313,
          -58.503098,
          -58.3755151,
          -58.5020382,
          null,
          -58.3957247,
          -58.4395131,
          -58.3815808896,
          -58.3683936,
          -58.363104,
          null,
          -58.4639646475,
          -58.4391556,
          -58.398429,
          -58.429483,
          -58.464972,
          -58.4035735,
          -58.462539,
          -58.479865,
          -58.4980726,
          -58.3936066,
          -58.407784,
          -58.433286,
          -58.431618,
          -58.3958389,
          -58.4103941,
          -58.4398719788,
          -58.4679249898,
          -58.448826,
          -58.475847,
          -58.3876425,
          -58.4573332,
          -58.3741828,
          -58.370987,
          -58.4884093545,
          -58.4715823,
          -58.4593235105,
          -58.4280986,
          -58.3843696368,
          -58.4296297,
          -58.5020085,
          -58.4621378,
          -58.367363,
          -58.4637637,
          -58.39699,
          -58.45778,
          -58.465312,
          -58.401003,
          -58.467528104,
          -58.4009468,
          -58.446765,
          -58.3815808896,
          -58.478887,
          -58.439476,
          -58.3915063,
          -58.3619834,
          -58.4210553,
          -58.4455382,
          -58.4805920344,
          -58.3800404,
          -58.3952626,
          -58.466307,
          -58.390599,
          -58.445054,
          -58.3620253,
          -58.43399,
          -58.450034,
          -58.3973636,
          -58.46749,
          -58.434225,
          -58.4404535,
          -58.5101735,
          null,
          -58.4504145,
          -58.3703766,
          -58.405713,
          -58.4170204,
          -58.4655923,
          -58.3864376,
          -58.439476,
          -58.4294044,
          -58.4608111,
          -58.4276358,
          -58.5058889,
          -58.477376,
          -58.4451096,
          -58.4215840161,
          -58.4367102754,
          -58.4458254638,
          -58.3815591,
          -58.496032,
          -58.38465,
          -58.4585423,
          -58.4143458,
          -58.4047026,
          -58.4401697804,
          -58.365227,
          -58.512946,
          -58.4072179,
          -58.3847959,
          -58.370191,
          -58.4182063,
          -58.3905883,
          -58.378132,
          null
         ],
         "marker": {
          "color": [
           129000,
           87000,
           118000,
           57000,
           90000,
           138000,
           114000,
           82000,
           166000,
           136500,
           75000,
           68000,
           80000,
           125000,
           120000,
           145000,
           95000,
           155000,
           300000,
           95000,
           82000,
           129000,
           280000,
           125151.86,
           103144.44,
           118885,
           190000,
           157000,
           119000,
           290000,
           149000,
           199000,
           74400,
           130000,
           140000,
           179869,
           89000,
           80000,
           40711.36,
           84000,
           110000,
           115000,
           137500,
           88000,
           115000,
           83000,
           107000,
           129500,
           160000,
           97000,
           84000,
           85000,
           90000,
           27279,
           230000,
           64900,
           90000,
           142200,
           140000,
           114000,
           122000,
           99969.74,
           80000,
           120000,
           112000,
           85000,
           150000,
           86500,
           92400,
           110000,
           122000,
           271000,
           170000,
           235000,
           165000,
           170000,
           84000,
           90000,
           140000,
           99000,
           95000,
           155000,
           147000,
           156000,
           79000,
           110000,
           158000,
           249000,
           146000,
           158000,
           92000,
           92000,
           99000,
           250000,
           112000,
           120000,
           189000,
           95000,
           116000,
           85000,
           71500,
           37983,
           110000,
           120000,
           90000,
           85000,
           95000,
           105000,
           58000,
           108432.25,
           250000,
           265000,
           79000,
           81360,
           108000,
           128260,
           136000,
           210000,
           130730.17,
           166000,
           156000,
           165000,
           76095.39,
           184000,
           133000,
           94635,
           184150,
           179500,
           64000,
           280000,
           106000,
           99000,
           105500,
           165000,
           120000,
           93000,
           149000,
           185000,
           57000,
           122000,
           181000,
           330000,
           150000,
           130000,
           115000,
           83850,
           195514.05,
           107000,
           189000,
           139500,
           92000,
           128000,
           230000,
           226000,
           107000,
           134000,
           97000,
           370000,
           82393.28,
           66605,
           110000,
           100000,
           52000,
           213000,
           215315.1,
           245000,
           124900,
           150000,
           122000,
           120000,
           84800,
           189900,
           128000,
           95164,
           125000,
           122000,
           60000,
           255000,
           99538,
           230000,
           110000,
           80000,
           133000,
           89500,
           175000,
           94300,
           162233.79,
           114998.09,
           199500,
           94000,
           125900,
           178000,
           152000,
           98000,
           125000,
           158000,
           150277,
           91814.31,
           195000,
           72000,
           84062.58,
           64900,
           131000,
           137000,
           138000,
           111530.32,
           159500,
           175000,
           309000,
           95000,
           73000,
           87000,
           73000,
           105485,
           382015,
           95700,
           174000,
           120000,
           120000,
           67000,
           122000,
           92082.74,
           83000,
           130000,
           139000,
           120000,
           111000,
           95000,
           221700,
           205000,
           90000,
           220000,
           125000,
           99000,
           132000,
           197900,
           78000,
           114000,
           100000,
           108600,
           157000,
           360877.62,
           60000,
           97000,
           136000,
           240000,
           142000,
           310000,
           103018,
           107000,
           101613.98,
           135000,
           119000,
           220000,
           185000,
           170000,
           227473.79,
           85000,
           150000,
           130000,
           175000,
           180000,
           331000,
           92000,
           93900,
           140000,
           78800,
           95000,
           155000,
           68000,
           145000,
           98000,
           94500,
           67600,
           195000,
           77000,
           298000,
           85000,
           109000,
           133000,
           72000,
           93327.01,
           63000,
           87000,
           64651.88,
           195000,
           260000,
           169500,
           129000,
           119000,
           88000,
           100306,
           97000,
           86000,
           90000,
           112677,
           145000,
           150000,
           210000,
           100000,
           76000,
           95568,
           175000,
           94000,
           195000,
           145000,
           159000,
           120000,
           350000,
           84500,
           115000,
           73800,
           130000,
           110000,
           132000,
           169000,
           189000,
           78000,
           138000,
           90000,
           62000,
           157000,
           138000,
           84000,
           88000,
           140000,
           198000,
           61770,
           92000,
           104310.53,
           157000,
           91606,
           85000,
           145000,
           120000,
           275000,
           75000,
           99500,
           53000,
           65000,
           210000,
           160000,
           85900,
           103000,
           137000,
           135000,
           119900,
           193000,
           102337.45,
           139000,
           290000,
           158000,
           140000,
           95800,
           233284.66,
           200000,
           75000,
           145000,
           295000,
           79500,
           123000,
           91500,
           135000,
           83000,
           180000,
           85000,
           380000,
           180000,
           137000,
           107500,
           143000,
           118000,
           176000,
           78397.32,
           230500,
           158000,
           165000,
           138000,
           152000,
           165000,
           78000,
           153000,
           105000,
           170000,
           140000,
           69458,
           110000,
           84000,
           105100,
           103981.68,
           160000,
           105000,
           73800,
           248000,
           133000,
           88000,
           112419,
           137000,
           200000,
           160000,
           174250,
           105700,
           268000,
           135000,
           84280,
           92304,
           220000,
           90000,
           265000,
           189302,
           314181.23,
           240000,
           102732.06,
           152638,
           78000,
           70000,
           205000,
           102000,
           145000,
           95000,
           73000,
           95000,
           90000,
           107720,
           105000,
           149900,
           299000,
           129900,
           222500,
           98000,
           109500,
           270000,
           99000,
           98900,
           88549.51,
           148000,
           174000,
           70000,
           149500,
           99000,
           94000,
           98720.12,
           83840,
           165000,
           125000,
           289000,
           119000,
           85000,
           142000,
           117000,
           78000,
           52000,
           92000,
           150000,
           135000,
           115000,
           115000,
           140000,
           105500,
           85000,
           99000,
           114000,
           79000,
           39461.74,
           115000,
           112000,
           91000,
           125000,
           138000,
           150000,
           157000,
           85000,
           80000,
           127000,
           74000,
           85800,
           202616,
           80000,
           279900,
           165700,
           146076,
           82000,
           154500,
           135000,
           170000,
           95000,
           95000,
           90000,
           240000,
           75000,
           255000,
           82000,
           127000,
           340000,
           124999,
           138000,
           160000,
           71900,
           115000,
           89000,
           90000,
           70000,
           210000,
           190000,
           140000,
           119000,
           187000,
           125000,
           75000,
           220000,
           150000,
           146000,
           55000,
           99500,
           123000,
           112000,
           195000,
           78000,
           72000,
           182042.34,
           187000,
           131216,
           130000,
           79000,
           105000,
           108223.82,
           205000,
           195000,
           80896.57,
           65900,
           66458,
           239000,
           95000,
           281170,
           93000,
           104400,
           96298.22,
           130000,
           95000,
           158000,
           290000,
           185000,
           130000,
           120000,
           85000,
           87000,
           88517,
           125000,
           145000,
           72000,
           152000,
           219235,
           158000,
           98000,
           148000,
           75000,
           199000,
           88498,
           99800,
           94000,
           87000,
           78000,
           88500,
           230000,
           87000,
           145000,
           119000,
           169000,
           67500,
           91781.43,
           80000,
           75000,
           81000,
           105000,
           130000,
           95000,
           183000,
           125000,
           162000,
           96000,
           109000,
           122000,
           120000,
           126800,
           89000,
           97000,
           190729,
           95000,
           118000,
           98000,
           130000,
           130000,
           177000,
           225000,
           245000,
           94000,
           152000,
           196000,
           142000,
           120000,
           141780,
           185000,
           105000,
           100924.45,
           279000,
           104999,
           76000,
           115000,
           90000,
           125000,
           84448.12,
           155000,
           130000,
           143000,
           89035,
           153979.85,
           70000,
           249900,
           124267,
           115079,
           120000,
           236132,
           92800,
           84000,
           160000,
           110000,
           98000,
           83500,
           130000,
           110760,
           145000,
           84000,
           133000,
           147000,
           93653,
           70000,
           115000,
           285000,
           150000,
           96000,
           205000,
           92107,
           142000,
           78800,
           210000,
           98500,
           85000,
           69000,
           90000,
           117000,
           170000,
           154112,
           86000,
           175000,
           95000,
           95000,
           190000,
           165000,
           85000,
           95000,
           98000,
           260000,
           215100,
           88000,
           90000,
           118000,
           154000,
           233200,
           245000,
           191134,
           114000,
           205095,
           123000,
           208000,
           190000,
           220000,
           140000,
           66458,
           199000,
           97000,
           88000,
           160000,
           279000,
           165000,
           99000,
           85000,
           120029.46,
           100000,
           280000,
           130000,
           73600,
           325000,
           79400,
           85000,
           330000,
           125000,
           119000,
           71899,
           88060,
           70000,
           85000,
           95000,
           285000,
           135000,
           112781.45,
           72900,
           230000,
           124000,
           130000,
           96189,
           190000,
           86000,
           135000,
           81500,
           110940,
           111359,
           140000,
           125000,
           84000,
           127000,
           79500,
           90000,
           105000,
           134827.61,
           98000,
           130000,
           220000,
           86400,
           90000,
           99000,
           220000,
           87000,
           82000,
           105000,
           226063,
           108000,
           83000,
           67000,
           75500,
           90000,
           120000,
           115000,
           91500,
           132000,
           145000,
           130000,
           114000,
           59815.05,
           220000,
           94900,
           189000,
           170000,
           125000,
           107000,
           203000,
           75000,
           70000,
           100000,
           80000,
           395000,
           85000,
           90000,
           71359.98,
           99300,
           129000,
           122000,
           98000,
           245000,
           215000,
           135000,
           97000,
           155000,
           181721.32,
           135000,
           65000,
           92500,
           149000,
           225000,
           109000,
           105300,
           125000,
           135500,
           95000,
           94000,
           82000,
           95300.1,
           150000,
           176000,
           70000,
           108000,
           185000,
           191000,
           179000,
           90000,
           180000,
           129000,
           145000,
           88000,
           276500,
           94905.48,
           183300,
           78100,
           146000,
           125000,
           76184,
           80000,
           84500,
           93000,
           93975,
           127000,
           105925.77,
           125000,
           104000,
           118000,
           148847,
           144000,
           149000,
           73000,
           75000,
           135000,
           146000,
           110000,
           78476.25,
           101808,
           105000,
           137000,
           80000,
           90123.38,
           165000,
           127000,
           100200,
           115000,
           120000,
           270000,
           75000,
           88657.38,
           69000,
           85000,
           165000,
           99800,
           135000,
           184000,
           84000,
           159000,
           95000,
           60000,
           110000,
           75000,
           99000,
           115000,
           230000,
           84500,
           92000,
           75600,
           109000,
           205000,
           93500,
           159900,
           154500,
           118000,
           197000,
           80000,
           177000,
           83000,
           85000,
           131500,
           130000,
           95000,
           118000,
           148000,
           116479.68,
           138000,
           74900,
           150000,
           155000,
           136000,
           175000,
           190000,
           68000,
           120000,
           85000,
           92000,
           110000,
           138500,
           74676,
           62000,
           135000,
           82000,
           235000,
           240000,
           190000,
           149500,
           73000,
           96000,
           165000,
           160000,
           91200,
           89000,
           93000,
           110000,
           79000,
           140000,
           84900,
           390000,
           145000,
           89000,
           85000,
           185000,
           135000,
           99900,
           272000,
           275000,
           170000,
           144693.05,
           159500,
           149000,
           80000,
           74500,
           125000,
           183000,
           169500,
           132000,
           65000,
           47972.65,
           89000,
           112000,
           309000,
           76661.01,
           180000,
           175000,
           114000,
           109472,
           129000,
           115000,
           115000,
           75000,
           130000,
           145000,
           185000,
           122000,
           120000,
           250000,
           85330.88,
           260000,
           175000,
           176000,
           87000,
           320000,
           120000,
           93000,
           241900,
           240000,
           90000,
           143000,
           138000,
           115000,
           158356,
           150000,
           190000,
           350000,
           75000,
           159000,
           175000,
           119000,
           210000,
           79800,
           176000,
           97500,
           75000,
           85000,
           160000,
           185000,
           92200,
           165000,
           167000,
           151800,
           149900,
           155000,
           85000,
           81900,
           240000,
           80000,
           105000,
           85000,
           102500,
           115000,
           148000,
           359950,
           85000,
           95000,
           151000,
           74000,
           300000,
           65000,
           185000,
           250000,
           239000,
           180000,
           92000,
           148000,
           150000,
           72000,
           128000,
           136000,
           120000,
           220000,
           166000,
           330000,
           92500,
           112000,
           180000,
           102921,
           135000,
           99306,
           190000,
           340000,
           86900,
           92000,
           145000,
           120637.7,
           125000,
           149000,
           173000,
           156000,
           110207,
           143000,
           125000,
           93392.78,
           145000,
           165000,
           60000,
           145000,
           168500,
           139500,
           155000,
           120000,
           70000,
           70000,
           93000,
           115400,
           195000,
           95000,
           175000,
           320000,
           214073,
           138000,
           77500,
           189500,
           148000,
           193000,
           130000,
           165000,
           138159,
           157000,
           105000,
           352000,
           75000,
           85000,
           94700,
           300000,
           123200,
           220000,
           145000,
           155000,
           85000,
           69000,
           102167,
           85000,
           102000,
           158000,
           135000,
           95000,
           135000,
           90000,
           84500,
           89000,
           63000,
           185000,
           260000,
           75050,
           95000,
           115000,
           79500,
           233284.66,
           185000,
           119000,
           124000,
           109506.33,
           150000,
           150000,
           110000,
           195000,
           166793,
           95000,
           165000,
           153000,
           169900,
           78900,
           89900,
           121000,
           125000,
           290000,
           175000,
           268000,
           84900,
           123400,
           108868.17,
           260000,
           71000,
           180000,
           84500,
           90000,
           160000,
           180000,
           74800,
           103587.07,
           270000,
           72000,
           73000,
           300000,
           140000,
           115000,
           210000,
           115000,
           105000,
           90000,
           175000,
           150000,
           70000,
           105000,
           232000,
           200000,
           92625,
           131000,
           245000,
           235000,
           123000,
           98000,
           178000,
           92000,
           120000,
           100000,
           165000,
           208000,
           146000,
           162911.22,
           113360,
           115000,
           105000,
           158000,
           97000,
           89500,
           210000,
           179375,
           165000,
           172000,
           88000,
           216500,
           89000,
           188000,
           395000,
           106000,
           220000,
           130000,
           179500,
           239000,
           122907.6,
           319000,
           265000,
           125000,
           140000,
           115000,
           197000,
           150000,
           200000,
           82500,
           80000,
           58000,
           82988.04,
           179000,
           145000,
           165000,
           193000,
           117500,
           193500,
           112000,
           88986.22,
           110760,
           73900,
           144900,
           155000,
           162000,
           195000,
           105000,
           95000,
           82500,
           80000,
           143000,
           110000,
           139000,
           96500,
           150000,
           80000,
           125000,
           108000,
           164900,
           150000,
           149000,
           68000,
           330000,
           135000,
           110000,
           149000,
           149000,
           179500,
           63500,
           120000,
           80000,
           105000,
           240000,
           85000,
           60000,
           112000,
           90000,
           176900,
           112677,
           72000,
           130000,
           125000,
           69000,
           138000,
           93000,
           99000,
           225000,
           123000,
           265000,
           134000,
           150000,
           59000,
           165000,
           145000,
           87000,
           55000,
           169000,
           135000,
           137000,
           65000,
           89000,
           141300,
           125000,
           106250,
           126000,
           97500,
           120000,
           71361,
           115000,
           82000,
           155000,
           170000,
           110000,
           190000,
           178000,
           235000,
           85000,
           130000,
           90000,
           120000,
           105000,
           90000,
           120000,
           126446,
           79447,
           36173.26,
           224000,
           144693.05,
           140000,
           75000,
           134000,
           164000,
           147000,
           175000,
           155000,
           89000,
           168000,
           85000,
           156000,
           149000,
           59000,
           138000,
           185000,
           59640,
           100000,
           73600,
           205095,
           215000,
           77000,
           168000,
           160000,
           315000,
           95000,
           115000,
           100000,
           170000,
           215000,
           120000,
           310000,
           158000,
           175000,
           200000,
           117620,
           210000,
           140000,
           147733,
           149500,
           95100,
           170000,
           350000,
           98000,
           195000,
           129500,
           75000,
           185000,
           99000,
           249000,
           230000,
           105000,
           125000,
           104000,
           90000,
           84500,
           125000,
           210000,
           245000,
           171900,
           78000,
           63000,
           135000,
           143100,
           73536.95,
           119000,
           62000,
           125000,
           78000
          ],
          "coloraxis": "coloraxis"
         },
         "mode": "markers",
         "name": "",
         "showlegend": false,
         "subplot": "mapbox",
         "type": "scattermapbox"
        }
       ],
       "layout": {
        "coloraxis": {
         "colorbar": {
          "title": {
           "text": "price_aprox_usd"
          }
         },
         "colorscale": [
          [
           0,
           "#0d0887"
          ],
          [
           0.1111111111111111,
           "#46039f"
          ],
          [
           0.2222222222222222,
           "#7201a8"
          ],
          [
           0.3333333333333333,
           "#9c179e"
          ],
          [
           0.4444444444444444,
           "#bd3786"
          ],
          [
           0.5555555555555556,
           "#d8576b"
          ],
          [
           0.6666666666666666,
           "#ed7953"
          ],
          [
           0.7777777777777778,
           "#fb9f3a"
          ],
          [
           0.8888888888888888,
           "#fdca26"
          ],
          [
           1,
           "#f0f921"
          ]
         ]
        },
        "height": 600,
        "legend": {
         "tracegroupgap": 0
        },
        "mapbox": {
         "center": {
          "lat": -34.598543360627154,
          "lon": -58.436828443482845
         },
         "domain": {
          "x": [
           0,
           1
          ],
          "y": [
           0,
           1
          ]
         },
         "style": "open-street-map",
         "zoom": 8
        },
        "margin": {
         "t": 60
        },
        "template": {
         "data": {
          "bar": [
           {
            "error_x": {
             "color": "#2a3f5f"
            },
            "error_y": {
             "color": "#2a3f5f"
            },
            "marker": {
             "line": {
              "color": "#E5ECF6",
              "width": 0.5
             },
             "pattern": {
              "fillmode": "overlay",
              "size": 10,
              "solidity": 0.2
             }
            },
            "type": "bar"
           }
          ],
          "barpolar": [
           {
            "marker": {
             "line": {
              "color": "#E5ECF6",
              "width": 0.5
             },
             "pattern": {
              "fillmode": "overlay",
              "size": 10,
              "solidity": 0.2
             }
            },
            "type": "barpolar"
           }
          ],
          "carpet": [
           {
            "aaxis": {
             "endlinecolor": "#2a3f5f",
             "gridcolor": "white",
             "linecolor": "white",
             "minorgridcolor": "white",
             "startlinecolor": "#2a3f5f"
            },
            "baxis": {
             "endlinecolor": "#2a3f5f",
             "gridcolor": "white",
             "linecolor": "white",
             "minorgridcolor": "white",
             "startlinecolor": "#2a3f5f"
            },
            "type": "carpet"
           }
          ],
          "choropleth": [
           {
            "colorbar": {
             "outlinewidth": 0,
             "ticks": ""
            },
            "type": "choropleth"
           }
          ],
          "contour": [
           {
            "colorbar": {
             "outlinewidth": 0,
             "ticks": ""
            },
            "colorscale": [
             [
              0,
              "#0d0887"
             ],
             [
              0.1111111111111111,
              "#46039f"
             ],
             [
              0.2222222222222222,
              "#7201a8"
             ],
             [
              0.3333333333333333,
              "#9c179e"
             ],
             [
              0.4444444444444444,
              "#bd3786"
             ],
             [
              0.5555555555555556,
              "#d8576b"
             ],
             [
              0.6666666666666666,
              "#ed7953"
             ],
             [
              0.7777777777777778,
              "#fb9f3a"
             ],
             [
              0.8888888888888888,
              "#fdca26"
             ],
             [
              1,
              "#f0f921"
             ]
            ],
            "type": "contour"
           }
          ],
          "contourcarpet": [
           {
            "colorbar": {
             "outlinewidth": 0,
             "ticks": ""
            },
            "type": "contourcarpet"
           }
          ],
          "heatmap": [
           {
            "colorbar": {
             "outlinewidth": 0,
             "ticks": ""
            },
            "colorscale": [
             [
              0,
              "#0d0887"
             ],
             [
              0.1111111111111111,
              "#46039f"
             ],
             [
              0.2222222222222222,
              "#7201a8"
             ],
             [
              0.3333333333333333,
              "#9c179e"
             ],
             [
              0.4444444444444444,
              "#bd3786"
             ],
             [
              0.5555555555555556,
              "#d8576b"
             ],
             [
              0.6666666666666666,
              "#ed7953"
             ],
             [
              0.7777777777777778,
              "#fb9f3a"
             ],
             [
              0.8888888888888888,
              "#fdca26"
             ],
             [
              1,
              "#f0f921"
             ]
            ],
            "type": "heatmap"
           }
          ],
          "heatmapgl": [
           {
            "colorbar": {
             "outlinewidth": 0,
             "ticks": ""
            },
            "colorscale": [
             [
              0,
              "#0d0887"
             ],
             [
              0.1111111111111111,
              "#46039f"
             ],
             [
              0.2222222222222222,
              "#7201a8"
             ],
             [
              0.3333333333333333,
              "#9c179e"
             ],
             [
              0.4444444444444444,
              "#bd3786"
             ],
             [
              0.5555555555555556,
              "#d8576b"
             ],
             [
              0.6666666666666666,
              "#ed7953"
             ],
             [
              0.7777777777777778,
              "#fb9f3a"
             ],
             [
              0.8888888888888888,
              "#fdca26"
             ],
             [
              1,
              "#f0f921"
             ]
            ],
            "type": "heatmapgl"
           }
          ],
          "histogram": [
           {
            "marker": {
             "pattern": {
              "fillmode": "overlay",
              "size": 10,
              "solidity": 0.2
             }
            },
            "type": "histogram"
           }
          ],
          "histogram2d": [
           {
            "colorbar": {
             "outlinewidth": 0,
             "ticks": ""
            },
            "colorscale": [
             [
              0,
              "#0d0887"
             ],
             [
              0.1111111111111111,
              "#46039f"
             ],
             [
              0.2222222222222222,
              "#7201a8"
             ],
             [
              0.3333333333333333,
              "#9c179e"
             ],
             [
              0.4444444444444444,
              "#bd3786"
             ],
             [
              0.5555555555555556,
              "#d8576b"
             ],
             [
              0.6666666666666666,
              "#ed7953"
             ],
             [
              0.7777777777777778,
              "#fb9f3a"
             ],
             [
              0.8888888888888888,
              "#fdca26"
             ],
             [
              1,
              "#f0f921"
             ]
            ],
            "type": "histogram2d"
           }
          ],
          "histogram2dcontour": [
           {
            "colorbar": {
             "outlinewidth": 0,
             "ticks": ""
            },
            "colorscale": [
             [
              0,
              "#0d0887"
             ],
             [
              0.1111111111111111,
              "#46039f"
             ],
             [
              0.2222222222222222,
              "#7201a8"
             ],
             [
              0.3333333333333333,
              "#9c179e"
             ],
             [
              0.4444444444444444,
              "#bd3786"
             ],
             [
              0.5555555555555556,
              "#d8576b"
             ],
             [
              0.6666666666666666,
              "#ed7953"
             ],
             [
              0.7777777777777778,
              "#fb9f3a"
             ],
             [
              0.8888888888888888,
              "#fdca26"
             ],
             [
              1,
              "#f0f921"
             ]
            ],
            "type": "histogram2dcontour"
           }
          ],
          "mesh3d": [
           {
            "colorbar": {
             "outlinewidth": 0,
             "ticks": ""
            },
            "type": "mesh3d"
           }
          ],
          "parcoords": [
           {
            "line": {
             "colorbar": {
              "outlinewidth": 0,
              "ticks": ""
             }
            },
            "type": "parcoords"
           }
          ],
          "pie": [
           {
            "automargin": true,
            "type": "pie"
           }
          ],
          "scatter": [
           {
            "marker": {
             "colorbar": {
              "outlinewidth": 0,
              "ticks": ""
             }
            },
            "type": "scatter"
           }
          ],
          "scatter3d": [
           {
            "line": {
             "colorbar": {
              "outlinewidth": 0,
              "ticks": ""
             }
            },
            "marker": {
             "colorbar": {
              "outlinewidth": 0,
              "ticks": ""
             }
            },
            "type": "scatter3d"
           }
          ],
          "scattercarpet": [
           {
            "marker": {
             "colorbar": {
              "outlinewidth": 0,
              "ticks": ""
             }
            },
            "type": "scattercarpet"
           }
          ],
          "scattergeo": [
           {
            "marker": {
             "colorbar": {
              "outlinewidth": 0,
              "ticks": ""
             }
            },
            "type": "scattergeo"
           }
          ],
          "scattergl": [
           {
            "marker": {
             "colorbar": {
              "outlinewidth": 0,
              "ticks": ""
             }
            },
            "type": "scattergl"
           }
          ],
          "scattermapbox": [
           {
            "marker": {
             "colorbar": {
              "outlinewidth": 0,
              "ticks": ""
             }
            },
            "type": "scattermapbox"
           }
          ],
          "scatterpolar": [
           {
            "marker": {
             "colorbar": {
              "outlinewidth": 0,
              "ticks": ""
             }
            },
            "type": "scatterpolar"
           }
          ],
          "scatterpolargl": [
           {
            "marker": {
             "colorbar": {
              "outlinewidth": 0,
              "ticks": ""
             }
            },
            "type": "scatterpolargl"
           }
          ],
          "scatterternary": [
           {
            "marker": {
             "colorbar": {
              "outlinewidth": 0,
              "ticks": ""
             }
            },
            "type": "scatterternary"
           }
          ],
          "surface": [
           {
            "colorbar": {
             "outlinewidth": 0,
             "ticks": ""
            },
            "colorscale": [
             [
              0,
              "#0d0887"
             ],
             [
              0.1111111111111111,
              "#46039f"
             ],
             [
              0.2222222222222222,
              "#7201a8"
             ],
             [
              0.3333333333333333,
              "#9c179e"
             ],
             [
              0.4444444444444444,
              "#bd3786"
             ],
             [
              0.5555555555555556,
              "#d8576b"
             ],
             [
              0.6666666666666666,
              "#ed7953"
             ],
             [
              0.7777777777777778,
              "#fb9f3a"
             ],
             [
              0.8888888888888888,
              "#fdca26"
             ],
             [
              1,
              "#f0f921"
             ]
            ],
            "type": "surface"
           }
          ],
          "table": [
           {
            "cells": {
             "fill": {
              "color": "#EBF0F8"
             },
             "line": {
              "color": "white"
             }
            },
            "header": {
             "fill": {
              "color": "#C8D4E3"
             },
             "line": {
              "color": "white"
             }
            },
            "type": "table"
           }
          ]
         },
         "layout": {
          "annotationdefaults": {
           "arrowcolor": "#2a3f5f",
           "arrowhead": 0,
           "arrowwidth": 1
          },
          "autotypenumbers": "strict",
          "coloraxis": {
           "colorbar": {
            "outlinewidth": 0,
            "ticks": ""
           }
          },
          "colorscale": {
           "diverging": [
            [
             0,
             "#8e0152"
            ],
            [
             0.1,
             "#c51b7d"
            ],
            [
             0.2,
             "#de77ae"
            ],
            [
             0.3,
             "#f1b6da"
            ],
            [
             0.4,
             "#fde0ef"
            ],
            [
             0.5,
             "#f7f7f7"
            ],
            [
             0.6,
             "#e6f5d0"
            ],
            [
             0.7,
             "#b8e186"
            ],
            [
             0.8,
             "#7fbc41"
            ],
            [
             0.9,
             "#4d9221"
            ],
            [
             1,
             "#276419"
            ]
           ],
           "sequential": [
            [
             0,
             "#0d0887"
            ],
            [
             0.1111111111111111,
             "#46039f"
            ],
            [
             0.2222222222222222,
             "#7201a8"
            ],
            [
             0.3333333333333333,
             "#9c179e"
            ],
            [
             0.4444444444444444,
             "#bd3786"
            ],
            [
             0.5555555555555556,
             "#d8576b"
            ],
            [
             0.6666666666666666,
             "#ed7953"
            ],
            [
             0.7777777777777778,
             "#fb9f3a"
            ],
            [
             0.8888888888888888,
             "#fdca26"
            ],
            [
             1,
             "#f0f921"
            ]
           ],
           "sequentialminus": [
            [
             0,
             "#0d0887"
            ],
            [
             0.1111111111111111,
             "#46039f"
            ],
            [
             0.2222222222222222,
             "#7201a8"
            ],
            [
             0.3333333333333333,
             "#9c179e"
            ],
            [
             0.4444444444444444,
             "#bd3786"
            ],
            [
             0.5555555555555556,
             "#d8576b"
            ],
            [
             0.6666666666666666,
             "#ed7953"
            ],
            [
             0.7777777777777778,
             "#fb9f3a"
            ],
            [
             0.8888888888888888,
             "#fdca26"
            ],
            [
             1,
             "#f0f921"
            ]
           ]
          },
          "colorway": [
           "#636efa",
           "#EF553B",
           "#00cc96",
           "#ab63fa",
           "#FFA15A",
           "#19d3f3",
           "#FF6692",
           "#B6E880",
           "#FF97FF",
           "#FECB52"
          ],
          "font": {
           "color": "#2a3f5f"
          },
          "geo": {
           "bgcolor": "white",
           "lakecolor": "white",
           "landcolor": "#E5ECF6",
           "showlakes": true,
           "showland": true,
           "subunitcolor": "white"
          },
          "hoverlabel": {
           "align": "left"
          },
          "hovermode": "closest",
          "mapbox": {
           "style": "light"
          },
          "paper_bgcolor": "white",
          "plot_bgcolor": "#E5ECF6",
          "polar": {
           "angularaxis": {
            "gridcolor": "white",
            "linecolor": "white",
            "ticks": ""
           },
           "bgcolor": "#E5ECF6",
           "radialaxis": {
            "gridcolor": "white",
            "linecolor": "white",
            "ticks": ""
           }
          },
          "scene": {
           "xaxis": {
            "backgroundcolor": "#E5ECF6",
            "gridcolor": "white",
            "gridwidth": 2,
            "linecolor": "white",
            "showbackground": true,
            "ticks": "",
            "zerolinecolor": "white"
           },
           "yaxis": {
            "backgroundcolor": "#E5ECF6",
            "gridcolor": "white",
            "gridwidth": 2,
            "linecolor": "white",
            "showbackground": true,
            "ticks": "",
            "zerolinecolor": "white"
           },
           "zaxis": {
            "backgroundcolor": "#E5ECF6",
            "gridcolor": "white",
            "gridwidth": 2,
            "linecolor": "white",
            "showbackground": true,
            "ticks": "",
            "zerolinecolor": "white"
           }
          },
          "shapedefaults": {
           "line": {
            "color": "#2a3f5f"
           }
          },
          "ternary": {
           "aaxis": {
            "gridcolor": "white",
            "linecolor": "white",
            "ticks": ""
           },
           "baxis": {
            "gridcolor": "white",
            "linecolor": "white",
            "ticks": ""
           },
           "bgcolor": "#E5ECF6",
           "caxis": {
            "gridcolor": "white",
            "linecolor": "white",
            "ticks": ""
           }
          },
          "title": {
           "x": 0.05
          },
          "xaxis": {
           "automargin": true,
           "gridcolor": "white",
           "linecolor": "white",
           "ticks": "",
           "title": {
            "standoff": 15
           },
           "zerolinecolor": "white",
           "zerolinewidth": 2
          },
          "yaxis": {
           "automargin": true,
           "gridcolor": "white",
           "linecolor": "white",
           "ticks": "",
           "title": {
            "standoff": 15
           },
           "zerolinecolor": "white",
           "zerolinewidth": 2
          }
         }
        },
        "width": 600
       }
      }
     },
     "metadata": {},
     "output_type": "display_data"
    }
   ],
   "source": [
    "fig = px.scatter_mapbox(\n",
    "    df,  # Our DataFrame\n",
    "    lat='lat',\n",
    "    lon='lon',\n",
    "    width=600,  # Width of map\n",
    "    height=600,  # Height of map\n",
    "    color='price_aprox_usd',\n",
    "    hover_data=[\"price_aprox_usd\"],  # Display price when hovering mouse over house\n",
    ")\n",
    "\n",
    "fig.update_layout(mapbox_style=\"open-street-map\")\n",
    "\n",
    "fig.show()"
   ]
  },
  {
   "attachments": {},
   "cell_type": "markdown",
   "metadata": {},
   "source": [
    "We create another column which contains the neighborhood that the apartments lie in. We will split the `place_with_parent_names` to get the neighborhood names"
   ]
  },
  {
   "cell_type": "code",
   "execution_count": 35,
   "metadata": {},
   "outputs": [
    {
     "data": {
      "text/plain": [
       "4          Chacarita\n",
       "9         Villa Luro\n",
       "29         Caballito\n",
       "40      Constitución\n",
       "41              Once\n",
       "            ...     \n",
       "8589        Barracas\n",
       "8590         Almagro\n",
       "8593        Barracas\n",
       "8601     San Nicolás\n",
       "8604           Boedo\n",
       "Name: neighborhood, Length: 1343, dtype: object"
      ]
     },
     "execution_count": 35,
     "metadata": {},
     "output_type": "execute_result"
    }
   ],
   "source": [
    "df['neighborhood']"
   ]
  },
  {
   "attachments": {},
   "cell_type": "markdown",
   "metadata": {},
   "source": [
    "# Data Exploration"
   ]
  },
  {
   "cell_type": "code",
   "execution_count": 36,
   "metadata": {},
   "outputs": [
    {
     "name": "stdout",
     "output_type": "stream",
     "text": [
      "<class 'pandas.core.frame.DataFrame'>\n",
      "Int64Index: 1343 entries, 4 to 8604\n",
      "Data columns (total 17 columns):\n",
      " #   Column                      Non-Null Count  Dtype  \n",
      "---  ------                      --------------  -----  \n",
      " 0   operation                   1343 non-null   object \n",
      " 1   property_type               1343 non-null   object \n",
      " 2   price                       1343 non-null   float64\n",
      " 3   currency                    1343 non-null   object \n",
      " 4   price_aprox_local_currency  1343 non-null   float64\n",
      " 5   price_aprox_usd             1343 non-null   float64\n",
      " 6   surface_total_in_m2         965 non-null    float64\n",
      " 7   surface_covered_in_m2       1343 non-null   float64\n",
      " 8   price_usd_per_m2            927 non-null    float64\n",
      " 9   price_per_m2                1343 non-null   float64\n",
      " 10  floor                       379 non-null    float64\n",
      " 11  rooms                       1078 non-null   float64\n",
      " 12  expenses                    349 non-null    object \n",
      " 13  properati_url               1343 non-null   object \n",
      " 14  lat                         1300 non-null   float64\n",
      " 15  lon                         1300 non-null   float64\n",
      " 16  neighborhood                1343 non-null   object \n",
      "dtypes: float64(11), object(6)\n",
      "memory usage: 188.9+ KB\n"
     ]
    }
   ],
   "source": [
    "df.info()"
   ]
  },
  {
   "attachments": {},
   "cell_type": "markdown",
   "metadata": {},
   "source": [
    "We first deal with missing data. While we can remove rows that have missing data, it's not preferable as the more data we have the better the model. We will remove any columns that have more than 50% of the data missing"
   ]
  },
  {
   "cell_type": "code",
   "execution_count": 39,
   "metadata": {},
   "outputs": [
    {
     "name": "stdout",
     "output_type": "stream",
     "text": [
      "<class 'pandas.core.frame.DataFrame'>\n",
      "Int64Index: 1343 entries, 4 to 8604\n",
      "Data columns (total 15 columns):\n",
      " #   Column                      Non-Null Count  Dtype  \n",
      "---  ------                      --------------  -----  \n",
      " 0   operation                   1343 non-null   object \n",
      " 1   property_type               1343 non-null   object \n",
      " 2   price                       1343 non-null   float64\n",
      " 3   currency                    1343 non-null   object \n",
      " 4   price_aprox_local_currency  1343 non-null   float64\n",
      " 5   price_aprox_usd             1343 non-null   float64\n",
      " 6   surface_total_in_m2         965 non-null    float64\n",
      " 7   surface_covered_in_m2       1343 non-null   float64\n",
      " 8   price_usd_per_m2            927 non-null    float64\n",
      " 9   price_per_m2                1343 non-null   float64\n",
      " 10  rooms                       1078 non-null   float64\n",
      " 11  properati_url               1343 non-null   object \n",
      " 12  lat                         1300 non-null   float64\n",
      " 13  lon                         1300 non-null   float64\n",
      " 14  neighborhood                1343 non-null   object \n",
      "dtypes: float64(10), object(5)\n",
      "memory usage: 167.9+ KB\n"
     ]
    }
   ],
   "source": [
    "df.info()"
   ]
  },
  {
   "attachments": {},
   "cell_type": "markdown",
   "metadata": {},
   "source": [
    "We removed 2 columns from our data: expenses and floor"
   ]
  },
  {
   "attachments": {},
   "cell_type": "markdown",
   "metadata": {},
   "source": [
    "Next we look at categorical columns with **low** and **high cardinality**. If a catergorical features are the same or unique for every observation, it won't have much meaning during training as it doesn't give us any useful information."
   ]
  },
  {
   "cell_type": "code",
   "execution_count": 40,
   "metadata": {},
   "outputs": [
    {
     "data": {
      "text/plain": [
       "operation           1\n",
       "property_type       1\n",
       "currency            2\n",
       "properati_url    1343\n",
       "neighborhood       53\n",
       "dtype: int64"
      ]
     },
     "execution_count": 40,
     "metadata": {},
     "output_type": "execute_result"
    }
   ],
   "source": [
    "df.select_dtypes(\"object\").nunique()"
   ]
  },
  {
   "attachments": {},
   "cell_type": "markdown",
   "metadata": {},
   "source": [
    "We will remove `operation`, `property_type` and `properati_url`. For `currency` although it's not the same for every observation, but it has only to values: USD and local currency, we will also remove it"
   ]
  },
  {
   "cell_type": "code",
   "execution_count": 44,
   "metadata": {},
   "outputs": [
    {
     "data": {
      "text/plain": [
       "neighborhood    53\n",
       "dtype: int64"
      ]
     },
     "execution_count": 44,
     "metadata": {},
     "output_type": "execute_result"
    }
   ],
   "source": [
    "df.select_dtypes(\"object\").nunique()"
   ]
  },
  {
   "cell_type": "code",
   "execution_count": 45,
   "metadata": {},
   "outputs": [
    {
     "name": "stdout",
     "output_type": "stream",
     "text": [
      "<class 'pandas.core.frame.DataFrame'>\n",
      "Int64Index: 1343 entries, 4 to 8604\n",
      "Data columns (total 11 columns):\n",
      " #   Column                      Non-Null Count  Dtype  \n",
      "---  ------                      --------------  -----  \n",
      " 0   price                       1343 non-null   float64\n",
      " 1   price_aprox_local_currency  1343 non-null   float64\n",
      " 2   price_aprox_usd             1343 non-null   float64\n",
      " 3   surface_total_in_m2         965 non-null    float64\n",
      " 4   surface_covered_in_m2       1343 non-null   float64\n",
      " 5   price_usd_per_m2            927 non-null    float64\n",
      " 6   price_per_m2                1343 non-null   float64\n",
      " 7   rooms                       1078 non-null   float64\n",
      " 8   lat                         1300 non-null   float64\n",
      " 9   lon                         1300 non-null   float64\n",
      " 10  neighborhood                1343 non-null   object \n",
      "dtypes: float64(10), object(1)\n",
      "memory usage: 125.9+ KB\n"
     ]
    }
   ],
   "source": [
    "df.info()"
   ]
  },
  {
   "attachments": {},
   "cell_type": "markdown",
   "metadata": {},
   "source": [
    "We then remove leakage, columns that were created using our target variable: `price`, `price_aprox_local_currency`, `price_usd_per_m2`, `price_per_m2`"
   ]
  },
  {
   "cell_type": "code",
   "execution_count": 49,
   "metadata": {},
   "outputs": [
    {
     "name": "stdout",
     "output_type": "stream",
     "text": [
      "<class 'pandas.core.frame.DataFrame'>\n",
      "Int64Index: 1343 entries, 4 to 8604\n",
      "Data columns (total 7 columns):\n",
      " #   Column                 Non-Null Count  Dtype  \n",
      "---  ------                 --------------  -----  \n",
      " 0   price_aprox_usd        1343 non-null   float64\n",
      " 1   surface_total_in_m2    965 non-null    float64\n",
      " 2   surface_covered_in_m2  1343 non-null   float64\n",
      " 3   rooms                  1078 non-null   float64\n",
      " 4   lat                    1300 non-null   float64\n",
      " 5   lon                    1300 non-null   float64\n",
      " 6   neighborhood           1343 non-null   object \n",
      "dtypes: float64(6), object(1)\n",
      "memory usage: 83.9+ KB\n"
     ]
    }
   ],
   "source": [
    "df.info()"
   ]
  },
  {
   "attachments": {},
   "cell_type": "markdown",
   "metadata": {},
   "source": [
    "Lastly, we look for multicollinearity. We will only keep one features if there are strong correlation bewteen features as they basically mean the same thing"
   ]
  },
  {
   "cell_type": "code",
   "execution_count": 50,
   "metadata": {},
   "outputs": [
    {
     "data": {
      "text/plain": [
       "<AxesSubplot:>"
      ]
     },
     "execution_count": 50,
     "metadata": {},
     "output_type": "execute_result"
    },
    {
     "data": {
      "image/png": "[encoded data removed]",
      "text/plain": [
       "<Figure size 432x288 with 2 Axes>"
      ]
     },
     "metadata": {
      "needs_background": "light"
     },
     "output_type": "display_data"
    }
   ],
   "source": [
    "sns.heatmap(df.corr(), annot=True)"
   ]
  },
  {
   "attachments": {},
   "cell_type": "markdown",
   "metadata": {},
   "source": [
    "Since `surface_total_in_m2`, `surface_covered_in_m2` and `rooms` have high correlation with each other, we will only keep one of them: `surface_covered_in_m2`"
   ]
  },
  {
   "cell_type": "code",
   "execution_count": 54,
   "metadata": {},
   "outputs": [
    {
     "data": {
      "text/plain": [
       "<AxesSubplot:>"
      ]
     },
     "execution_count": 54,
     "metadata": {},
     "output_type": "execute_result"
    },
    {
     "data": {
      "image/png": "[encoded data removed]",
      "text/plain": [
       "<Figure size 432x288 with 2 Axes>"
      ]
     },
     "metadata": {
      "needs_background": "light"
     },
     "output_type": "display_data"
    }
   ],
   "source": [
    "sns.heatmap(df.corr(), annot=True)"
   ]
  },
  {
   "cell_type": "code",
   "execution_count": 11,
   "metadata": {},
   "outputs": [
    {
     "data": {
      "text/plain": [
       "['data\\\\buenos-aires-real-estate-1.csv',\n",
       " 'data\\\\buenos-aires-real-estate-2.csv',\n",
       " 'data\\\\buenos-aires-real-estate-3.csv',\n",
       " 'data\\\\buenos-aires-real-estate-4.csv',\n",
       " 'data\\\\buenos-aires-real-estate-5.csv']"
      ]
     },
     "execution_count": 11,
     "metadata": {},
     "output_type": "execute_result"
    }
   ],
   "source": [
    "files = glob(\"data/buenos-aires-real-estate-*.csv\")\n",
    "files"
   ]
  },
  {
   "cell_type": "code",
   "execution_count": 12,
   "metadata": {},
   "outputs": [
    {
     "name": "stdout",
     "output_type": "stream",
     "text": [
      "<class 'pandas.core.frame.DataFrame'>\n",
      "RangeIndex: 6582 entries, 0 to 6581\n",
      "Data columns (total 5 columns):\n",
      " #   Column                 Non-Null Count  Dtype  \n",
      "---  ------                 --------------  -----  \n",
      " 0   price_aprox_usd        6582 non-null   float64\n",
      " 1   surface_covered_in_m2  6582 non-null   float64\n",
      " 2   lat                    6316 non-null   float64\n",
      " 3   lon                    6316 non-null   float64\n",
      " 4   neighborhood           6582 non-null   object \n",
      "dtypes: float64(4), object(1)\n",
      "memory usage: 257.2+ KB\n",
      "None\n"
     ]
    },
    {
     "data": {
      "text/html": [
       "<div>\n",
       "<style scoped>\n",
       "    .dataframe tbody tr th:only-of-type {\n",
       "        vertical-align: middle;\n",
       "    }\n",
       "\n",
       "    .dataframe tbody tr th {\n",
       "        vertical-align: top;\n",
       "    }\n",
       "\n",
       "    .dataframe thead th {\n",
       "        text-align: right;\n",
       "    }\n",
       "</style>\n",
       "<table border=\"1\" class=\"dataframe\">\n",
       "  <thead>\n",
       "    <tr style=\"text-align: right;\">\n",
       "      <th></th>\n",
       "      <th>price_aprox_usd</th>\n",
       "      <th>surface_covered_in_m2</th>\n",
       "      <th>lat</th>\n",
       "      <th>lon</th>\n",
       "      <th>neighborhood</th>\n",
       "    </tr>\n",
       "  </thead>\n",
       "  <tbody>\n",
       "    <tr>\n",
       "      <th>0</th>\n",
       "      <td>129000.0</td>\n",
       "      <td>70.0</td>\n",
       "      <td>-34.584651</td>\n",
       "      <td>-58.454693</td>\n",
       "      <td>Chacarita</td>\n",
       "    </tr>\n",
       "    <tr>\n",
       "      <th>1</th>\n",
       "      <td>87000.0</td>\n",
       "      <td>42.0</td>\n",
       "      <td>-34.638979</td>\n",
       "      <td>-58.500115</td>\n",
       "      <td>Villa Luro</td>\n",
       "    </tr>\n",
       "    <tr>\n",
       "      <th>2</th>\n",
       "      <td>118000.0</td>\n",
       "      <td>54.0</td>\n",
       "      <td>-34.615847</td>\n",
       "      <td>-58.459957</td>\n",
       "      <td>Caballito</td>\n",
       "    </tr>\n",
       "    <tr>\n",
       "      <th>3</th>\n",
       "      <td>57000.0</td>\n",
       "      <td>42.0</td>\n",
       "      <td>-34.625222</td>\n",
       "      <td>-58.382382</td>\n",
       "      <td>Constitución</td>\n",
       "    </tr>\n",
       "    <tr>\n",
       "      <th>4</th>\n",
       "      <td>90000.0</td>\n",
       "      <td>50.0</td>\n",
       "      <td>-34.610610</td>\n",
       "      <td>-58.412511</td>\n",
       "      <td>Once</td>\n",
       "    </tr>\n",
       "  </tbody>\n",
       "</table>\n",
       "</div>"
      ],
      "text/plain": [
       "   price_aprox_usd  surface_covered_in_m2        lat        lon  neighborhood\n",
       "0         129000.0                   70.0 -34.584651 -58.454693     Chacarita\n",
       "1          87000.0                   42.0 -34.638979 -58.500115    Villa Luro\n",
       "2         118000.0                   54.0 -34.615847 -58.459957     Caballito\n",
       "3          57000.0                   42.0 -34.625222 -58.382382  Constitución\n",
       "4          90000.0                   50.0 -34.610610 -58.412511          Once"
      ]
     },
     "execution_count": 12,
     "metadata": {},
     "output_type": "execute_result"
    }
   ],
   "source": [
    "frames = [wrangle(file) for file in files]\n",
    "df = pd.concat(frames, ignore_index = True)\n",
    "print(df.info())\n",
    "df.head()"
   ]
  },
  {
   "cell_type": "code",
   "execution_count": 13,
   "metadata": {},
   "outputs": [],
   "source": [
    "df.to_csv('data/buenos-aires-real-estate-clean.csv')"
   ]
  }
 ],
 "metadata": {
  "kernelspec": {
   "display_name": "Python 3",
   "language": "python",
   "name": "python3"
  },
  "language_info": {
   "codemirror_mode": {
    "name": "ipython",
    "version": 3
   },
   "file_extension": ".py",
   "mimetype": "text/x-python",
   "name": "python",
   "nbconvert_exporter": "python",
   "pygments_lexer": "ipython3",
   "version": "3.10.7"
  },
  "orig_nbformat": 4
 },
 "nbformat": 4,
 "nbformat_minor": 2
}
